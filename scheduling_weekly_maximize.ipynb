{
 "cells": [
  {
   "cell_type": "code",
   "execution_count": null,
   "id": "864abd19",
   "metadata": {},
   "outputs": [],
   "source": [
    "from ortools.sat.python import cp_model\n",
    "import pandas as pd\n",
    "import plotly.express as px"
   ]
  },
  {
   "cell_type": "code",
   "execution_count": null,
   "id": "dabb64ac",
   "metadata": {},
   "outputs": [],
   "source": [
    "### Variables ###"
   ]
  },
  {
   "cell_type": "code",
   "execution_count": null,
   "id": "0d4527e7",
   "metadata": {},
   "outputs": [],
   "source": [
    "days = range(5) ###Eventually model will be extended to a month or year\n",
    "#sessions = range(17)\n",
    "sessions = range(19)\n",
    "tracers = range(4)\n",
    "scanners = range(2)\n",
    "\n",
    "pib_mk_weight=3\n",
    "mk_pib_weight=3\n",
    "mk_concur_weight=3\n",
    "pib_concur_weight=3\n",
    "\n",
    "###TODO: Add variable for staff schedules; Design matrix?\n",
    "#Human Readable\n",
    "day_names = [\"Mon\",\"Tues\",\"Wed\",\"Thurs\",\"Fri\"]\n",
    "#sess_names = [\"08:00 - 10:00\",\"08:30 - 10:30\",\"09:00 - 11:00\",\n",
    "#             \"09:30 - 11:30\",\"10:00 - 12:00\",\"10:30 - 12:30\",\n",
    "#             \"11:00 - 13:00\",\"11:30 - 13:30\",\"12:00 - 14:00\",\n",
    "#             \"12:30 - 14:30\",\"13:00 - 15:00\",\"13:30 - 15:30\",\n",
    "#             \"14:00 - 16:00\",\"14:30 - 16:30\",\"15:00 - 17:00\",\n",
    "#             \"15:30 - 17:30\",\"16:00 - 18:00\"]\n",
    "#Added 2 sessions\n",
    "sess_names = [\"08:00 - 08:30\",\"08:30 - 09:00\",\"09:00 - 09:30\",\n",
    "             \"09:30 - 10:00\",\"10:00 - 10:30\",\"10:30 - 11:00\",\n",
    "             \"11:00 - 11:30\",\"11:30 - 12:00\",\"12:00 - 12:30\",\n",
    "             \"12:30 - 13:00\",\"13:00 - 13:30\",\"13:30 - 14:00\",\n",
    "             \"14:00 - 14:30\",\"14:30 - 15:00\",\"15:00 - 15:30\",\n",
    "             \"15:30 - 16:00\",\"16:00 - 16:30\",\"16:30 - 17:00\",\n",
    "              \"17:00 - 17:30\"]\n",
    "tracer_names = [\"PIB\",\"AV1451\",\"MK6240\",\"UCB-J\"]\n",
    "scan_durations = {\"PIB\":3,\"AV1451\":3,\"MK6240\":2,\"UCB-J\":3}\n",
    "tracer_isotopes = {\"PIB\":\"11C\",\"AV1451\":\"18F\",\"MK6240\":\"18F\",\"UCB-J\":\"11C\"}\n",
    "scanner_names = [\"ECAT HR+\",\"Biograph Horizon\"]"
   ]
  },
  {
   "cell_type": "code",
   "execution_count": null,
   "id": "0c002eab",
   "metadata": {},
   "outputs": [],
   "source": [
    "###TODOs###\n",
    "#Adjust for 30 min sessions - adjust constraints so tracers take up appropriate number of sessions\n",
    "#Adjust rules discussed with Finn\n",
    "#Give preference to 13:30 UCB-J over all others\n",
    "#Use desing matrix to allow uses to block off sessions"
   ]
  },
  {
   "cell_type": "code",
   "execution_count": null,
   "id": "0ce1d268",
   "metadata": {},
   "outputs": [],
   "source": [
    "### No use for design matrix yet but could be used to \n",
    "#weight individual sessions\n",
    "\n",
    "design_matrix = []\n",
    "#sessions\n",
    "sessions_design = [1]*len(sessions)\n",
    "#days\n",
    "days_design = []\n",
    "for day in range(len(days)):\n",
    "    days_design.append(sessions_design)\n",
    "#tracers\n",
    "tracers_design = []\n",
    "for tracer in range(len(tracers)):\n",
    "    tracers_design.append(days_design)\n",
    "#scanners\n",
    "for scanner in range(len(scanners)):\n",
    "    design_matrix.append(tracers_design)\n",
    "#print(design_matrix)\n",
    "#design_matrix[p][t][d][s]"
   ]
  },
  {
   "cell_type": "code",
   "execution_count": null,
   "id": "d9e058c9",
   "metadata": {},
   "outputs": [],
   "source": [
    "### Creates the model CP Model: \n",
    "#https://developers.google.com/optimization/reference/python/sat/python/cp_model\n",
    "model = cp_model.CpModel()"
   ]
  },
  {
   "cell_type": "code",
   "execution_count": null,
   "id": "7b243f46",
   "metadata": {},
   "outputs": [],
   "source": [
    "### Decision Variables ###"
   ]
  },
  {
   "cell_type": "code",
   "execution_count": null,
   "id": "7121f335",
   "metadata": {},
   "outputs": [],
   "source": [
    "#Add new variable for each combination of days, sessions, tracers\n",
    "#Each day,session,tracer is a Bool of whether day/session/tracer is\n",
    "#instance is scheduled or not\n",
    "x = {}\n",
    "for p in scanners:\n",
    "    for t in tracers:\n",
    "        for d in days:\n",
    "            for s in sessions:\n",
    "                x[(t,d,s,p)] = model.NewBoolVar(\n",
    "                    \"{}{}{}{}\".format(tracer_names[t],\n",
    "                                      day_names[d],\n",
    "                                      sess_names[s],\n",
    "                                      scanner_names[p]))"
   ]
  },
  {
   "cell_type": "code",
   "execution_count": null,
   "id": "14a255b9",
   "metadata": {},
   "outputs": [],
   "source": [
    "#Decision Variables to link outcomes/concurrent end states"
   ]
  },
  {
   "cell_type": "code",
   "execution_count": null,
   "id": "9d8cc886",
   "metadata": {},
   "outputs": [],
   "source": [
    "#Allows us to sum instances when a PIB scan is followed by an MK6240 scan in the same day\n",
    "#Consider removing t1 and t2 since do not change and not necessary; more readable though?\n",
    "pib = tracer_names.index(\"PIB\")\n",
    "mk = tracer_names.index(\"MK6240\")\n",
    "pib_dur=scan_durations[\"PIB\"]\n",
    "mk_dur=scan_durations[\"MK6240\"]\n",
    "pib_mk_sess_by_day = {}\n",
    "for p in scanners:\n",
    "    for s in sessions:\n",
    "        for t in [pib,mk]:\n",
    "            for d  in days:\n",
    "                pib_mk_sess_by_day[(t,s,d,p)] = model.NewBoolVar(\"{}{}{}{}\".format(tracer_names[t],\n",
    "                                                                                   day_names[d],\n",
    "                                                                                   sess_names[s],\n",
    "                                                                                   scanner_names[p]))\n",
    "                \n",
    "###Could remove extra variables for MK sessions before 12:30 or 11:30 Mondays\n",
    "###Add variables for PIB Followed by MK\n",
    "pib_mk_concur={}             \n",
    "for p in scanners:\n",
    "    for s1 in range(len(sessions)-mk_dur): #avoid sessions that could not be followed by an MK6240 scan\n",
    "        for s2 in range(s1+pib_dur,len(sessions)): #MK6240 scan must start after end of PIB\n",
    "            pib_mk_concur[(pib,s1,mk,s2,p)] = model.NewBoolVar(\"{};{}{};{}{}\".format(tracer_names[pib],\n",
    "                                                                                     sess_names[s1],\n",
    "                                                                                     tracer_names[mk],\n",
    "                                                                                     sess_names[s2],\n",
    "                                                                                     scanner_names[p]))\n",
    "pib_mk_same_day={}\n",
    "#For same participant splits where a PIB is followed by an MK6240 in the same day\n",
    "for p in scanners:\n",
    "    for s1 in range(len(sessions)-mk_dur): #avoid sessions that could not be followed by an MK6240 scan\n",
    "        for s2 in range(s1+pib_dur,len(sessions)): #MK6240 scan must start after end of PIB\n",
    "            for d in days:\n",
    "                pib_mk_same_day[(pib,s1,d,mk,s2,d,p)] = model.NewBoolVar(\"{}:{}{};;{}:{}{}\".format(tracer_names[pib],\n",
    "                                                                                                sess_names[s1],\n",
    "                                                                                                day_names[d],\n",
    "                                                                                                tracer_names[mk],\n",
    "                                                                                                sess_names[s2],\n",
    "                                                                                                day_names[d],\n",
    "                                                                                                scanner_names[p]))         \n",
    "            \n",
    "###Could remove extra variables for MK sessions before 12:30 or 11:30 Mondays\n",
    "###Add variables for MK Followed by PIB\n",
    "mk_pib_concur={}             \n",
    "for p in scanners:\n",
    "    for s1 in range(8,len(sessions)): #avoid sessions that could not be followed by an MK6240 scan\n",
    "        for s2 in range(len(sessions)-10): #MK6240 scan must start after end of PIB\n",
    "            mk_pib_concur[(mk,s1,pib,s2,p)] = model.NewBoolVar(\"{};{}{};{}{}\".format(tracer_names[mk],\n",
    "                                                                                     sess_names[s1],\n",
    "                                                                                     tracer_names[pib],\n",
    "                                                                                     sess_names[s2],\n",
    "                                                                                     scanner_names[p]))\n",
    "mk_then_pib={}\n",
    "#For splits with an afternoon MK6240 scan followed by a next day, morning PIB\n",
    "for p in scanners:\n",
    "    for s1 in range(8,len(sessions)): #MK6240 afternoon sessions only\n",
    "        for s2 in range(len(sessions)-10): #PIB scans only starting at 12pm or sooner\n",
    "            for d in days[0:len(days)-1]:\n",
    "                mk_then_pib[(mk,s1,d,pib,s2,d+1,p)] = model.NewBoolVar(\"{}:{}{};;{}:{}{}\".format(tracer_names[mk],\n",
    "                                                                                                sess_names[s1],\n",
    "                                                                                                day_names[d],\n",
    "                                                                                                tracer_names[pib],\n",
    "                                                                                                sess_names[s2],\n",
    "                                                                                                day_names[d+1],\n",
    "                                                                                                scanner_names[p]))"
   ]
  },
  {
   "cell_type": "code",
   "execution_count": null,
   "id": "5ef683a0",
   "metadata": {},
   "outputs": [],
   "source": [
    "#Allows us to sum instances when there are multiple MK6240 scans in a day\n",
    "mk = tracer_names.index(\"MK6240\")\n",
    "mk_dur=scan_durations[\"MK6240\"]\n",
    "mk_sess_by_day = {}\n",
    "for s in sessions:\n",
    "    for d in days:\n",
    "        for p in scanners:\n",
    "            mk_sess_by_day[(mk,s,d,p)] = model.NewBoolVar(\"{}{}{}{}\".format(tracer_names[mk],\n",
    "                                                                            day_names[d],\n",
    "                                                                            sess_names[s],\n",
    "                                                                            scanner_names[p]))\n",
    "mk_concur = {}\n",
    "for s1 in range(7,len(sessions)-mk_dur): #avoid sessions that could not be followed by an MK6240 scan and cannot have MK6240\n",
    "    for s2 in range(s1+mk_dur,len(sessions)): #MK6240 scan must start after end of first MK6240\n",
    "        for p in scanners:\n",
    "            mk_concur[(mk,s1,s2,p)] = model.NewBoolVar(\"{};{};{};{}\".format(tracer_names[mk],\n",
    "                                                                            sess_names[s1],\n",
    "                                                                            sess_names[s2],\n",
    "                                                                            scanner_names[p]))\n",
    "mk_same_day = {}\n",
    "for s1 in range(7,len(sessions)-mk_dur): #avoid sessions that could not be followed by an MK6240 scan\n",
    "    for s2 in range(s1+mk_dur,len(sessions)): #MK6240 scan must start after end of first MK6240\n",
    "        for d in days:\n",
    "            for p in scanners:\n",
    "                mk_same_day[(mk,s1,s2,d,p)] = model.NewBoolVar(\"{};{}{};{};{}\".format(tracer_names[mk],\n",
    "                                                                                       sess_names[s1],\n",
    "                                                                                       sess_names[s2],\n",
    "                                                                                       day_names[d],\n",
    "                                                                                       scanner_names[p]))"
   ]
  },
  {
   "cell_type": "code",
   "execution_count": null,
   "id": "eaf4dc06",
   "metadata": {},
   "outputs": [],
   "source": [
    "#Allows us to sum instances when there are multiple PIB scans in a day\n",
    "pib = tracer_names.index(\"PIB\")\n",
    "pib_dur=scan_durations[\"PIB\"]\n",
    "pib_sess_by_day = {}\n",
    "for s in sessions:\n",
    "    for d in days:\n",
    "        for p in scanners:\n",
    "            pib_sess_by_day[(pib,s,d,p)] = model.NewBoolVar(\"{}{}{}{}\".format(tracer_names[pib],\n",
    "                                                                              day_names[d],\n",
    "                                                                              sess_names[s],\n",
    "                                                                              scanner_names[p]))\n",
    "pib_concur = {}             \n",
    "for s1 in range(len(sessions)-pib_dur): #avoid sessions that could not be followed by an PIB scan\n",
    "    for s2 in range(s1+pib_dur,len(sessions)): #PIB scan must start after first PIB\n",
    "        for p in scanners:\n",
    "            pib_concur[(pib,s1,s2,p)] = model.NewBoolVar(\"{};{}{};{}\".format(tracer_names[pib],\n",
    "                                                                              sess_names[s1],\n",
    "                                                                              sess_names[s2],\n",
    "                                                                              scanner_names[p]))\n",
    "pib_same_day = {}\n",
    "for s1 in range(len(sessions)-pib_dur): #avoid sessions that could not be followed by an PIB scan\n",
    "    for s2 in range(s1+pib_dur,len(sessions)): #PIB scan must start after first PIB\n",
    "        for d in days:\n",
    "            for p in scanners:\n",
    "                pib_same_day[(pib,s1,s2,d,p)] = model.NewBoolVar(\"{};{}{};{};{}\".format(tracer_names[pib],\n",
    "                                                                                         sess_names[s1],\n",
    "                                                                                         sess_names[s2],\n",
    "                                                                                         day_names[d],\n",
    "                                                                                         scanner_names[p]))"
   ]
  },
  {
   "cell_type": "code",
   "execution_count": null,
   "id": "3ea09d18",
   "metadata": {},
   "outputs": [],
   "source": [
    "### Hard Constraints ###"
   ]
  },
  {
   "cell_type": "code",
   "execution_count": null,
   "id": "b86df396",
   "metadata": {},
   "outputs": [],
   "source": [
    "#Constraints creating distinct sessions"
   ]
  },
  {
   "cell_type": "code",
   "execution_count": null,
   "id": "d653ab27",
   "metadata": {},
   "outputs": [],
   "source": [
    "#Each session on a scanner gets at most 1 tracer\n",
    "for p in scanners:\n",
    "    for d in days:\n",
    "        for s in sessions:\n",
    "            model.Add(sum(x[(t,d,s,p)] for t in tracers) <= 1)"
   ]
  },
  {
   "cell_type": "code",
   "execution_count": null,
   "id": "cbf26385",
   "metadata": {},
   "outputs": [],
   "source": [
    "#Prevent overlap between scans\n",
    "for p in scanners:\n",
    "    for d in days:\n",
    "        for s in sessions[0:len(sessions)-1]:\n",
    "            overlap = []\n",
    "            for t in tracers:\n",
    "                value=scan_durations[tracer_names[t]]\n",
    "                for sess in range(value):\n",
    "                    if s+sess < len(sessions)-(value-1): ###TODO: Find a better way to account for 2 or 3 value without going out of range\n",
    "                        overlap.append(x[(t,d,s+sess,p)])\n",
    "            model.Add(sum(overlap) <= 1)\n",
    "                \n",
    "#IDR why I used nested lists inside of overlap but we will try not doing that and see if it works                \n",
    "#for p in scanners:\n",
    "#    for d in days:\n",
    "#        for s in sessions[0:14]:\n",
    "#            overlap = []\n",
    "#            for t in tracers:\n",
    "#                overlap.extend([\n",
    "#                    x[(t,d,s,p)],x[(t,d,s+1,p)],\n",
    "#                    x[(t,d,s+2,p)],x[(t,d,s+3,p)]\n",
    "#                ])\n",
    "#            model.Add(sum(overlap) <= 1)"
   ]
  },
  {
   "cell_type": "code",
   "execution_count": null,
   "id": "bea8d186",
   "metadata": {},
   "outputs": [],
   "source": [
    "#Prevent scans from being scheduled in a slot where they will finish after 17:30\n",
    "too_late=[]\n",
    "for p in scanners:\n",
    "    for d in days:\n",
    "        for t in tracers:\n",
    "            value=scan_durations[tracer_names[t]]\n",
    "            for s in sessions[len(sessions)-(value-1):len(sessions)]:\n",
    "                too_late.append(x[(t,d,s,p)])\n",
    "model.Add(sum(too_late) == 0)"
   ]
  },
  {
   "cell_type": "code",
   "execution_count": null,
   "id": "137d6b19",
   "metadata": {},
   "outputs": [],
   "source": [
    "#Each tracer gets at least 1 session per week\n",
    "#for t in tracers:\n",
    "#    all_sess = []\n",
    "#    for p in scanners:\n",
    "#        for d in days:\n",
    "#            for s in sessions:\n",
    "#                all_sess.append(x[(t,d,s,p)])\n",
    "#    model.Add(sum(all_sess) >= 1)"
   ]
  },
  {
   "cell_type": "code",
   "execution_count": null,
   "id": "64665ec9",
   "metadata": {},
   "outputs": [],
   "source": [
    "#PIB constraints"
   ]
  },
  {
   "cell_type": "code",
   "execution_count": null,
   "id": "805a002a",
   "metadata": {},
   "outputs": [],
   "source": [
    "#PIB 3 max per day/batch\n",
    "pib = tracer_names.index(\"PIB\")\n",
    "for d in days[1:4]:\n",
    "    p_day = []\n",
    "    for p in scanners:\n",
    "        for s in sessions:\n",
    "            p_day.append(x[(pib,d,s,p)])\n",
    "    model.Add(sum(p_day) <= 3)"
   ]
  },
  {
   "cell_type": "code",
   "execution_count": null,
   "id": "a02c1619",
   "metadata": {},
   "outputs": [],
   "source": [
    "#PIB 1 max per Monday\n",
    "pib = tracer_names.index(\"PIB\")\n",
    "d = day_names.index(\"Mon\")\n",
    "p_mon = []\n",
    "for p in scanners:\n",
    "    for s in sessions:\n",
    "        p_day.append(x[(pib,d,s,p)])\n",
    "model.Add(sum(p_day) <= 1)"
   ]
  },
  {
   "cell_type": "code",
   "execution_count": null,
   "id": "03f2f98e",
   "metadata": {},
   "outputs": [],
   "source": [
    "#PIB 3 hr gap between PIB scans\n",
    "three_hours = 6 #sessions\n",
    "pib = tracer_names.index(\"PIB\")\n",
    "for d in days:\n",
    "    for s in sessions[0:len(sessions)-three_hours]:\n",
    "        p_gap = []\n",
    "        for p in scanners:\n",
    "            for num in range(three_hours):\n",
    "                p_gap.append(x[(pib,d,s+num,p)])\n",
    "        model.Add(sum(p_gap) <= 1)"
   ]
  },
  {
   "cell_type": "code",
   "execution_count": null,
   "id": "f35cef63",
   "metadata": {},
   "outputs": [],
   "source": [
    "#PIB 1 hr gap between PIB scans 9:00-11:00; 10:00-12:00 - Use both scanners\n",
    "\n",
    "###TODO####"
   ]
  },
  {
   "cell_type": "code",
   "execution_count": null,
   "id": "37de1f0c",
   "metadata": {},
   "outputs": [],
   "source": [
    "#AV1451 constraints"
   ]
  },
  {
   "cell_type": "code",
   "execution_count": null,
   "id": "ee13675e",
   "metadata": {},
   "outputs": [],
   "source": [
    "#12 per month for AV1451; Average to 3 per week for weekly model\n",
    "av = tracer_names.index(\"AV1451\")\n",
    "a_week = []\n",
    "for p in scanners:\n",
    "    for d in days:\n",
    "        for s in sessions:\n",
    "            a_week.append(x[(av,d,s,p)])\n",
    "model.Add(sum(a_week) <= 3)"
   ]
  },
  {
   "cell_type": "code",
   "execution_count": null,
   "id": "cf66d6d9",
   "metadata": {},
   "outputs": [],
   "source": [
    "#24HR between production but 2 scans per production batch/day \n",
    "av = tracer_names.index(\"AV1451\")\n",
    "for d in days:\n",
    "    a_2 = []\n",
    "    for p in scanners:\n",
    "        for s in sessions:\n",
    "            a_2.append(x[(av,d,s,p)])\n",
    "    model.Add(sum(a_2) <= 2)"
   ]
  },
  {
   "cell_type": "code",
   "execution_count": null,
   "id": "a7b91ba6",
   "metadata": {},
   "outputs": [],
   "source": [
    "#12:00 earliest sess for AV1451\n",
    "av = tracer_names.index(\"AV1451\")\n",
    "a_early = []\n",
    "for p in scanners:\n",
    "    for d in days:\n",
    "        for s in list(sessions[0:8]):\n",
    "            a_early.append(x[(av,d,s,p)])\n",
    "model.Add(sum(a_early) == 0)"
   ]
  },
  {
   "cell_type": "code",
   "execution_count": null,
   "id": "89479fca",
   "metadata": {},
   "outputs": [],
   "source": [
    "#MK6240 constraints"
   ]
  },
  {
   "cell_type": "code",
   "execution_count": null,
   "id": "09b4614d",
   "metadata": {},
   "outputs": [],
   "source": [
    "#MK6240 max 3 sessions each day\n",
    "mk = tracer_names.index(\"MK6240\")\n",
    "for d in days:\n",
    "    m_3 = []\n",
    "    for p in scanners:\n",
    "        for s in sessions:\n",
    "            m_3.append(x[(mk,d,s,p)])\n",
    "    model.Add(sum(m_3) <= 3)"
   ]
  },
  {
   "cell_type": "code",
   "execution_count": null,
   "id": "8f54703f",
   "metadata": {},
   "outputs": [],
   "source": [
    "#MK6240 only sessions 9 through 17; Tues-Fri\n",
    "mk = tracer_names.index(\"MK6240\")\n",
    "m_days = []\n",
    "#sess_not = [0,1,2,3,4,5,6,7,8,18]\n",
    "for p in scanners:\n",
    "    for d in days[1:5]:\n",
    "        for s in list(sessions[0:9])+list(sessions[18:19]):\n",
    "            m_days.append(x[(mk,d,s,p)])\n",
    "model.Add(sum(m_days) == 0)"
   ]
  },
  {
   "cell_type": "code",
   "execution_count": null,
   "id": "f57fc118",
   "metadata": {},
   "outputs": [],
   "source": [
    "#MK6240 only sessions 8 through 14; Mon\n",
    "mk = tracer_names.index(\"MK6240\")\n",
    "d = day_names.index(\"Mon\")\n",
    "m_mon = []\n",
    "for p in scanners:\n",
    "    for s in list(sessions[0:7])+list(sessions[15:19]):\n",
    "        m_mon.append(x[(mk,d,s,p)])\n",
    "model.Add(sum(m_mon) == 0)"
   ]
  },
  {
   "cell_type": "code",
   "execution_count": null,
   "id": "0187ec61",
   "metadata": {},
   "outputs": [],
   "source": [
    "#UCB-J constraints"
   ]
  },
  {
   "cell_type": "code",
   "execution_count": null,
   "id": "91ba9bd6",
   "metadata": {},
   "outputs": [],
   "source": [
    "#UCB-J max 1 session each day\n",
    "ucb_j = tracer_names.index(\"UCB-J\")\n",
    "for d in days:\n",
    "    u_1 = []\n",
    "    for p in scanners:\n",
    "        for s in sessions:\n",
    "            u_1.append(x[(ucb_j,d,s,p)])\n",
    "    model.Add(sum(u_1) <= 1)"
   ]
  },
  {
   "cell_type": "code",
   "execution_count": null,
   "id": "deac71a2",
   "metadata": {},
   "outputs": [],
   "source": [
    "#UCB-J session 6 or 12 Tues-Fri\n",
    "ucb_j = tracer_names.index(\"UCB-J\")\n",
    "for d in days[1:5]:\n",
    "    u_sess = []\n",
    "    for p in scanners:\n",
    "        for s in list(sessions[0:5])+list(sessions[6:11])+list(sessions[12:19]):\n",
    "            u_sess.append(x[(ucb_j,d,s,p)])\n",
    "    model.Add(sum(u_sess) == 0)"
   ]
  },
  {
   "cell_type": "code",
   "execution_count": null,
   "id": "0829e087",
   "metadata": {},
   "outputs": [],
   "source": [
    "#UCB-J session 14 Mon\n",
    "ucb_j = tracer_names.index(\"UCB-J\")\n",
    "d = day_names.index(\"Mon\")\n",
    "u_mon = []\n",
    "for p in scanners:\n",
    "    for s in list(sessions[0:13])+list(sessions[14:19]):\n",
    "        u_mon.append(x[(ucb_j,d,s,p)])\n",
    "model.Add(sum(u_mon) == 0)"
   ]
  },
  {
   "cell_type": "code",
   "execution_count": null,
   "id": "35625f1c",
   "metadata": {},
   "outputs": [],
   "source": [
    "#UCB-J 90-min gap prior to session during which other 11C tracers cannot be scanned [PIB,ER176,UCB-J]\n",
    "#UCB-J constraint already included with 1 session per day constraint\n",
    "#ER176 is not considered in this model\n",
    "ucb_j = tracer_names.index(\"UCB-J\")\n",
    "pib = tracer_names.index(\"PIB\")\n",
    "for d in days[1:5]: #Tues-Fri\n",
    "    u_sess = []\n",
    "    for p in scanners:\n",
    "        for s_ucb_j in [sessions[5],sessions[11]]: #only sessions 6 and 12 on these days\n",
    "            u_sess.append(x[(ucb_j,d,s_ucb_j,p)])\n",
    "            #3 sessions before these sessions must be not have scans for [PIB,ER176,UCB-J]\n",
    "            for blocked in range(1,4):\n",
    "                u_sess.append(x[(pib,d,s_ucb_j-blocked,p)])\n",
    "                u_sess.append(x[(ucb_j,d,s_ucb_j-blocked,p)])\n",
    "    model.Add(sum(u_sess) == 0)"
   ]
  },
  {
   "cell_type": "code",
   "execution_count": null,
   "id": "e770883f",
   "metadata": {},
   "outputs": [],
   "source": [
    "#UCB-J 90-min gap prior to session during which other 11C tracers cannot be scanned [PIB,ER176,UCB-J]\n",
    "#UCB-J constraint already included with 1 session per day constraint\n",
    "#ER176 is not considered in this model\n",
    "ucb_j = tracer_names.index(\"UCB-J\")\n",
    "pib = tracer_names.index(\"PIB\")\n",
    "d = day_names.index(\"Mon\")\n",
    "s_ucb_j = sessions[13]\n",
    "u_mon = []\n",
    "for p in scanners:\n",
    "    #3 sessions before these sessions must be not have scans for [PIB,ER176,UCB-J]\n",
    "    u_mon.append(x[(ucb_j,d,s_ucb_j,p)])\n",
    "    for blocked in range(1,4):\n",
    "        u_mon.append(x[(pib,d,s_ucb_j-blocked,p)])\n",
    "model.Add(sum(u_mon) == 0)"
   ]
  },
  {
   "cell_type": "code",
   "execution_count": null,
   "id": "cc81ba51",
   "metadata": {},
   "outputs": [],
   "source": [
    "#Constraints for decision variables that link outcomes/concurrent end states"
   ]
  },
  {
   "cell_type": "code",
   "execution_count": null,
   "id": "6fa6d1e6",
   "metadata": {},
   "outputs": [],
   "source": [
    "#Incentivize having PIB scan followed by MK6240 in same day\n",
    "pib = tracer_names.index(\"PIB\")\n",
    "mk = tracer_names.index(\"MK6240\")\n",
    "pib_dur=scan_durations[\"PIB\"]\n",
    "mk_dur=scan_durations[\"MK6240\"]\n",
    "#Link pib_mk_concur with pib_mk_sess_by_day\n",
    "for s1 in range(len(sessions)-mk_dur): #avoid sessions that could not be followed by an MK6240 scan\n",
    "    for s2 in range(s1+pib_dur,len(sessions)): #MK6240 scan must start after end of PIB\n",
    "        for p in scanners:\n",
    "            for d in days:\n",
    "                #Link pib_mk_same_day with pib_mk_sess_by_day. Keeps variables in sync\n",
    "                pib_day = pib_mk_sess_by_day[(pib,s1,d,p)]\n",
    "                mk_day = pib_mk_sess_by_day[(mk,s2,d,p)] #originally s1, as well. Mistake?\n",
    "                same_day_pairing = pib_mk_same_day[(pib,s1,d,mk,s2,d,p)]\n",
    "                model.AddBoolOr([pib_day.Not(), mk_day.Not(), same_day_pairing])\n",
    "                # if same_day_pairing is True, then pib_day and mk_day must be True\n",
    "                model.AddImplication(same_day_pairing, pib_day)\n",
    "                model.AddImplication(same_day_pairing, mk_day)\n",
    "\n",
    "            #Link pib_mk_concur with pib_mk_same_day\n",
    "            pib_then_mk = sum(pib_mk_same_day[(pib,s1,d,mk,s2,d,p)] for d in days)\n",
    "            model.Add(pib_then_mk == pib_mk_concur[(pib,s1,mk,s2,p)])\n",
    "\n",
    "#https://dougfenstermacher.com/blog/combinatorial-optimization#5-task-assignment"
   ]
  },
  {
   "cell_type": "code",
   "execution_count": null,
   "id": "2fcacd97",
   "metadata": {},
   "outputs": [],
   "source": [
    "#Incentivize having MK6240 scan followed by PIB the next morning\n",
    "pib = tracer_names.index(\"PIB\")\n",
    "mk = tracer_names.index(\"MK6240\")\n",
    "#Link pib_mk_concur with pib_mk_sess_by_day\n",
    "for s1 in range(8,len(sessions)): #MK6240 afternoon sessions only\n",
    "    for s2 in range(len(sessions)-10): #PIB scans only starting at 12pm or sooner\n",
    "        for p in scanners:\n",
    "            for d in days[0:len(days)-1]:\n",
    "                #Link pib_mk_same_day with pib_mk_sess_by_day. Keeps variables in sync\n",
    "                pib_day = pib_mk_sess_by_day[(pib,s1,d,p)]\n",
    "                mk_day = pib_mk_sess_by_day[(mk,s2,d,p)]\n",
    "                same_day_pairing = mk_then_pib[(mk,s1,d,pib,s2,d+1,p)]\n",
    "                model.AddBoolOr([pib_day.Not(), mk_day.Not(), same_day_pairing])\n",
    "                # if same_day_pairing is True, then pib_day and mk_day must be True\n",
    "                model.AddImplication(same_day_pairing, pib_day)\n",
    "                model.AddImplication(same_day_pairing, mk_day)\n",
    "\n",
    "            #Link pib_mk_concur with mk_then_pib\n",
    "            mk_pib = sum(mk_then_pib[(mk,s1,d,pib,s2,d+1,p)] for d in days[0:len(days)-1])\n",
    "            model.Add(mk_pib == mk_pib_concur[(mk,s1,pib,s2,p)])\n",
    "\n",
    "#https://dougfenstermacher.com/blog/combinatorial-optimization#5-task-assignment"
   ]
  },
  {
   "cell_type": "code",
   "execution_count": null,
   "id": "cd248a87",
   "metadata": {},
   "outputs": [],
   "source": [
    "#Incentivize having multiple MK6240\n",
    "mk = tracer_names.index(\"MK6240\")\n",
    "mk_dur=scan_durations[\"MK6240\"]\n",
    "#Link mk_concur with mk_sess_by_day\n",
    "for s1 in range(7,len(sessions)-mk_dur): #avoid sessions that could not be followed by an MK6240 scan\n",
    "    for s2 in range(s1+mk_dur,len(sessions)): #MK6240 scan must start after end of first MK6240\n",
    "        for p in scanners:\n",
    "            for d in days:\n",
    "                #Link mk_same_day with mk_sess_by_day. Keeps variables in sync\n",
    "                #for t in [t1,t2]:\n",
    "                mk_1_day = mk_sess_by_day[(mk,s1,d,p)]\n",
    "                mk_2_day = mk_sess_by_day[(mk,s2,d,p)]\n",
    "                same_day_pairing = mk_same_day[(mk,s1,s2,d,p)]\n",
    "                model.AddBoolOr([mk_1_day.Not(), mk_2_day.Not(), same_day_pairing])\n",
    "                # if same_day_pairing is True, then mk_1_day and mk_2_day must be True\n",
    "                model.AddImplication(same_day_pairing, mk_1_day)\n",
    "                model.AddImplication(same_day_pairing, mk_2_day)\n",
    "\n",
    "            #Link mk_concur with mk_same_day\n",
    "            two_mk = sum(mk_same_day[((mk,s1,s2,d,p))] for d in days)\n",
    "            model.Add(two_mk == mk_concur[(mk,s1,s2,p)])\n",
    "\n",
    "#https://dougfenstermacher.com/blog/combinatorial-optimization#5-task-assignment"
   ]
  },
  {
   "cell_type": "code",
   "execution_count": null,
   "id": "49878d71",
   "metadata": {},
   "outputs": [],
   "source": [
    "#Incentivize having multiple PIB\n",
    "pib = tracer_names.index(\"PIB\")\n",
    "pib_dur=scan_durations[\"PIB\"]\n",
    "#Link av_concur with pib_sess_by_day\n",
    "for s1 in range(len(sessions)-pib_dur): #avoid sessions that could not be followed by an PIB scan\n",
    "    for s2 in range(s1+pib_dur,len(sessions)): #PIB scan must start after end of first PIB\n",
    "        for p in scanners:\n",
    "            for d in days:\n",
    "                #Link pib_same_day with pib_sess_by_day. Keeps variables in sync\n",
    "                #for t in [t1,t2]:\n",
    "                pib_1_day = pib_sess_by_day[(pib,s1,d,p)]\n",
    "                pib_2_day = pib_sess_by_day[(pib,s2,d,p)]\n",
    "                same_day_pairing = pib_same_day[(pib,s1,s2,d,p)]\n",
    "                model.AddBoolOr([pib_1_day.Not(), pib_2_day.Not(), same_day_pairing])\n",
    "                # if same_day_pairing is True, then pib_1_day and pib_2_day must be True\n",
    "                model.AddImplication(same_day_pairing, pib_1_day)\n",
    "                model.AddImplication(same_day_pairing, pib_2_day)\n",
    "\n",
    "            #Link pib_concur with pib_same_day\n",
    "            two_pib = sum(pib_same_day[((pib,s1,s2,d,p))] for d in days)\n",
    "            model.Add(two_pib == pib_concur[(pib,s1,s2,p)])\n",
    "\n",
    "#https://dougfenstermacher.com/blog/combinatorial-optimization#5-task-assignment"
   ]
  },
  {
   "cell_type": "code",
   "execution_count": null,
   "id": "e1db9412",
   "metadata": {},
   "outputs": [],
   "source": [
    "### Objective ###"
   ]
  },
  {
   "cell_type": "code",
   "execution_count": null,
   "id": "dfb395b3",
   "metadata": {},
   "outputs": [],
   "source": [
    "# pylint: disable=g-complex-comprehension\n",
    "pib = tracer_names.index(\"PIB\")\n",
    "mk = tracer_names.index(\"MK6240\")\n",
    "pib_dur=scan_durations[\"PIB\"]\n",
    "mk_dur=scan_durations[\"MK6240\"]\n",
    "model.Maximize(\n",
    "    sum(x[(t,d,s,p)] for t in tracers for d in days for s in sessions for p in scanners )\n",
    "    + sum(pib_mk_weight * pib_mk_concur[pib,s,mk,s2,p] for s in range(len(sessions)-mk_dur) for s2 in range(s+pib_dur,len(sessions)) for p in scanners)\n",
    "    + sum(mk_concur_weight * mk_concur[mk,s,s2,p] for s in range(7,len(sessions)-mk_dur) for s2 in range(s+mk_dur,len(sessions)) for p in scanners)\n",
    "    + sum(mk_pib_weight * mk_pib_concur[(mk,s1,pib,s2,p)] for s1 in range(8,len(sessions)) for s2 in range(len(sessions)-10) for p in scanners)\n",
    "    + sum(pib_concur_weight * pib_concur[pib,s,s2,p] for s in range(len(sessions)-pib_dur) for s2 in range(s+pib_dur,len(sessions)) for p in scanners)\n",
    ")\n",
    "#First sum incentivizes scheduling any scans\n",
    "#Second sum incentivizes PIB followed by an MK\n",
    "#Third sum incentivizes MK followed by a PIB\n",
    "#Fourth sum incentivizes multiple MK6240 sessions in one day\n",
    "#Fifth sum incentivizes multiple PIB sessions in one day\n",
    "#Coefficients are arbitrary weights for incentivizing these sums relative to each other"
   ]
  },
  {
   "cell_type": "code",
   "execution_count": null,
   "id": "e138f39c",
   "metadata": {},
   "outputs": [],
   "source": [
    "### Instanciate Solver, solve, and output end states ###"
   ]
  },
  {
   "cell_type": "code",
   "execution_count": null,
   "id": "208da48b",
   "metadata": {},
   "outputs": [],
   "source": [
    "solver = cp_model.CpSolver()\n",
    "status = solver.Solve(model)\n",
    "\n",
    "\n",
    "if status == cp_model.OPTIMAL or status == 2:\n",
    "    print('Solution:')\n",
    "    results = []\n",
    "    for d in days:\n",
    "        print(day_names[d])\n",
    "        day = [\"Day{}\".format(d)]\n",
    "        for p in scanners:\n",
    "            for t in tracers:\n",
    "                for s in sessions:\n",
    "                    if solver.Value(x[(t,d,s,p)]) == 1:\n",
    "                        day.append([d,t,s,p,1])\n",
    "                        if design_matrix[p][t][d][s] == 1:\n",
    "                            #weighted\n",
    "                            print(tracer_names[t], 'scheduled', sess_names[s], 'on', scanner_names[p])\n",
    "                        else:\n",
    "                            print(tracer_names[t], 'scheduled', sess_names[s], 'on', scanner_names[p],\n",
    "                                  '(not requested).')\n",
    "        print()\n",
    "        results.append(day)\n",
    "    pd.DataFrame(results).to_csv(\"schedule_maximize_solution.csv\",index=False)\n",
    "    #Prints CSV file of solution\n",
    "elif status == 0:\n",
    "    print('No optimal solution found before search limit reached!')\n",
    "elif status == 1:\n",
    "    print(\"Invalid model! Call 'ValidateCpModel(model_proto)' for detailed information.\")\n",
    "elif status == 3:\n",
    "    print(\"Model proven infeasible.\")"
   ]
  },
  {
   "cell_type": "code",
   "execution_count": null,
   "id": "af4cb4fa",
   "metadata": {},
   "outputs": [],
   "source": [
    "### Create Gantt Graph of Solution ###"
   ]
  },
  {
   "cell_type": "code",
   "execution_count": null,
   "id": "3481f34f",
   "metadata": {
    "scrolled": true
   },
   "outputs": [],
   "source": [
    "sch_data = pd.DataFrame(columns=[\"Session\",\"Start\",\"Finish\",\"Tracer\",\"color\"])\n",
    "#seed data with a background color for each session if no scan\n",
    "for entry in range(len(sess_names)):\n",
    "    sch_data.loc[len(sch_data.index)] = dict(Session=sess_names[entry], Start=0, Finish=5, Tracer=\"\", color=\"1\")\n",
    "    \n",
    "#Graph solution\n",
    "#Read solution from CSV and then add scheduled sessions to Gantt\n",
    "sch = pd.read_csv(\"schedule_maximize_solution.csv\",\n",
    "                  index_col=0).T #transpose to get days as columns\n",
    "#Add each scheduled scan to calendar\n",
    "tracers_colors = [\"2\",\"3\",\"4\",\"5\"]\n",
    "for column in sch:\n",
    "    day = sch[column]\n",
    "    for entry in day:\n",
    "        if entry == entry: #avoids NaN's created by transpose\n",
    "            ent_l = entry.replace(\" \",\"\").replace(\"[\",\"\").replace(\"]\",\"\").split(\",\")\n",
    "            if int(ent_l[4]) == 1 and int(ent_l[3]) == 0: #Get first scanner schedule\n",
    "                dur = scan_durations[tracer_names[int(ent_l[1])]] #get how many sessions this scan will last\n",
    "                for s in range(dur):\n",
    "                    sch_entry = dict(Session=sess_names[int(ent_l[2])+s], #add entry for each 30min of scan\n",
    "                                    Start=int(ent_l[0]), Finish=int(ent_l[0])+1,\n",
    "                                    Tracer=tracer_names[int(ent_l[1])], \n",
    "                                     color=tracers_colors[int(ent_l[1])])\n",
    "                    sch_data.loc[len(sch_data.index)] = sch_entry\n",
    "\n",
    "sch_data['delta'] = sch_data['Finish'] - sch_data['Start']\n",
    "sch_data = sch_data.astype({'Tracer': 'string', 'color': 'string'})\n",
    "\n",
    "fig_hr = px.timeline(sch_data, x_start=\"Start\", x_end=\"Finish\", y=\"Session\",\n",
    "                 color=\"color\", text=\"Tracer\")\n",
    "fig_hr.update_yaxes(autorange=\"reversed\")\n",
    "fig_hr.layout.xaxis.type = 'linear'\n",
    "for d in fig_hr.data:\n",
    "  filt = sch_data['color'] == d.name\n",
    "  d.x = sch_data[filt]['delta'].tolist()\n",
    "fig_hr.show()"
   ]
  },
  {
   "cell_type": "code",
   "execution_count": null,
   "id": "2ebe4d88",
   "metadata": {},
   "outputs": [],
   "source": [
    "#Save Gantt Graph as HTML\n",
    "hr_name = 'scheduling_max_graph_hr'\n",
    "fig_hr.write_html(f\"{hr_name}.html\")"
   ]
  },
  {
   "cell_type": "code",
   "execution_count": null,
   "id": "60930c6e",
   "metadata": {},
   "outputs": [],
   "source": [
    "sch_data = pd.DataFrame(columns=[\"Session\",\"Start\",\"Finish\",\"Tracer\",\"color\"])\n",
    "#seed data with a background color for each session if no scan\n",
    "for entry in range(len(sess_names)):\n",
    "    sch_data.loc[len(sch_data.index)] = dict(Session=sess_names[entry], Start=0, Finish=5, Tracer=\"\", color=\"1\")\n",
    "\n",
    "#Graph solution\n",
    "#Read solution from CSV and then add scheduled sessions to Gantt\n",
    "sch = pd.read_csv(\"schedule_maximize_solution.csv\",\n",
    "                  index_col=0).T #transpose to get days as columns\n",
    "#Add each scheduled scan to calendar\n",
    "tracers_colors = [\"2\",\"3\",\"4\",\"5\"]\n",
    "for column in sch:\n",
    "    day = sch[column]\n",
    "    for entry in day:\n",
    "        if entry == entry: #avoids NaN's created by transpose\n",
    "            ent_l = entry.replace(\" \",\"\").replace(\"[\",\"\").replace(\"]\",\"\").split(\",\")\n",
    "            if int(ent_l[4]) == 1 and int(ent_l[3]) == 1: #Get second scanner schedule\n",
    "                dur = scan_durations[tracer_names[int(ent_l[1])]] #get how many sessions this scan will last\n",
    "                for s in range(dur):\n",
    "                    sch_entry = dict(Session=sess_names[int(ent_l[2])+s],\n",
    "                                    Start=int(ent_l[0]), Finish=int(ent_l[0])+1,\n",
    "                                    Tracer=tracer_names[int(ent_l[1])], \n",
    "                                     color=tracers_colors[int(ent_l[1])])\n",
    "                    sch_data.loc[len(sch_data.index)] = sch_entry\n",
    "\n",
    "sch_data['delta'] = sch_data['Finish'] - sch_data['Start']\n",
    "sch_data = sch_data.astype({'Tracer': 'string', 'color': 'string'})\n",
    "\n",
    "fig_bio = px.timeline(sch_data, x_start=\"Start\", x_end=\"Finish\", y=\"Session\",\n",
    "                 color=\"color\", text=\"Tracer\")\n",
    "fig_bio.update_yaxes(autorange=\"reversed\")\n",
    "fig_bio.layout.xaxis.type = 'linear'\n",
    "for d in fig_bio.data:\n",
    "  filt = sch_data['color'] == d.name\n",
    "  d.x = sch_data[filt]['delta'].tolist()\n",
    "fig_bio.show()"
   ]
  },
  {
   "cell_type": "code",
   "execution_count": null,
   "id": "ab92d505",
   "metadata": {},
   "outputs": [],
   "source": [
    "#fig.to_dict() #use if want to adjust formatting"
   ]
  },
  {
   "cell_type": "code",
   "execution_count": null,
   "id": "001682a0",
   "metadata": {},
   "outputs": [],
   "source": [
    "#Save Gantt Graph as HTML\n",
    "bio_name = 'scheduling_max_graph_bio'\n",
    "fig_bio.write_html(f\"{bio_name}.html\")"
   ]
  },
  {
   "cell_type": "code",
   "execution_count": null,
   "id": "4aa95dd6",
   "metadata": {},
   "outputs": [],
   "source": []
  }
 ],
 "metadata": {
  "kernelspec": {
   "display_name": "Python 3 (ipykernel)",
   "language": "python",
   "name": "python3"
  },
  "language_info": {
   "codemirror_mode": {
    "name": "ipython",
    "version": 3
   },
   "file_extension": ".py",
   "mimetype": "text/x-python",
   "name": "python",
   "nbconvert_exporter": "python",
   "pygments_lexer": "ipython3",
   "version": "3.9.7"
  }
 },
 "nbformat": 4,
 "nbformat_minor": 5
}
