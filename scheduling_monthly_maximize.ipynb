{
 "cells": [
  {
   "cell_type": "code",
   "execution_count": null,
   "id": "864abd19",
   "metadata": {},
   "outputs": [],
   "source": [
    "from ortools.sat.python import cp_model\n",
    "#https://developers.google.com/optimization/reference/python/sat/python/cp_model\n",
    "import pandas as pd\n",
    "import plotly.express as px"
   ]
  },
  {
   "cell_type": "code",
   "execution_count": null,
   "id": "dc5e5fd8",
   "metadata": {},
   "outputs": [],
   "source": [
    "### Variables ###"
   ]
  },
  {
   "cell_type": "code",
   "execution_count": null,
   "id": "0d4527e7",
   "metadata": {},
   "outputs": [],
   "source": [
    "days = range(5) ###Eventually model will be extended to a month or year\n",
    "sessions = range(17)\n",
    "tracers = range(4)\n",
    "\n",
    "###TODO: Add variable for second PET scanner and staff schedules; Design matrix?\n",
    "#Human Readable\n",
    "day_names = [\"Mon\",\"Tues\",\"Wed\",\"Thurs\",\"Fri\"]\n",
    "sess_times = [\"08:00 - 10:00\",\"08:30 - 10:30\",\"09:00 - 11:00\",\n",
    "             \"09:30 - 11:30\",\"10:00 - 12:00\",\"10:30 - 12:30\",\n",
    "             \"11:00 - 13:00\",\"11:30 - 13:30\",\"12:00 - 14:00\",\n",
    "             \"12:30 - 14:30\",\"13:00 - 15:00\",\"13:30 - 15:30\",\n",
    "             \"14:00 - 16:00\",\"14:30 - 16:30\",\"15:00 - 17:00\",\n",
    "             \"15:30 - 17:30\",\"16:00 - 18:00\"]\n",
    "tracers_names = [\"PIB\",\"AV1451\",\"MK6240\",\"UCB-J\"]"
   ]
  },
  {
   "cell_type": "code",
   "execution_count": null,
   "id": "0ce1d268",
   "metadata": {},
   "outputs": [],
   "source": [
    "### No use for design matrix yet but could be used to \n",
    "#weight individual sessions\n",
    "first = [1,1,1,1,1,\n",
    "         1,1,1,1,1,\n",
    "         1,1,1,1,1,\n",
    "         1,1]\n",
    "\n",
    "second = [first, first, first, first, first]\n",
    "third = [second, second, second, second]\n",
    "#print(third)"
   ]
  },
  {
   "cell_type": "code",
   "execution_count": null,
   "id": "d9e058c9",
   "metadata": {},
   "outputs": [],
   "source": [
    "### Creates the model CP Model: \n",
    "#https://developers.google.com/optimization/reference/python/sat/python/cp_model\n",
    "model = cp_model.CpModel()"
   ]
  },
  {
   "cell_type": "code",
   "execution_count": null,
   "id": "7b243f46",
   "metadata": {},
   "outputs": [],
   "source": [
    "### Decision Variables ###"
   ]
  },
  {
   "cell_type": "code",
   "execution_count": null,
   "id": "7121f335",
   "metadata": {},
   "outputs": [],
   "source": [
    "#Add new variable for each combination of days, sessions, tracers\n",
    "#Each day,session,tracer is a Bool of whether day/session/tracer is\n",
    "#instance is scheduled or not\n",
    "x = {}\n",
    "for t in tracers:\n",
    "    for d in days:\n",
    "        for s in sessions:\n",
    "            x[(t,d,s)] = model.NewBoolVar(\n",
    "                \"{}{}{}\".format(tracers_names[t],\n",
    "                                day_names[d],\n",
    "                                sess_times[s]))"
   ]
  },
  {
   "cell_type": "code",
   "execution_count": null,
   "id": "43c15caf",
   "metadata": {},
   "outputs": [],
   "source": [
    "#Decision Variables to link outcomes/concurrent end states"
   ]
  },
  {
   "cell_type": "code",
   "execution_count": null,
   "id": "9d8cc886",
   "metadata": {},
   "outputs": [],
   "source": [
    "#Allows us to sum instances when a PIB scan is followed by an MK6240 scan in the same day\n",
    "#Consider removing t1 and t2 since do not change and not necessary; more readable though?\n",
    "t1 = tracers_names.index(\"PIB\")\n",
    "t2 = tracers_names.index(\"MK6240\")\n",
    "pib_mk_sess_by_day = {}\n",
    "for s in sessions:\n",
    "    for t in [t1,t2]:\n",
    "        for d  in days:\n",
    "            pib_mk_sess_by_day[(t,s,d)] = model.NewBoolVar(\"{}{}{}\".format(tracers_names[t],\n",
    "                                                                           day_names[d],\n",
    "                                                                           sess_times[s]))\n",
    "pib_mk_concur = {}             \n",
    "for s in range(len(sessions)-4): #avoid sessions that could not be followed by an MK6240 scan\n",
    "    for sess in range(s+4,len(sessions)): #MK6240 scan must start after end of PIB\n",
    "        pib_mk_concur[(t1,s,t2,sess)] = model.NewBoolVar(\"{}{};{}{}\".format(tracers_names[t1],\n",
    "                                                                         sess_times[s],\n",
    "                                                                         tracers_names[t2],\n",
    "                                                                         sess_times[sess]))\n",
    "pib_mk_same_day = {}\n",
    "for s in range(len(sessions)-4): #avoid sessions that could not be followed by an MK6240 scan\n",
    "    for sess in range(s+4,len(sessions)): #MK6240 scan must start after end of PIB\n",
    "        for d in days:\n",
    "            pib_mk_same_day[(t1,s,t2,sess,d)] = model.NewBoolVar(\"{}{};{}{};{}\".format(tracers_names[t1],\n",
    "                                                                                       sess_times[s],\n",
    "                                                                                       tracers_names[t2],\n",
    "                                                                                       sess_times[sess],\n",
    "                                                                                       day_names[d]))"
   ]
  },
  {
   "cell_type": "code",
   "execution_count": null,
   "id": "5ef683a0",
   "metadata": {},
   "outputs": [],
   "source": [
    "#Allows us to sum instances when there are multiple MK6240 scans in a day\n",
    "mk = tracers_names.index(\"MK6240\")\n",
    "mk_sess_by_day = {}\n",
    "for s in sessions:\n",
    "    for d in days:\n",
    "            mk_sess_by_day[(mk,s,d)] = model.NewBoolVar(\"{}{}{}\".format(tracers_names[mk],\n",
    "                                                                        day_names[d],\n",
    "                                                                        sess_times[s]))\n",
    "mk_concur = {}             \n",
    "for s in range(len(sessions)-1): #avoid sessions that could not be followed by an MK6240 scan\n",
    "    for sess in range(s+1,len(sessions)): #MK6240 scan must start after end of PIB\n",
    "        mk_concur[(mk,s,sess)] = model.NewBoolVar(\"{};{}{}\".format(tracers_names[mk],\n",
    "                                                                         sess_times[s],\n",
    "                                                                         sess_times[sess]))\n",
    "mk_same_day = {}\n",
    "for s in range(len(sessions)-1): #avoid sessions that could not be followed by an MK6240 scan\n",
    "    for sess in range(s+1,len(sessions)): #MK6240 scan must start after end of PIB\n",
    "        for d in days:\n",
    "            mk_same_day[(mk,s,sess,d)] = model.NewBoolVar(\"{};{}{};{}\".format(tracers_names[mk],\n",
    "                                                                                       sess_times[s],\n",
    "                                                                                       sess_times[sess],\n",
    "                                                                                       day_names[d]))"
   ]
  },
  {
   "cell_type": "code",
   "execution_count": null,
   "id": "4902bba2",
   "metadata": {},
   "outputs": [],
   "source": [
    "#Allows us to sum instances when there are multiple AV1451 scans in a day\n",
    "av = tracers_names.index(\"AV1451\")\n",
    "av_sess_by_day = {}\n",
    "for s in sessions:\n",
    "    for d in days:\n",
    "            av_sess_by_day[(av,s,d)] = model.NewBoolVar(\"{}{}{}\".format(tracers_names[av],\n",
    "                            day_names[d],\n",
    "                            sess_times[s]))\n",
    "av_concur = {}             \n",
    "for s in range(len(sessions)-1): #avoid sessions that could not be followed by an AV1451 scan\n",
    "    for sess in range(s+1,len(sessions)): #AV1451 scan must start after first AV1451\n",
    "        av_concur[(av,s,sess)] = model.NewBoolVar(\"{};{}{}\".format(tracers_names[av],\n",
    "                                                                         sess_times[s],\n",
    "                                                                         sess_times[sess]))\n",
    "av_same_day = {}\n",
    "for s in range(len(sessions)-1): #avoid sessions that could not be followed by an AV1451 scan\n",
    "    for sess in range(s+1,len(sessions)): #MAV1451 scan must start after first AV1451\n",
    "        for d in days:\n",
    "            av_same_day[(av,s,sess,d)] = model.NewBoolVar(\"{};{}{};{}\".format(tracers_names[av],\n",
    "                                                                                       sess_times[s],\n",
    "                                                                                       sess_times[sess],\n",
    "                                                                                       day_names[d]))"
   ]
  },
  {
   "cell_type": "code",
   "execution_count": null,
   "id": "eaf4dc06",
   "metadata": {},
   "outputs": [],
   "source": [
    "#Allows us to sum instances when there are multiple PIB scans in a day\n",
    "pib = tracers_names.index(\"PIB\")\n",
    "pib_sess_by_day = {}\n",
    "for s in sessions:\n",
    "    for d in days:\n",
    "            pib_sess_by_day[(pib,s,d)] = model.NewBoolVar(\"{}{}{}\".format(tracers_names[pib],\n",
    "                            day_names[d],\n",
    "                            sess_times[s]))\n",
    "pib_concur = {}             \n",
    "for s in range(len(sessions)-1): #avoid sessions that could not be followed by an PIB scan\n",
    "    for sess in range(s+1,len(sessions)): #PIB scan must start after first PIB\n",
    "        pib_concur[(pib,s,sess)] = model.NewBoolVar(\"{};{}{}\".format(tracers_names[pib],\n",
    "                                                                         sess_times[s],\n",
    "                                                                         sess_times[sess]))\n",
    "pib_same_day = {}\n",
    "for s in range(len(sessions)-1): #avoid sessions that could not be followed by an PIB scan\n",
    "    for sess in range(s+1,len(sessions)): #PIB scan must start after first PIB\n",
    "        for d in days:\n",
    "            pib_same_day[(pib,s,sess,d)] = model.NewBoolVar(\"{};{}{};{}\".format(tracers_names[pib],\n",
    "                                                                                       sess_times[s],\n",
    "                                                                                       sess_times[sess],\n",
    "                                                                                       day_names[d]))"
   ]
  },
  {
   "cell_type": "code",
   "execution_count": null,
   "id": "3ea09d18",
   "metadata": {},
   "outputs": [],
   "source": [
    "### Hard Constraints ###"
   ]
  },
  {
   "cell_type": "code",
   "execution_count": null,
   "id": "ee0467d4",
   "metadata": {},
   "outputs": [],
   "source": [
    "#Constraints creating distinct sessions"
   ]
  },
  {
   "cell_type": "code",
   "execution_count": null,
   "id": "d653ab27",
   "metadata": {},
   "outputs": [],
   "source": [
    "#Each session gets at most 1 tracer\n",
    "for d in days:\n",
    "    for s in sessions:\n",
    "        model.Add(sum(x[(t,d,s)] for t in tracers) <= 1)"
   ]
  },
  {
   "cell_type": "code",
   "execution_count": null,
   "id": "cbf26385",
   "metadata": {},
   "outputs": [],
   "source": [
    "#2 hr slots without overlap\n",
    "for d in days:\n",
    "    for s in sessions[0:14]:\n",
    "        overlap = []\n",
    "        for t in tracers:\n",
    "            overlap.extend([\n",
    "                x[(t,d,s)],x[(t,d,s+1)],\n",
    "                x[(t,d,s+2)],x[(t,d,s+3)]\n",
    "            ])\n",
    "        model.Add(sum(overlap) <= 1)"
   ]
  },
  {
   "cell_type": "code",
   "execution_count": null,
   "id": "137d6b19",
   "metadata": {},
   "outputs": [],
   "source": [
    "#Each tracer gets at least 1 session per week\n",
    "for t in tracers:\n",
    "    all_sess = []\n",
    "    for d in days:\n",
    "        for s in sessions:\n",
    "            all_sess.append(x[(t,d,s)])\n",
    "    model.Add(sum(all_sess) >= 1)"
   ]
  },
  {
   "cell_type": "code",
   "execution_count": null,
   "id": "e9104082",
   "metadata": {},
   "outputs": [],
   "source": [
    "#PIB constraints"
   ]
  },
  {
   "cell_type": "code",
   "execution_count": null,
   "id": "805a002a",
   "metadata": {},
   "outputs": [],
   "source": [
    "#PIB 3 max per day/batch\n",
    "t = tracers_names.index(\"PIB\")\n",
    "for d in days[1:4]:\n",
    "    p_day = []\n",
    "    for s in sessions:\n",
    "        p_day.append(x[(t,d,s)])\n",
    "        model.Add(sum(p_day) <= 3)"
   ]
  },
  {
   "cell_type": "code",
   "execution_count": null,
   "id": "a02c1619",
   "metadata": {},
   "outputs": [],
   "source": [
    "#PIB 1 max per Monday\n",
    "t = tracers_names.index(\"PIB\")\n",
    "d = day_names.index(\"Mon\")\n",
    "p_mon = []\n",
    "for s in sessions:\n",
    "    p_day.append(x[(t,d,s)])\n",
    "model.Add(sum(p_day) <= 1)"
   ]
  },
  {
   "cell_type": "code",
   "execution_count": null,
   "id": "03f2f98e",
   "metadata": {},
   "outputs": [],
   "source": [
    "#PIB 3 hr gap between PIB scans\n",
    "t = tracers_names.index(\"PIB\")\n",
    "for d in days:\n",
    "    for s in sessions[0:12]:\n",
    "        p_gap = []\n",
    "        for num in range(6):\n",
    "            p_gap.append(x[(t,d,s+num)])\n",
    "        model.Add(sum(p_gap) <= 1)"
   ]
  },
  {
   "cell_type": "code",
   "execution_count": null,
   "id": "76b72763",
   "metadata": {},
   "outputs": [],
   "source": [
    "#AV1451 constraints"
   ]
  },
  {
   "cell_type": "code",
   "execution_count": null,
   "id": "ee13675e",
   "metadata": {},
   "outputs": [],
   "source": [
    "#12 per month for AV1451; Avgerage to 3 per week for weekly model\n",
    "t = tracers_names.index(\"AV1451\")\n",
    "a_week = []\n",
    "for d in days:\n",
    "    for s in sessions:\n",
    "        a_week.append(x[(t,d,s)])\n",
    "model.Add(sum(a_week) <= 3)"
   ]
  },
  {
   "cell_type": "code",
   "execution_count": null,
   "id": "cf66d6d9",
   "metadata": {},
   "outputs": [],
   "source": [
    "#24HR between production but 2 scans per production batch/day \n",
    "t = tracers_names.index(\"AV1451\")\n",
    "\n",
    "for d in days:\n",
    "    a_2 = []\n",
    "    for s in sessions:\n",
    "        a_2.append(x[(t,d,s)])\n",
    "    model.Add(sum(a_2) <= 2)"
   ]
  },
  {
   "cell_type": "code",
   "execution_count": null,
   "id": "a7b91ba6",
   "metadata": {},
   "outputs": [],
   "source": [
    "#12:00 earliest sess for AV1451\n",
    "t = tracers_names.index(\"AV1451\")\n",
    "a_early = []\n",
    "for d in days:\n",
    "    for s in sessions[0:8]:\n",
    "        a_early.append(x[(t,d,s)])\n",
    "        #print(\"x{}{}{}\".format(d,s,t)) #sum() = 0\n",
    "model.Add(sum(a_early) == 0)"
   ]
  },
  {
   "cell_type": "code",
   "execution_count": null,
   "id": "fbbd3eb5",
   "metadata": {},
   "outputs": [],
   "source": [
    "#MK6240 constraints"
   ]
  },
  {
   "cell_type": "code",
   "execution_count": null,
   "id": "09b4614d",
   "metadata": {},
   "outputs": [],
   "source": [
    "#MK6240 max 3 sessions each day\n",
    "t = tracers_names.index(\"MK6240\")\n",
    "for d in days:\n",
    "    m_3 = []\n",
    "    for s in sessions:\n",
    "        m_3.append(x[(t,d,s)])\n",
    "    model.Add(sum(m_3) <= 3)"
   ]
  },
  {
   "cell_type": "code",
   "execution_count": null,
   "id": "8f54703f",
   "metadata": {},
   "outputs": [],
   "source": [
    "#MK6240 only sessions 10 through 16; Tues-Fri\n",
    "t = tracers_names.index(\"MK6240\")\n",
    "m_days = []\n",
    "#sess_not = [0,1,2,3,4,5,6,7,8,16]\n",
    "for d in days[1:5]:\n",
    "    for s in list(sessions[0:9])+list(sessions[16:18]):\n",
    "        m_days.append(x[(t,d,s)])\n",
    "model.Add(sum(m_days) == 0)"
   ]
  },
  {
   "cell_type": "code",
   "execution_count": null,
   "id": "f57fc118",
   "metadata": {},
   "outputs": [],
   "source": [
    "#MK6240 only sessions 8 through 13; Mon\n",
    "t = tracers_names.index(\"MK6240\")\n",
    "d = day_names.index(\"Mon\")\n",
    "m_mon = []\n",
    "for s in list(sessions[0:7])+list(sessions[13:18]):\n",
    "    m_mon.append(x[(t,d,s)])\n",
    "model.Add(sum(m_mon) == 0)"
   ]
  },
  {
   "cell_type": "code",
   "execution_count": null,
   "id": "b7d32af7",
   "metadata": {},
   "outputs": [],
   "source": [
    "#UCB-J constraints"
   ]
  },
  {
   "cell_type": "code",
   "execution_count": null,
   "id": "91ba9bd6",
   "metadata": {},
   "outputs": [],
   "source": [
    "#UCB-J max 1 session each day\n",
    "t = tracers_names.index(\"UCB-J\")\n",
    "for d in days:\n",
    "    u_1 = []\n",
    "    for s in sessions:\n",
    "        u_1.append(x[(t,d,s)])\n",
    "    model.Add(sum(u_1) <= 1)"
   ]
  },
  {
   "cell_type": "code",
   "execution_count": null,
   "id": "deac71a2",
   "metadata": {},
   "outputs": [],
   "source": [
    "#UCB-J session 6 or 12 Tues-Fri\n",
    "t = tracers_names.index(\"UCB-J\")\n",
    "for d in days[1:5]:\n",
    "    u_sess = []\n",
    "    for s in list(sessions[0:5])+list(sessions[6:11])+list(sessions[12:18]):\n",
    "        u_sess.append(x[(t,d,s)])\n",
    "    model.Add(sum(u_sess) == 0)"
   ]
  },
  {
   "cell_type": "code",
   "execution_count": null,
   "id": "0829e087",
   "metadata": {},
   "outputs": [],
   "source": [
    "#UCB-J session 14 Mon\n",
    "t = tracers_names.index(\"UCB-J\")\n",
    "d = day_names.index(\"Mon\")\n",
    "u_mon = []\n",
    "for s in list(sessions[0:13])+list(sessions[14:18]):\n",
    "    u_mon.append(x[(t,d,s)])\n",
    "model.Add(sum(u_mon) == 0)"
   ]
  },
  {
   "cell_type": "code",
   "execution_count": null,
   "id": "d377cb9e",
   "metadata": {},
   "outputs": [],
   "source": [
    "#UCB-J 90-min gap prior to session during which other 11C tracers cannot be scanned [PIB,ER176,UCB-J]\n",
    "#UCB-J constraint already included with 1 session per day constraint\n",
    "#ER176 is not considered in this model\n",
    "t = tracers_names.index(\"UCB-J\")\n",
    "t2 = tracers_names.index(\"PIB\")\n",
    "for d in days[1:5]:\n",
    "    u_sess = []\n",
    "    for s in [sessions[5],sessions[11]]: #only sessions 6 and 12 on these days\n",
    "        #3 sessions before these sessions must be not have scans for [PIB,ER176,UCB-J]\n",
    "        u_sess.append(x[(t,d,s)])\n",
    "        u_sess.append(x[(t2,d,s-1)])\n",
    "        u_sess.append(x[(t2,d,s-2)])\n",
    "        u_sess.append(x[(t2,d,s-3)])\n",
    "    model.Add(sum(u_sess) == 0)"
   ]
  },
  {
   "cell_type": "code",
   "execution_count": null,
   "id": "6ad8c76f",
   "metadata": {},
   "outputs": [],
   "source": [
    "#Constraints for decision variables that link outcomes/concurrent end states"
   ]
  },
  {
   "cell_type": "code",
   "execution_count": null,
   "id": "6fa6d1e6",
   "metadata": {},
   "outputs": [],
   "source": [
    "#Incentivize having PIB scan followed by MK6240 in same day\n",
    "t1 = tracers_names.index(\"PIB\")\n",
    "t2 = tracers_names.index(\"MK6240\")\n",
    "#Link pib_mk_concur with pib_mk_sess_by_day\n",
    "for s in range(len(sessions)-4): #avoid sessions that could not be followed by an MK6240 scan\n",
    "    for sess in range(s+4,len(sessions)): #MK6240 scan must start after end of PIB\n",
    "        for d in days:\n",
    "            #Link pib_mk_same_day with pib_mk_sess_by_day. Keeps variables in sync\n",
    "            pib_day = pib_mk_sess_by_day[(t1,s,d)]\n",
    "            mk_day = pib_mk_sess_by_day[(t2,s,d)]\n",
    "            same_day_pairing = pib_mk_same_day[(t1,s,t2,sess,d)]\n",
    "            model.AddBoolOr([pib_day.Not(), mk_day.Not(), same_day_pairing])\n",
    "            # if same_day_pairing is True, then pib_day and mk_day must be True\n",
    "            model.AddImplication(same_day_pairing, pib_day)\n",
    "            model.AddImplication(same_day_pairing, mk_day)\n",
    "\n",
    "        #Link pib_mk_concur with pib_mk_same_day\n",
    "        pib_then_mk = sum(pib_mk_same_day[((t1,s,t2,sess,d))] for d in days)\n",
    "        model.Add(pib_then_mk == pib_mk_concur[(t1,s,t2,sess)])\n",
    "\n",
    "#https://dougfenstermacher.com/blog/combinatorial-optimization#5-task-assignment"
   ]
  },
  {
   "cell_type": "code",
   "execution_count": null,
   "id": "cd248a87",
   "metadata": {},
   "outputs": [],
   "source": [
    "#Incentivize having multiple MK6240\n",
    "mk = tracers_names.index(\"MK6240\")\n",
    "#Link mk_concur with mk_sess_by_day\n",
    "for s in range(len(sessions)-1): #avoid sessions that could not be followed by an MK6240 scan\n",
    "    for sess in range(s+1,len(sessions)): #MK6240 scan must start after end of first MK6240\n",
    "        for d in days:\n",
    "            #Link mk_same_day with mk_sess_by_day. Keeps variables in sync\n",
    "            #for t in [t1,t2]:\n",
    "            mk_1_day = mk_sess_by_day[(mk,s,d)]\n",
    "            mk_2_day = mk_sess_by_day[(mk,sess,d)]\n",
    "            same_day_pairing = mk_same_day[(mk,s,sess,d)]\n",
    "            model.AddBoolOr([mk_1_day.Not(), mk_2_day.Not(), same_day_pairing])\n",
    "            # if same_day_pairing is True, then mk_1_day and mk_2_day must be True\n",
    "            model.AddImplication(same_day_pairing, mk_1_day)\n",
    "            model.AddImplication(same_day_pairing, mk_2_day)\n",
    "\n",
    "        #Link mk_concur with mk_same_day\n",
    "        two_mk = sum(mk_same_day[((mk,s,sess,d))] for d in days)\n",
    "        model.Add(two_mk == mk_concur[(mk,s,sess)])\n",
    "\n",
    "#https://dougfenstermacher.com/blog/combinatorial-optimization#5-task-assignment"
   ]
  },
  {
   "cell_type": "code",
   "execution_count": null,
   "id": "14a314c4",
   "metadata": {},
   "outputs": [],
   "source": [
    "#Incentivize having multiple AV1451\n",
    "av = tracers_names.index(\"AV1451\")\n",
    "#Link av_concur with av_sess_by_day\n",
    "for s in range(len(sessions)-1): #avoid sessions that could not be followed by an AV1451 scan\n",
    "    for sess in range(s+1,len(sessions)): #AV1451 scan must start after end of first AV1451\n",
    "        for d in days:\n",
    "            #Link mk_same_day with mk_sess_by_day. Keeps variables in sync\n",
    "            #for t in [t1,t2]:\n",
    "            av_1_day = av_sess_by_day[(av,s,d)]\n",
    "            av_2_day = av_sess_by_day[(av,sess,d)]\n",
    "            same_day_pairing = av_same_day[(av,s,sess,d)]\n",
    "            model.AddBoolOr([av_1_day.Not(), av_2_day.Not(), same_day_pairing])\n",
    "            # if same_day_pairing is True, then av_1_day and av_2_day must be True\n",
    "            model.AddImplication(same_day_pairing, av_1_day)\n",
    "            model.AddImplication(same_day_pairing, av_2_day)\n",
    "\n",
    "        #Link mk_concur with mk_same_day\n",
    "        two_av = sum(av_same_day[((av,s,sess,d))] for d in days)\n",
    "        model.Add(two_av == av_concur[(av,s,sess)])\n",
    "\n",
    "#https://dougfenstermacher.com/blog/combinatorial-optimization#5-task-assignment"
   ]
  },
  {
   "cell_type": "code",
   "execution_count": null,
   "id": "49878d71",
   "metadata": {},
   "outputs": [],
   "source": [
    "#Incentivize having multiple PIB\n",
    "PIB = tracers_names.index(\"PIB\")\n",
    "#Link av_concur with pib_sess_by_day\n",
    "for s in range(len(sessions)-1): #avoid sessions that could not be followed by an PIB scan\n",
    "    for sess in range(s+1,len(sessions)): #PIB scan must start after end of first PIB\n",
    "        for d in days:\n",
    "            #Link pib_same_day with pib_sess_by_day. Keeps variables in sync\n",
    "            #for t in [t1,t2]:\n",
    "            pib_1_day = pib_sess_by_day[(pib,s,d)]\n",
    "            pib_2_day = pib_sess_by_day[(pib,sess,d)]\n",
    "            same_day_pairing = pib_same_day[(pib,s,sess,d)]\n",
    "            model.AddBoolOr([pib_1_day.Not(), pib_2_day.Not(), same_day_pairing])\n",
    "            # if same_day_pairing is True, then pib_1_day and pib_2_day must be True\n",
    "            model.AddImplication(same_day_pairing, pib_1_day)\n",
    "            model.AddImplication(same_day_pairing, pib_2_day)\n",
    "\n",
    "        #Link pib_concur with pib_same_day\n",
    "        two_pib = sum(pib_same_day[((pib,s,sess,d))] for d in days)\n",
    "        model.Add(two_pib == pib_concur[(pib,s,sess)])\n",
    "\n",
    "#https://dougfenstermacher.com/blog/combinatorial-optimization#5-task-assignment"
   ]
  },
  {
   "cell_type": "code",
   "execution_count": null,
   "id": "0adaa8a0",
   "metadata": {},
   "outputs": [],
   "source": [
    "### Objective ###"
   ]
  },
  {
   "cell_type": "code",
   "execution_count": null,
   "id": "dfb395b3",
   "metadata": {},
   "outputs": [],
   "source": [
    "# pylint: disable=g-complex-comprehension\n",
    "pib = tracers_names.index(\"PIB\")\n",
    "mk = tracers_names.index(\"MK6240\")\n",
    "av = tracers_names.index(\"AV1451\")\n",
    "model.Maximize(\n",
    "    sum(x[(t, d, s)] for t in tracers for d in days for s in sessions)\n",
    "    + sum(3 * pib_mk_concur[pib,s,mk,sess] for s in range(len(sessions)-4) for sess in range(s+4,len(sessions)))\n",
    "    + sum(3 * mk_concur[mk,s,sess] for s in range(len(sessions)-1) for sess in range(s+1,len(sessions)))\n",
    "    + sum(2 * av_concur[av,s,sess] for s in range(len(sessions)-1) for sess in range(s+1,len(sessions)))\n",
    "    + sum(3 * pib_concur[pib,s,sess] for s in range(len(sessions)-1) for sess in range(s+1,len(sessions)))\n",
    ")\n",
    "#First sum incentivizes scheduling any scans\n",
    "#Second sum incentivizes PIB followed by an MK\n",
    "#Third sum incentivizes multiple MK6240 sessions in one day\n",
    "#Fourth sum incentivizes multiple AV1451 sessions in one day\n",
    "#Fifth sum incentivizes multiple PIB sessions in one day\n",
    "#Coefficients are arbitrary weights"
   ]
  },
  {
   "cell_type": "code",
   "execution_count": null,
   "id": "f4416f83",
   "metadata": {},
   "outputs": [],
   "source": [
    "### Instanciate Solver, solve, and output end states ###"
   ]
  },
  {
   "cell_type": "code",
   "execution_count": null,
   "id": "208da48b",
   "metadata": {},
   "outputs": [],
   "source": [
    "solver = cp_model.CpSolver()\n",
    "status = solver.Solve(model)\n",
    "\n",
    "\n",
    "if status == cp_model.OPTIMAL:\n",
    "    print('Solution:')\n",
    "    results = []\n",
    "    for d in days:\n",
    "        print(day_names[d])\n",
    "        day = [\"Day{}\".format(d)]\n",
    "        for t in tracers:\n",
    "            for s in sessions:\n",
    "                if solver.Value(x[(t, d, s)]) == 1:\n",
    "                    day.append([d,t,s,1])\n",
    "                    if third[t][d][s] == 1:\n",
    "                        #weighted\n",
    "                        print(tracers_names[t], 'scheduled', sess_times[s])\n",
    "                    else:\n",
    "                        print(tracers_names[t], 'scheduled', sess_times[s],\n",
    "                              '(not requested).')\n",
    "        print()\n",
    "        results.append(day)\n",
    "    pd.DataFrame(results).to_csv(\"schedule_maximize_solution.csv\",index=False)e\n",
    "    #Prints CSV file of solution\n",
    "else:\n",
    "    print('No optimal solution found !')"
   ]
  },
  {
   "cell_type": "code",
   "execution_count": null,
   "id": "6b5c9742",
   "metadata": {},
   "outputs": [],
   "source": [
    "### Create Gantt Graph of Solution ###"
   ]
  },
  {
   "cell_type": "code",
   "execution_count": null,
   "id": "3481f34f",
   "metadata": {
    "scrolled": true
   },
   "outputs": [],
   "source": [
    "sch_data = pd.DataFrame([\n",
    "    dict(Session=sess_times[0], Start=0, Finish=5, Tracer=\"NA\", color=\"1\"),\n",
    "    dict(Session=sess_times[1], Start=0, Finish=5, Tracer=\"NA\", color=\"1\"),\n",
    "    dict(Session=sess_times[2], Start=0, Finish=5, Tracer=\"NA\", color=\"1\"),\n",
    "    dict(Session=sess_times[3], Start=0, Finish=5, Tracer=\"NA\", color=\"1\"),\n",
    "    dict(Session=sess_times[4], Start=0, Finish=5, Tracer=\"NA\", color=\"1\"),\n",
    "    dict(Session=sess_times[5], Start=0, Finish=5, Tracer=\"NA\", color=\"1\"),\n",
    "    dict(Session=sess_times[6], Start=0, Finish=5, Tracer=\"NA\", color=\"1\"),\n",
    "    dict(Session=sess_times[7], Start=0, Finish=5, Tracer=\"NA\", color=\"1\"),\n",
    "    dict(Session=sess_times[8], Start=0, Finish=5, Tracer=\"NA\", color=\"1\"),\n",
    "    dict(Session=sess_times[9], Start=0, Finish=5, Tracer=\"NA\", color=\"1\"),\n",
    "    dict(Session=sess_times[10], Start=0, Finish=5, Tracer=\"NA\", color=\"1\"),\n",
    "    dict(Session=sess_times[11], Start=0, Finish=5, Tracer=\"NA\", color=\"1\"),\n",
    "    dict(Session=sess_times[12], Start=0, Finish=5, Tracer=\"NA\", color=\"1\"),\n",
    "    dict(Session=sess_times[13], Start=0, Finish=5, Tracer=\"NA\", color=\"1\"),\n",
    "    dict(Session=sess_times[14], Start=0, Finish=5, Tracer=\"NA\", color=\"1\"),\n",
    "    dict(Session=sess_times[15], Start=0, Finish=5, Tracer=\"NA\", color=\"1\"),\n",
    "    dict(Session=sess_times[16], Start=0, Finish=5, Tracer=\"NA\", color=\"1\")\n",
    "])\n",
    "\n",
    "#Graph solution\n",
    "#Read solution from CSV and then add scheduled sessions to Gantt\n",
    "sch = pd.read_csv(\"schedule_maximize_solution.csv\",\n",
    "                  index_col=0).T #transpose to get days as columns\n",
    "#Add each scheduled scan to calendar\n",
    "tracers_colors = [\"2\",\"3\",\"4\",\"5\"]\n",
    "for column in sch:\n",
    "    day = sch[column]\n",
    "    for entry in day:\n",
    "        if entry == entry: #avoids NaN's created by transpose\n",
    "            ent_l = entry.replace(\" \",\"\").replace(\"[\",\"\").replace(\"]\",\"\").split(\",\")\n",
    "            if int(ent_l[3]) == 1:\n",
    "                sch_entry = dict(Session=sess_times[int(ent_l[2])],\n",
    "                                Start=int(ent_l[0]), Finish=int(ent_l[0])+1,\n",
    "                                Tracer=tracers_names[int(ent_l[1])], \n",
    "                                 color=tracers_colors[int(ent_l[1])])\n",
    "                sch_data.loc[len(sch_data.index)] = sch_entry\n",
    "\n",
    "sch_data['delta'] = sch_data['Finish'] - sch_data['Start']\n",
    "sch_data = sch_data.astype({'Tracer': 'string', 'color': 'string'})\n",
    "\n",
    "fig = px.timeline(sch_data, x_start=\"Start\", x_end=\"Finish\", y=\"Session\",\n",
    "                 color=\"color\", text=\"Tracer\")\n",
    "fig.update_yaxes(autorange=\"reversed\")\n",
    "fig.layout.xaxis.type = 'linear'\n",
    "for d in fig.data:\n",
    "  filt = sch_data['color'] == d.name\n",
    "  d.x = sch_data[filt]['delta'].tolist()\n",
    "fig.show()"
   ]
  },
  {
   "cell_type": "code",
   "execution_count": null,
   "id": "ab92d505",
   "metadata": {},
   "outputs": [],
   "source": [
    "#fig.to_dict() #use if want to adjust formatting"
   ]
  },
  {
   "cell_type": "code",
   "execution_count": null,
   "id": "001682a0",
   "metadata": {},
   "outputs": [],
   "source": [
    "#Save Gantt Graph as HTML\n",
    "file_name = 'scheduling_max_graph'\n",
    "fig.write_html(f\"{file_name}.html\")"
   ]
  }
 ],
 "metadata": {
  "kernelspec": {
   "display_name": "Python 3 (ipykernel)",
   "language": "python",
   "name": "python3"
  },
  "language_info": {
   "codemirror_mode": {
    "name": "ipython",
    "version": 3
   },
   "file_extension": ".py",
   "mimetype": "text/x-python",
   "name": "python",
   "nbconvert_exporter": "python",
   "pygments_lexer": "ipython3",
   "version": "3.9.7"
  }
 },
 "nbformat": 4,
 "nbformat_minor": 5
}
