{
 "cells": [
  {
   "cell_type": "code",
   "execution_count": 4,
   "id": "864abd19",
   "metadata": {},
   "outputs": [],
   "source": [
    "from ortools.sat.python import cp_model\n",
    "import pandas as pd\n",
    "import plotly.express as px"
   ]
  },
  {
   "cell_type": "code",
   "execution_count": 5,
   "id": "dabb64ac",
   "metadata": {},
   "outputs": [],
   "source": [
    "### Variables ###"
   ]
  },
  {
   "cell_type": "code",
   "execution_count": 6,
   "id": "0d4527e7",
   "metadata": {},
   "outputs": [],
   "source": [
    "days = range(5) ###Eventually model will be extended to a month or year\n",
    "#sessions = range(17)\n",
    "sessions = range(19)\n",
    "tracers = range(4)\n",
    "scanners = range(2)\n",
    "\n",
    "pib_mk_weight=6\n",
    "mk_pib_weight=6\n",
    "mk_concur_weight=3\n",
    "pib_concur_weight=3\n",
    "pib_weight=1\n",
    "mk_weight=1\n",
    "ucb_j_weight=0.25\n",
    "\n",
    "###TODO: Add variable for staff schedules; Design matrix?\n",
    "#Human Readable\n",
    "day_names = [\"Mon\",\"Tues\",\"Wed\",\"Thurs\",\"Fri\"]\n",
    "sess_names = [\"08:00 - 08:30\",\"08:30 - 09:00\",\"09:00 - 09:30\",\n",
    "             \"09:30 - 10:00\",\"10:00 - 10:30\",\"10:30 - 11:00\",\n",
    "             \"11:00 - 11:30\",\"11:30 - 12:00\",\"12:00 - 12:30\",\n",
    "             \"12:30 - 13:00\",\"13:00 - 13:30\",\"13:30 - 14:00\",\n",
    "             \"14:00 - 14:30\",\"14:30 - 15:00\",\"15:00 - 15:30\",\n",
    "             \"15:30 - 16:00\",\"16:00 - 16:30\",\"16:30 - 17:00\",\n",
    "              \"17:00 - 17:30\"]\n",
    "tracer_names = [\"PIB\",\"AV1451\",\"MK6240\",\"UCB-J\"]\n",
    "scan_durations = {\"PIB\":3,\"AV1451\":3,\"MK6240\":2,\"UCB-J\":3}\n",
    "tracer_isotopes = {\"PIB\":\"11C\",\"AV1451\":\"18F\",\"MK6240\":\"18F\",\"UCB-J\":\"11C\"}\n",
    "scanner_names = [\"ECAT HR+\",\"Biograph Horizon\"]"
   ]
  },
  {
   "cell_type": "code",
   "execution_count": 7,
   "id": "0ce1d268",
   "metadata": {},
   "outputs": [],
   "source": [
    "### No use for design matrix yet but could be used to \n",
    "#weight individual sessions\n",
    "\n",
    "design_matrix = []\n",
    "#sessions\n",
    "sessions_design = [1]*len(sessions)\n",
    "#days\n",
    "days_design = []\n",
    "for day in range(len(days)):\n",
    "    days_design.append(sessions_design)\n",
    "#tracers\n",
    "tracers_design = []\n",
    "for tracer in range(len(tracers)):\n",
    "    tracers_design.append(days_design)\n",
    "#scanners\n",
    "for scanner in range(len(scanners)):\n",
    "    design_matrix.append(tracers_design)\n",
    "#print(design_matrix)\n",
    "#design_matrix[p][t][d][s]"
   ]
  },
  {
   "cell_type": "code",
   "execution_count": 8,
   "id": "d9e058c9",
   "metadata": {},
   "outputs": [],
   "source": [
    "### Creates the model CP Model: \n",
    "#https://developers.google.com/optimization/reference/python/sat/python/cp_model\n",
    "model = cp_model.CpModel()"
   ]
  },
  {
   "cell_type": "code",
   "execution_count": 9,
   "id": "7b243f46",
   "metadata": {},
   "outputs": [],
   "source": [
    "### Decision Variables ###"
   ]
  },
  {
   "cell_type": "code",
   "execution_count": 10,
   "id": "7121f335",
   "metadata": {},
   "outputs": [],
   "source": [
    "#Add new variable for each combination of days, sessions, tracers\n",
    "#Each day,session,tracer is a Bool of whether day/session/tracer is\n",
    "#instance is scheduled or not\n",
    "x = {}\n",
    "for p in scanners:\n",
    "    for t in tracers:\n",
    "        for d in days:\n",
    "            for s in sessions:\n",
    "                x[(t,d,s,p)] = model.NewBoolVar(\n",
    "                    \"{}{}{}{}\".format(tracer_names[t],\n",
    "                                      day_names[d],\n",
    "                                      sess_names[s],\n",
    "                                      scanner_names[p]))"
   ]
  },
  {
   "cell_type": "code",
   "execution_count": 11,
   "id": "3ea09d18",
   "metadata": {},
   "outputs": [],
   "source": [
    "### Hard Constraints ###"
   ]
  },
  {
   "cell_type": "code",
   "execution_count": 12,
   "id": "b86df396",
   "metadata": {},
   "outputs": [],
   "source": [
    "#Constraints creating distinct sessions"
   ]
  },
  {
   "cell_type": "code",
   "execution_count": 13,
   "id": "85d5e570",
   "metadata": {},
   "outputs": [],
   "source": [
    "#Require each day to have at least n scans\n",
    "#Push solver to schedule scans since no objective function"
   ]
  },
  {
   "cell_type": "code",
   "execution_count": 14,
   "id": "d653ab27",
   "metadata": {},
   "outputs": [],
   "source": [
    "#Each session on a scanner gets at most 1 tracer\n",
    "for p in scanners:\n",
    "    for d in days:\n",
    "        for s in sessions:\n",
    "            model.Add(sum(x[(t,d,s,p)] for t in tracers) <= 1)\n",
    "#Checked"
   ]
  },
  {
   "cell_type": "code",
   "execution_count": 15,
   "id": "cbf26385",
   "metadata": {},
   "outputs": [],
   "source": [
    "#Prevent overlap between scans\n",
    "for p in scanners:\n",
    "    for d in days:\n",
    "        for t1 in tracers:\n",
    "            value=scan_durations[tracer_names[t1]]\n",
    "            for s in sessions[0:len(sessions)-(value-1)]:\n",
    "                overlap=[x[(t1,d,s,p)]]\n",
    "                for blocked in range(1,value):\n",
    "                    for t2 in tracers:\n",
    "                        overlap.append(x[(t2,d,s+blocked,p)])\n",
    "                model.Add(sum(overlap) <= 1)\n",
    "#Checked"
   ]
  },
  {
   "cell_type": "code",
   "execution_count": 16,
   "id": "00b5f942",
   "metadata": {},
   "outputs": [
    {
     "data": {
      "text/plain": [
       "<ortools.sat.python.cp_model.Constraint at 0x7f26fc3a0130>"
      ]
     },
     "execution_count": 16,
     "metadata": {},
     "output_type": "execute_result"
    }
   ],
   "source": [
    "#Prevent scans from being scheduled in a slot where they will finish after 17:30\n",
    "too_late=[]\n",
    "for p in scanners:\n",
    "    for d in days:\n",
    "        for t in tracers:\n",
    "            value=scan_durations[tracer_names[t]]\n",
    "            for s in sessions[len(sessions)-(value-1):len(sessions)]:\n",
    "                too_late.append(x[(t,d,s,p)])\n",
    "model.Add(sum(too_late) == 0)"
   ]
  },
  {
   "cell_type": "code",
   "execution_count": 17,
   "id": "137d6b19",
   "metadata": {},
   "outputs": [],
   "source": [
    "#Each tracer gets at least 1 session per week\n",
    "for t in tracers:\n",
    "    all_sess = []\n",
    "    for p in scanners:\n",
    "        for d in days:\n",
    "            for s in sessions:\n",
    "                all_sess.append(x[(t,d,s,p)])\n",
    "    model.Add(sum(all_sess) >= 1)"
   ]
  },
  {
   "cell_type": "code",
   "execution_count": 18,
   "id": "64665ec9",
   "metadata": {},
   "outputs": [],
   "source": [
    "#PIB constraints"
   ]
  },
  {
   "cell_type": "code",
   "execution_count": 19,
   "id": "805a002a",
   "metadata": {},
   "outputs": [],
   "source": [
    "#PIB 3 max per day/batch\n",
    "pib = tracer_names.index(\"PIB\")\n",
    "for d in days[1:4]:\n",
    "    p_day = []\n",
    "    for p in scanners:\n",
    "        for s in sessions:\n",
    "            p_day.append(x[(pib,d,s,p)])\n",
    "    model.Add(sum(p_day) <= 3)"
   ]
  },
  {
   "cell_type": "code",
   "execution_count": 20,
   "id": "a02c1619",
   "metadata": {},
   "outputs": [
    {
     "data": {
      "text/plain": [
       "<ortools.sat.python.cp_model.Constraint at 0x7f26fc3c9ac0>"
      ]
     },
     "execution_count": 20,
     "metadata": {},
     "output_type": "execute_result"
    }
   ],
   "source": [
    "#PIB 1 max per Monday\n",
    "pib = tracer_names.index(\"PIB\")\n",
    "d = day_names.index(\"Mon\")\n",
    "p_mon = []\n",
    "for p in scanners:\n",
    "    for s in sessions:\n",
    "        p_day.append(x[(pib,d,s,p)])\n",
    "model.Add(sum(p_day) <= 1)"
   ]
  },
  {
   "cell_type": "code",
   "execution_count": 21,
   "id": "03f2f98e",
   "metadata": {},
   "outputs": [],
   "source": [
    "#PIB 3 hr gap between PIB scans\n",
    "three_hours = 6 #sessions\n",
    "pib = tracer_names.index(\"PIB\")\n",
    "for d in days:\n",
    "    for s in sessions[0:len(sessions)-three_hours]:\n",
    "        p_gap = []\n",
    "        for p in scanners:\n",
    "            for num in range(three_hours):\n",
    "                p_gap.append(x[(pib,d,s+num,p)])\n",
    "        model.Add(sum(p_gap) <= 1)"
   ]
  },
  {
   "cell_type": "code",
   "execution_count": 22,
   "id": "37de1f0c",
   "metadata": {},
   "outputs": [],
   "source": [
    "#AV1451 constraints"
   ]
  },
  {
   "cell_type": "code",
   "execution_count": 23,
   "id": "ee13675e",
   "metadata": {},
   "outputs": [
    {
     "data": {
      "text/plain": [
       "<ortools.sat.python.cp_model.Constraint at 0x7f26fc3afdc0>"
      ]
     },
     "execution_count": 23,
     "metadata": {},
     "output_type": "execute_result"
    }
   ],
   "source": [
    "#AV1451 are scheduled every Friday (HR+) and every other Wednesday (Biograph)\n",
    "#Put on schedule for each Wednesday and Friday - Users will remove and rerun\n",
    "av = tracer_names.index(\"AV1451\")\n",
    "av_session = sessions[8]\n",
    "av_week = []\n",
    "wed = days[2]\n",
    "fri = days[len(days)-1]\n",
    "hr = scanners[0]\n",
    "bio = scanners[1]\n",
    "\n",
    "#Wed Biograph\n",
    "model.Add(x[(av,wed,av_session,bio)] == 1)\n",
    "#Fri HR+\n",
    "model.Add(x[(av,fri,av_session,hr)] == 1)"
   ]
  },
  {
   "cell_type": "code",
   "execution_count": 24,
   "id": "cf66d6d9",
   "metadata": {},
   "outputs": [
    {
     "data": {
      "text/plain": [
       "<ortools.sat.python.cp_model.Constraint at 0x7f26fc3b6d60>"
      ]
     },
     "execution_count": 24,
     "metadata": {},
     "output_type": "execute_result"
    }
   ],
   "source": [
    "#AV1451 are not scheduled by ADRC/WRAP so only have two repeating slots\n",
    "av = tracer_names.index(\"AV1451\")\n",
    "a_week = []\n",
    "for p in scanners:\n",
    "    for d in days:\n",
    "        for s in sessions:\n",
    "            a_week.append(x[(av,d,s,p)])\n",
    "model.Add(sum(a_week) == 2)"
   ]
  },
  {
   "cell_type": "code",
   "execution_count": 25,
   "id": "89479fca",
   "metadata": {},
   "outputs": [],
   "source": [
    "#MK6240 constraints"
   ]
  },
  {
   "cell_type": "code",
   "execution_count": 26,
   "id": "09b4614d",
   "metadata": {},
   "outputs": [],
   "source": [
    "#MK6240 max 3 sessions each day\n",
    "mk = tracer_names.index(\"MK6240\")\n",
    "for d in days:\n",
    "    m_3 = []\n",
    "    for p in scanners:\n",
    "        for s in sessions:\n",
    "            m_3.append(x[(mk,d,s,p)])\n",
    "    model.Add(sum(m_3) <= 3)"
   ]
  },
  {
   "cell_type": "code",
   "execution_count": 27,
   "id": "8f54703f",
   "metadata": {},
   "outputs": [
    {
     "data": {
      "text/plain": [
       "<ortools.sat.python.cp_model.Constraint at 0x7f26fc3b6340>"
      ]
     },
     "execution_count": 27,
     "metadata": {},
     "output_type": "execute_result"
    }
   ],
   "source": [
    "#MK6240 only sessions 9 through 17; Tues-Fri\n",
    "mk = tracer_names.index(\"MK6240\")\n",
    "m_days = []\n",
    "#sess_not = [0,1,2,3,4,5,6,7,8,18]\n",
    "for p in scanners:\n",
    "    for d in days[1:5]:\n",
    "        for s in list(sessions[0:9])+list(sessions[18:19]):\n",
    "            m_days.append(x[(mk,d,s,p)])\n",
    "model.Add(sum(m_days) == 0)"
   ]
  },
  {
   "cell_type": "code",
   "execution_count": 28,
   "id": "f57fc118",
   "metadata": {},
   "outputs": [
    {
     "data": {
      "text/plain": [
       "<ortools.sat.python.cp_model.Constraint at 0x7f26fc3afa00>"
      ]
     },
     "execution_count": 28,
     "metadata": {},
     "output_type": "execute_result"
    }
   ],
   "source": [
    "#MK6240 only sessions 8 through 14; Mon\n",
    "mk = tracer_names.index(\"MK6240\")\n",
    "d = day_names.index(\"Mon\")\n",
    "m_mon = []\n",
    "for p in scanners:\n",
    "    for s in list(sessions[0:7])+list(sessions[15:19]):\n",
    "        m_mon.append(x[(mk,d,s,p)])\n",
    "model.Add(sum(m_mon) == 0)"
   ]
  },
  {
   "cell_type": "code",
   "execution_count": 29,
   "id": "0187ec61",
   "metadata": {},
   "outputs": [],
   "source": [
    "#UCB-J constraints"
   ]
  },
  {
   "cell_type": "code",
   "execution_count": 30,
   "id": "91ba9bd6",
   "metadata": {},
   "outputs": [],
   "source": [
    "#UCB-J max 1 session each day\n",
    "ucb_j = tracer_names.index(\"UCB-J\")\n",
    "for d in days:\n",
    "    u_1 = []\n",
    "    for p in scanners:\n",
    "        for s in sessions:\n",
    "            u_1.append(x[(ucb_j,d,s,p)])\n",
    "    model.Add(sum(u_1) <= 1)"
   ]
  },
  {
   "cell_type": "code",
   "execution_count": 31,
   "id": "0839da46",
   "metadata": {},
   "outputs": [],
   "source": [
    "#UCB-J 90-min gap prior to session during which other 11C tracers cannot be scanned [PIB,ER176,UCB-J]\n",
    "#UCB-J constraint already included with 1 session per day constraint\n",
    "#ER176 is not considered in this model\n",
    "ucb_j = tracer_names.index(\"UCB-J\")\n",
    "pib = tracer_names.index(\"PIB\")\n",
    "for d in days[1:5]: #Tues-Fri\n",
    "    for s_ucb_j in sessions[3:len(sessions)]:\n",
    "        for p in scanners:\n",
    "            #3 sessions before these sessions must be not have scans for [PIB,ER176,UCB-J]\n",
    "            for blocked in range(1,4):\n",
    "                u_sess = []\n",
    "                u_sess.append(x[(ucb_j,d,s_ucb_j,p)])\n",
    "                u_sess.append(x[(pib,d,s_ucb_j-blocked,p)])\n",
    "                model.Add(sum(u_sess) <= 1)"
   ]
  },
  {
   "cell_type": "code",
   "execution_count": 32,
   "id": "e138f39c",
   "metadata": {},
   "outputs": [],
   "source": [
    "### Instanciate Solver, solve, and output end states ###"
   ]
  },
  {
   "cell_type": "code",
   "execution_count": 33,
   "id": "8e0bf93b",
   "metadata": {},
   "outputs": [],
   "source": [
    "#Class used from Google OR Docs Employee Scheduling Examples\n",
    "###TODO: Rename for tracer scheduling\n",
    "class NursesPartialSolutionPrinter(cp_model.CpSolverSolutionCallback):\n",
    "    \"\"\"Print intermediate solutions.\"\"\"\n",
    "\n",
    "    def __init__(self, shifts, num_nurses, num_days, \n",
    "                 num_shifts, scanners, limit):\n",
    "        cp_model.CpSolverSolutionCallback.__init__(self)\n",
    "        self._shifts = shifts\n",
    "        self._num_nurses = num_nurses\n",
    "        self._num_days = num_days\n",
    "        self._num_shifts = num_shifts\n",
    "        self._scanners = scanners\n",
    "        self._solution_count = 0\n",
    "        self._solution_limit = limit\n",
    "        #self.solutions = {}\n",
    "\n",
    "\n",
    "    def on_solution_callback(self):      \n",
    "        self._solution_count += 1\n",
    "        #Create dataframe to hold results\n",
    "        results = []\n",
    "        #results = {}\n",
    "        #results = [{\"Solution\": self._solution_count}]\n",
    "        #print('Solution %i' % self._solution_count)\n",
    "        for p in self._scanners:\n",
    "            scanner = [\"Scanner{}.format(p)\"]\n",
    "            for d in self._num_days:\n",
    "                #Get each day's schedule\n",
    "                day = [\"Day{}\".format(d)]\n",
    "                #day = {}\n",
    "                #day = [{\"Day\":d}]\n",
    "                #for d in range(self._num_days):\n",
    "                #print('Day %i' % d)\n",
    "                for n in self._num_nurses:\n",
    "                #for n in range(self._num_nurses):\n",
    "                    is_working = False\n",
    "                    for s in self._num_shifts:\n",
    "                    #for s in range(self._num_shifts):\n",
    "                        if self.Value(self._shifts[(n, d, s, p)]):\n",
    "                            is_working = True\n",
    "                            #print('  Nurse %i works shift %i' % (n, s))\n",
    "                            day.append([d,n,s,p,1])\n",
    "                            #day.update({(d,n,s) : 1})\n",
    "                            #day.append({\"Day\":d,\"Tracer\":n,\"Session\":s,\"Assigned\":1})\n",
    "                    if not is_working:\n",
    "                        #print('  Nurse {} does not work'.format(n))\n",
    "                        #day.append({\"Day\":d,\"Tracer\":n,\"Session\":s,\"Assigned\":0})\n",
    "                        #day.update({(d,n,s) : 0})\n",
    "                        day.append([d,n,s,p,0])\n",
    "                #results.update({d : day})\n",
    "                results.append(day)\n",
    "            #self.solutions.update({self._solution_count : results})\n",
    "        pd.DataFrame(results).to_csv(\"schedule_solution_{}.csv\".format(self._solution_count),index=False)\n",
    "        if self._solution_count >= self._solution_limit:\n",
    "            print('Stop search after %i solutions' % self._solution_limit)\n",
    "            self.StopSearch()\n",
    "\n",
    "    def solution_count(self):\n",
    "        return self._solution_count"
   ]
  },
  {
   "cell_type": "code",
   "execution_count": 34,
   "id": "208da48b",
   "metadata": {},
   "outputs": [
    {
     "name": "stdout",
     "output_type": "stream",
     "text": [
      "Stop search after 3 solutions\n",
      "\n",
      "Statistics\n",
      "  - conflicts      : 0\n",
      "  - branches       : 1990\n",
      "  - wall time      : 0.219918 s\n",
      "  - solutions found: 3\n"
     ]
    }
   ],
   "source": [
    "#Save solutions as CSV\n",
    "solver = cp_model.CpSolver()\n",
    "solver.parameters.linearization_level = 0\n",
    "#Enumerate all solutions\n",
    "solver.parameters.enumerate_all_solutions = True\n",
    "#Display the first n solutions\n",
    "solution_limit = 3\n",
    "solution_printer = NursesPartialSolutionPrinter(x, tracers,\n",
    "                                                days, sessions,\n",
    "                                                scanners,\n",
    "                                                solution_limit)\n",
    "solver.Solve(model, solution_printer)\n",
    "# Statistics.\n",
    "print('\\nStatistics')\n",
    "print('  - conflicts      : %i' % solver.NumConflicts())\n",
    "print('  - branches       : %i' % solver.NumBranches())\n",
    "print('  - wall time      : %f s' % solver.WallTime())\n",
    "print('  - solutions found: %i' % solution_printer.solution_count())"
   ]
  },
  {
   "cell_type": "code",
   "execution_count": 35,
   "id": "af4cb4fa",
   "metadata": {},
   "outputs": [],
   "source": [
    "### Create Gantt Graph of Solution ###"
   ]
  },
  {
   "cell_type": "code",
   "execution_count": 39,
   "id": "f1b6caf1",
   "metadata": {},
   "outputs": [
    {
     "name": "stdout",
     "output_type": "stream",
     "text": [
      "0              Day0              Day0\n",
      "1   [0, 0, 3, 0, 1]  [0, 0, 18, 1, 0]\n",
      "2  [0, 1, 18, 0, 0]  [0, 1, 18, 1, 0]\n",
      "3   [0, 2, 7, 0, 1]  [0, 2, 18, 1, 0]\n",
      "4   [0, 3, 0, 0, 1]  [0, 3, 18, 1, 0]\n",
      "Day0\n"
     ]
    },
    {
     "ename": "IndexError",
     "evalue": "list index out of range",
     "output_type": "error",
     "traceback": [
      "\u001b[0;31m---------------------------------------------------------------------------\u001b[0m",
      "\u001b[0;31mIndexError\u001b[0m                                Traceback (most recent call last)",
      "\u001b[0;32m/tmp/ipykernel_27123/2218098113.py\u001b[0m in \u001b[0;36m<module>\u001b[0;34m\u001b[0m\n\u001b[1;32m     18\u001b[0m             \u001b[0mprint\u001b[0m\u001b[0;34m(\u001b[0m\u001b[0mentry\u001b[0m\u001b[0;34m)\u001b[0m\u001b[0;34m\u001b[0m\u001b[0;34m\u001b[0m\u001b[0m\n\u001b[1;32m     19\u001b[0m             \u001b[0ment_l\u001b[0m \u001b[0;34m=\u001b[0m \u001b[0mentry\u001b[0m\u001b[0;34m.\u001b[0m\u001b[0mreplace\u001b[0m\u001b[0;34m(\u001b[0m\u001b[0;34m\" \"\u001b[0m\u001b[0;34m,\u001b[0m\u001b[0;34m\"\"\u001b[0m\u001b[0;34m)\u001b[0m\u001b[0;34m.\u001b[0m\u001b[0mreplace\u001b[0m\u001b[0;34m(\u001b[0m\u001b[0;34m\"[\"\u001b[0m\u001b[0;34m,\u001b[0m\u001b[0;34m\"\"\u001b[0m\u001b[0;34m)\u001b[0m\u001b[0;34m.\u001b[0m\u001b[0mreplace\u001b[0m\u001b[0;34m(\u001b[0m\u001b[0;34m\"]\"\u001b[0m\u001b[0;34m,\u001b[0m\u001b[0;34m\"\"\u001b[0m\u001b[0;34m)\u001b[0m\u001b[0;34m.\u001b[0m\u001b[0msplit\u001b[0m\u001b[0;34m(\u001b[0m\u001b[0;34m\",\"\u001b[0m\u001b[0;34m)\u001b[0m\u001b[0;34m\u001b[0m\u001b[0;34m\u001b[0m\u001b[0m\n\u001b[0;32m---> 20\u001b[0;31m             \u001b[0;32mif\u001b[0m \u001b[0mint\u001b[0m\u001b[0;34m(\u001b[0m\u001b[0ment_l\u001b[0m\u001b[0;34m[\u001b[0m\u001b[0;36m4\u001b[0m\u001b[0;34m]\u001b[0m\u001b[0;34m)\u001b[0m \u001b[0;34m==\u001b[0m \u001b[0;36m1\u001b[0m \u001b[0;32mand\u001b[0m \u001b[0mint\u001b[0m\u001b[0;34m(\u001b[0m\u001b[0ment_l\u001b[0m\u001b[0;34m[\u001b[0m\u001b[0;36m3\u001b[0m\u001b[0;34m]\u001b[0m\u001b[0;34m)\u001b[0m \u001b[0;34m==\u001b[0m \u001b[0;36m0\u001b[0m\u001b[0;34m:\u001b[0m \u001b[0;31m#Get first scanner schedule\u001b[0m\u001b[0;34m\u001b[0m\u001b[0;34m\u001b[0m\u001b[0m\n\u001b[0m\u001b[1;32m     21\u001b[0m                 \u001b[0mdur\u001b[0m \u001b[0;34m=\u001b[0m \u001b[0mscan_durations\u001b[0m\u001b[0;34m[\u001b[0m\u001b[0mtracer_names\u001b[0m\u001b[0;34m[\u001b[0m\u001b[0mint\u001b[0m\u001b[0;34m(\u001b[0m\u001b[0ment_l\u001b[0m\u001b[0;34m[\u001b[0m\u001b[0;36m1\u001b[0m\u001b[0;34m]\u001b[0m\u001b[0;34m)\u001b[0m\u001b[0;34m]\u001b[0m\u001b[0;34m]\u001b[0m \u001b[0;31m#get how many sessions this scan will last\u001b[0m\u001b[0;34m\u001b[0m\u001b[0;34m\u001b[0m\u001b[0m\n\u001b[1;32m     22\u001b[0m                 \u001b[0;32mfor\u001b[0m \u001b[0ms\u001b[0m \u001b[0;32min\u001b[0m \u001b[0mrange\u001b[0m\u001b[0;34m(\u001b[0m\u001b[0mdur\u001b[0m\u001b[0;34m)\u001b[0m\u001b[0;34m:\u001b[0m\u001b[0;34m\u001b[0m\u001b[0;34m\u001b[0m\u001b[0m\n",
      "\u001b[0;31mIndexError\u001b[0m: list index out of range"
     ]
    }
   ],
   "source": [
    "sch_data = pd.DataFrame(columns=[\"Session\",\"Start\",\"Finish\",\"Tracer\",\"color\"])\n",
    "#seed data with a background color for each session if no scan\n",
    "for entry in range(len(sess_names)):\n",
    "    sch_data.loc[len(sch_data.index)] = dict(Session=sess_names[entry], Start=0, Finish=5, Tracer=\"\", color=\"1\")\n",
    "    \n",
    "#Graph solution\n",
    "#Read solution from CSV and then add scheduled sessions to Gantt\n",
    "sch = pd.read_csv(\"schedule_solution_1.csv\",\n",
    "                  index_col=0).T #transpose to get days as columns\n",
    "\n",
    "#Add each scheduled scan to calendar\n",
    "tracers_colors = [\"2\",\"3\",\"4\",\"5\"]\n",
    "for column in sch:\n",
    "    day = sch[column]\n",
    "    print(day)\n",
    "    for entry in day:\n",
    "        if entry == entry: #avoids NaN's created by transpose\n",
    "            print(entry)\n",
    "            ent_l = entry.replace(\" \",\"\").replace(\"[\",\"\").replace(\"]\",\"\").split(\",\")\n",
    "            if int(ent_l[4]) == 1 and int(ent_l[3]) == 0: #Get first scanner schedule\n",
    "                dur = scan_durations[tracer_names[int(ent_l[1])]] #get how many sessions this scan will last\n",
    "                for s in range(dur):\n",
    "                    sch_entry = dict(Session=sess_names[int(ent_l[2])+s], #add entry for each 30min of scan\n",
    "                                    Start=int(ent_l[0]), Finish=int(ent_l[0])+1,\n",
    "                                    Tracer=tracer_names[int(ent_l[1])], \n",
    "                                     color=tracers_colors[int(ent_l[1])])\n",
    "                    sch_data.loc[len(sch_data.index)] = sch_entry\n",
    "\n",
    "sch_data['delta'] = sch_data['Finish'] - sch_data['Start']\n",
    "sch_data = sch_data.astype({'Tracer': 'string', 'color': 'string'})\n",
    "\n",
    "fig_hr = px.timeline(sch_data, x_start=\"Start\", x_end=\"Finish\", y=\"Session\",\n",
    "                 color=\"color\", text=\"Tracer\")\n",
    "fig_hr.update_yaxes(autorange=\"reversed\")\n",
    "fig_hr.layout.xaxis.type = 'linear'\n",
    "for d in fig_hr.data:\n",
    "  filt = sch_data['color'] == d.name\n",
    "  d.x = sch_data[filt]['delta'].tolist()\n",
    "fig_hr.show()"
   ]
  },
  {
   "cell_type": "code",
   "execution_count": null,
   "id": "ab92d505",
   "metadata": {},
   "outputs": [],
   "source": [
    "#fig.to_dict() #use if want to adjust formatting"
   ]
  },
  {
   "cell_type": "code",
   "execution_count": null,
   "id": "001682a0",
   "metadata": {},
   "outputs": [],
   "source": [
    "#Save Gantt Graph as HTML\n",
    "file_name = 'scheduling_solution_1_graph'\n",
    "fig.write_html(f\"{file_name}.html\")"
   ]
  },
  {
   "cell_type": "code",
   "execution_count": null,
   "id": "81bf0b5d",
   "metadata": {},
   "outputs": [],
   "source": []
  },
  {
   "cell_type": "code",
   "execution_count": null,
   "id": "f74b1f5c",
   "metadata": {},
   "outputs": [],
   "source": []
  }
 ],
 "metadata": {
  "kernelspec": {
   "display_name": "Python 3 (ipykernel)",
   "language": "python",
   "name": "python3"
  },
  "language_info": {
   "codemirror_mode": {
    "name": "ipython",
    "version": 3
   },
   "file_extension": ".py",
   "mimetype": "text/x-python",
   "name": "python",
   "nbconvert_exporter": "python",
   "pygments_lexer": "ipython3",
   "version": "3.9.7"
  }
 },
 "nbformat": 4,
 "nbformat_minor": 5
}
