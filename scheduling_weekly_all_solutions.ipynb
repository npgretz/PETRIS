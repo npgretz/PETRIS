{
 "cells": [
  {
   "cell_type": "code",
   "execution_count": 1,
   "id": "864abd19",
   "metadata": {},
   "outputs": [],
   "source": [
    "from ortools.sat.python import cp_model\n",
    "import pandas as pd\n",
    "import plotly.express as px"
   ]
  },
  {
   "cell_type": "code",
   "execution_count": 2,
   "id": "dabb64ac",
   "metadata": {},
   "outputs": [],
   "source": [
    "### Variables ###"
   ]
  },
  {
   "cell_type": "code",
   "execution_count": 3,
   "id": "0d4527e7",
   "metadata": {},
   "outputs": [],
   "source": [
    "days = range(5) ###Eventually model will be extended to a month or year\n",
    "sessions = range(17)\n",
    "tracers = range(4)\n",
    "\n",
    "###TODO: Add variable for second PET scanner and staff schedules; Design matrix?\n",
    "#Human Readable\n",
    "day_names = [\"Mon\",\"Tues\",\"Wed\",\"Thurs\",\"Fri\"]\n",
    "sess_times = [\"08:00 - 10:00\",\"08:30 - 10:30\",\"09:00 - 11:00\",\n",
    "             \"09:30 - 11:30\",\"10:00 - 12:00\",\"10:30 - 12:30\",\n",
    "             \"11:00 - 13:00\",\"11:30 - 13:30\",\"12:00 - 14:00\",\n",
    "             \"12:30 - 14:30\",\"13:00 - 15:00\",\"13:30 - 15:30\",\n",
    "             \"14:00 - 16:00\",\"14:30 - 16:30\",\"15:00 - 17:00\",\n",
    "             \"15:30 - 17:30\",\"16:00 - 18:00\"]\n",
    "tracers_names = [\"PIB\",\"AV1451\",\"MK6240\",\"UCB-J\"]"
   ]
  },
  {
   "cell_type": "code",
   "execution_count": 4,
   "id": "0ce1d268",
   "metadata": {},
   "outputs": [],
   "source": [
    "### No use for design matrix yet but could be used to \n",
    "#weight individual sessions\n",
    "first = [1,1,1,1,1,\n",
    "         1,1,1,1,1,\n",
    "         1,1,1,1,1,\n",
    "         1,1]\n",
    "\n",
    "second = [first, first, first, first, first]\n",
    "third = [second, second, second, second]\n",
    "#print(third)"
   ]
  },
  {
   "cell_type": "code",
   "execution_count": 5,
   "id": "d9e058c9",
   "metadata": {},
   "outputs": [],
   "source": [
    "### Creates the model CP Model: \n",
    "#https://developers.google.com/optimization/reference/python/sat/python/cp_model\n",
    "model = cp_model.CpModel()"
   ]
  },
  {
   "cell_type": "code",
   "execution_count": 6,
   "id": "7b243f46",
   "metadata": {},
   "outputs": [],
   "source": [
    "### Decision Variables ###"
   ]
  },
  {
   "cell_type": "code",
   "execution_count": 7,
   "id": "7121f335",
   "metadata": {},
   "outputs": [],
   "source": [
    "#Add new variable for each combination of days, sessions, tracers\n",
    "#Each day,session,tracer is a Bool of whether day/session/tracer is\n",
    "#instance is scheduled or not\n",
    "x = {}\n",
    "for t in tracers:\n",
    "    for d in days:\n",
    "        for s in sessions:\n",
    "            x[(t,d,s)] = model.NewBoolVar(\n",
    "                \"{}{}{}\".format(tracers_names[t],\n",
    "                                day_names[d],\n",
    "                                sess_times[s]))"
   ]
  },
  {
   "cell_type": "code",
   "execution_count": 8,
   "id": "3ea09d18",
   "metadata": {},
   "outputs": [],
   "source": [
    "### Hard Constraints ###"
   ]
  },
  {
   "cell_type": "code",
   "execution_count": 9,
   "id": "b86df396",
   "metadata": {},
   "outputs": [],
   "source": [
    "#Constraints creating distinct sessions"
   ]
  },
  {
   "cell_type": "code",
   "execution_count": 10,
   "id": "85d5e570",
   "metadata": {},
   "outputs": [],
   "source": [
    "#Require each day to have at least n scans\n",
    "#Push solver to schedule scans since no objective function"
   ]
  },
  {
   "cell_type": "code",
   "execution_count": 11,
   "id": "d653ab27",
   "metadata": {},
   "outputs": [],
   "source": [
    "#Each session gets at most 1 tracer\n",
    "for d in days:\n",
    "    for s in sessions:\n",
    "        model.Add(sum(x[(t,d,s)] for t in tracers) <= 1)"
   ]
  },
  {
   "cell_type": "code",
   "execution_count": 12,
   "id": "cbf26385",
   "metadata": {},
   "outputs": [],
   "source": [
    "#2 hr slots without overlap\n",
    "for d in days:\n",
    "    for s in sessions[0:14]:\n",
    "        overlap = []\n",
    "        for t in tracers:\n",
    "            overlap.extend([\n",
    "                x[(t,d,s)],x[(t,d,s+1)],\n",
    "                x[(t,d,s+2)],x[(t,d,s+3)]\n",
    "            ])\n",
    "        model.Add(sum(overlap) <= 1)"
   ]
  },
  {
   "cell_type": "code",
   "execution_count": 13,
   "id": "137d6b19",
   "metadata": {},
   "outputs": [],
   "source": [
    "#Each tracer gets at least 1 session per week\n",
    "for t in tracers:\n",
    "    all_sess = []\n",
    "    for d in days:\n",
    "        for s in sessions:\n",
    "            all_sess.append(x[(t,d,s)])\n",
    "    model.Add(sum(all_sess) >= 1)"
   ]
  },
  {
   "cell_type": "code",
   "execution_count": 14,
   "id": "64665ec9",
   "metadata": {},
   "outputs": [],
   "source": [
    "#PIB constraints"
   ]
  },
  {
   "cell_type": "code",
   "execution_count": 15,
   "id": "805a002a",
   "metadata": {},
   "outputs": [],
   "source": [
    "#PIB 3 max per day/batch\n",
    "t = tracers_names.index(\"PIB\")\n",
    "for d in days[1:4]:\n",
    "    p_day = []\n",
    "    for s in sessions:\n",
    "        p_day.append(x[(t,d,s)])\n",
    "        model.Add(sum(p_day) <= 3)"
   ]
  },
  {
   "cell_type": "code",
   "execution_count": 16,
   "id": "a02c1619",
   "metadata": {},
   "outputs": [
    {
     "data": {
      "text/plain": [
       "<ortools.sat.python.cp_model.Constraint at 0x7f8f300a0250>"
      ]
     },
     "execution_count": 16,
     "metadata": {},
     "output_type": "execute_result"
    }
   ],
   "source": [
    "#PIB 1 max per Monday\n",
    "t = tracers_names.index(\"PIB\")\n",
    "d = day_names.index(\"Mon\")\n",
    "p_mon = []\n",
    "for s in sessions:\n",
    "    p_day.append(x[(t,d,s)])\n",
    "model.Add(sum(p_day) <= 1)"
   ]
  },
  {
   "cell_type": "code",
   "execution_count": 17,
   "id": "03f2f98e",
   "metadata": {},
   "outputs": [],
   "source": [
    "#PIB 3 hr gap between PIB scans\n",
    "t = tracers_names.index(\"PIB\")\n",
    "for d in days:\n",
    "    for s in sessions[0:12]:\n",
    "        p_gap = []\n",
    "        for num in range(6):\n",
    "            p_gap.append(x[(t,d,s+num)])\n",
    "        model.Add(sum(p_gap) <= 1)"
   ]
  },
  {
   "cell_type": "code",
   "execution_count": 18,
   "id": "37de1f0c",
   "metadata": {},
   "outputs": [],
   "source": [
    "#AV1451 constraints"
   ]
  },
  {
   "cell_type": "code",
   "execution_count": 19,
   "id": "ee13675e",
   "metadata": {},
   "outputs": [
    {
     "data": {
      "text/plain": [
       "<ortools.sat.python.cp_model.Constraint at 0x7f8f300aff40>"
      ]
     },
     "execution_count": 19,
     "metadata": {},
     "output_type": "execute_result"
    }
   ],
   "source": [
    "#12 per month for AV1451; Avgerage to 3 per week for weekly model\n",
    "t = tracers_names.index(\"AV1451\")\n",
    "a_week = []\n",
    "for d in days:\n",
    "    for s in sessions:\n",
    "        a_week.append(x[(t,d,s)])\n",
    "model.Add(sum(a_week) <= 3)"
   ]
  },
  {
   "cell_type": "code",
   "execution_count": 20,
   "id": "cf66d6d9",
   "metadata": {},
   "outputs": [],
   "source": [
    "#24HR between production but 2 scans per production batch/day \n",
    "t = tracers_names.index(\"AV1451\")\n",
    "\n",
    "for d in days:\n",
    "    a_2 = []\n",
    "    for s in sessions:\n",
    "        a_2.append(x[(t,d,s)])\n",
    "    model.Add(sum(a_2) <= 2)"
   ]
  },
  {
   "cell_type": "code",
   "execution_count": 21,
   "id": "a7b91ba6",
   "metadata": {},
   "outputs": [
    {
     "data": {
      "text/plain": [
       "<ortools.sat.python.cp_model.Constraint at 0x7f8f300af130>"
      ]
     },
     "execution_count": 21,
     "metadata": {},
     "output_type": "execute_result"
    }
   ],
   "source": [
    "#12:00 earliest sess for AV1451\n",
    "t = tracers_names.index(\"AV1451\")\n",
    "a_early = []\n",
    "for d in days:\n",
    "    for s in sessions[0:8]:\n",
    "        a_early.append(x[(t,d,s)])\n",
    "        #print(\"x{}{}{}\".format(d,s,t)) #sum() = 0\n",
    "model.Add(sum(a_early) == 0)"
   ]
  },
  {
   "cell_type": "code",
   "execution_count": 22,
   "id": "89479fca",
   "metadata": {},
   "outputs": [],
   "source": [
    "#MK6240 constraints"
   ]
  },
  {
   "cell_type": "code",
   "execution_count": 23,
   "id": "09b4614d",
   "metadata": {},
   "outputs": [],
   "source": [
    "#MK6240 max 3 sessions each day\n",
    "t = tracers_names.index(\"MK6240\")\n",
    "for d in days:\n",
    "    m_3 = []\n",
    "    for s in sessions:\n",
    "        m_3.append(x[(t,d,s)])\n",
    "    model.Add(sum(m_3) <= 3)"
   ]
  },
  {
   "cell_type": "code",
   "execution_count": 24,
   "id": "8f54703f",
   "metadata": {},
   "outputs": [
    {
     "data": {
      "text/plain": [
       "<ortools.sat.python.cp_model.Constraint at 0x7f8f300928b0>"
      ]
     },
     "execution_count": 24,
     "metadata": {},
     "output_type": "execute_result"
    }
   ],
   "source": [
    "#MK6240 only sessions 10 through 16; Tues-Fri\n",
    "t = tracers_names.index(\"MK6240\")\n",
    "m_days = []\n",
    "#sess_not = [0,1,2,3,4,5,6,7,8,16]\n",
    "for d in days[1:5]:\n",
    "    for s in list(sessions[0:9])+list(sessions[16:18]):\n",
    "        m_days.append(x[(t,d,s)])\n",
    "model.Add(sum(m_days) == 0)"
   ]
  },
  {
   "cell_type": "code",
   "execution_count": 25,
   "id": "f57fc118",
   "metadata": {},
   "outputs": [
    {
     "data": {
      "text/plain": [
       "<ortools.sat.python.cp_model.Constraint at 0x7f8f300af400>"
      ]
     },
     "execution_count": 25,
     "metadata": {},
     "output_type": "execute_result"
    }
   ],
   "source": [
    "#MK6240 only sessions 8 through 13; Mon\n",
    "t = tracers_names.index(\"MK6240\")\n",
    "d = day_names.index(\"Mon\")\n",
    "m_mon = []\n",
    "for s in list(sessions[0:7])+list(sessions[13:18]):\n",
    "    m_mon.append(x[(t,d,s)])\n",
    "model.Add(sum(m_mon) == 0)"
   ]
  },
  {
   "cell_type": "code",
   "execution_count": 26,
   "id": "0187ec61",
   "metadata": {},
   "outputs": [],
   "source": [
    "#UCB-J constraints"
   ]
  },
  {
   "cell_type": "code",
   "execution_count": 27,
   "id": "91ba9bd6",
   "metadata": {},
   "outputs": [],
   "source": [
    "#UCB-J max 1 session each day\n",
    "t = tracers_names.index(\"UCB-J\")\n",
    "for d in days:\n",
    "    u_1 = []\n",
    "    for s in sessions:\n",
    "        u_1.append(x[(t,d,s)])\n",
    "    model.Add(sum(u_1) <= 1)"
   ]
  },
  {
   "cell_type": "code",
   "execution_count": 28,
   "id": "deac71a2",
   "metadata": {},
   "outputs": [],
   "source": [
    "#UCB-J session 6 or 12 Tues-Fri\n",
    "t = tracers_names.index(\"UCB-J\")\n",
    "for d in days[1:5]:\n",
    "    u_sess = []\n",
    "    for s in list(sessions[0:5])+list(sessions[6:11])+list(sessions[12:18]):\n",
    "        u_sess.append(x[(t,d,s)])\n",
    "    model.Add(sum(u_sess) == 0)"
   ]
  },
  {
   "cell_type": "code",
   "execution_count": 29,
   "id": "0829e087",
   "metadata": {},
   "outputs": [
    {
     "data": {
      "text/plain": [
       "<ortools.sat.python.cp_model.Constraint at 0x7f8f300a0f70>"
      ]
     },
     "execution_count": 29,
     "metadata": {},
     "output_type": "execute_result"
    }
   ],
   "source": [
    "#UCB-J session 14 Mon\n",
    "t = tracers_names.index(\"UCB-J\")\n",
    "d = day_names.index(\"Mon\")\n",
    "u_mon = []\n",
    "for s in list(sessions[0:13])+list(sessions[14:18]):\n",
    "    u_mon.append(x[(t,d,s)])\n",
    "model.Add(sum(u_mon) == 0)"
   ]
  },
  {
   "cell_type": "code",
   "execution_count": 30,
   "id": "e138f39c",
   "metadata": {},
   "outputs": [],
   "source": [
    "### Instanciate Solver, solve, and output end states ###"
   ]
  },
  {
   "cell_type": "code",
   "execution_count": 31,
   "id": "8e0bf93b",
   "metadata": {},
   "outputs": [],
   "source": [
    "#Class used from Google OR Docs Employee Scheduling Examples\n",
    "###TODO: Rename for tracer scheduling\n",
    "class NursesPartialSolutionPrinter(cp_model.CpSolverSolutionCallback):\n",
    "    \"\"\"Print intermediate solutions.\"\"\"\n",
    "\n",
    "    def __init__(self, shifts, num_nurses, num_days, num_shifts, limit):\n",
    "        cp_model.CpSolverSolutionCallback.__init__(self)\n",
    "        self._shifts = shifts\n",
    "        self._num_nurses = num_nurses\n",
    "        self._num_days = num_days\n",
    "        self._num_shifts = num_shifts\n",
    "        self._solution_count = 0\n",
    "        self._solution_limit = limit\n",
    "        #self.solutions = {}\n",
    "\n",
    "\n",
    "    def on_solution_callback(self):      \n",
    "        self._solution_count += 1\n",
    "        #Create dataframe to hold results\n",
    "        results = []\n",
    "        #results = {}\n",
    "        #results = [{\"Solution\": self._solution_count}]\n",
    "        #print('Solution %i' % self._solution_count)\n",
    "        for d in self._num_days:\n",
    "            #Get each day's schedule\n",
    "            day = [\"Day{}\".format(d)]\n",
    "            #day = {}\n",
    "            #day = [{\"Day\":d}]\n",
    "            #for d in range(self._num_days):\n",
    "            #print('Day %i' % d)\n",
    "            for n in self._num_nurses:\n",
    "            #for n in range(self._num_nurses):\n",
    "                is_working = False\n",
    "                for s in self._num_shifts:\n",
    "                #for s in range(self._num_shifts):\n",
    "                    if self.Value(self._shifts[(n, d, s)]):\n",
    "                        is_working = True\n",
    "                        #print('  Nurse %i works shift %i' % (n, s))\n",
    "                        day.append([d,n,s,1])\n",
    "                        #day.update({(d,n,s) : 1})\n",
    "                        #day.append({\"Day\":d,\"Tracer\":n,\"Session\":s,\"Assigned\":1})\n",
    "                if not is_working:\n",
    "                    #print('  Nurse {} does not work'.format(n))\n",
    "                    #day.append({\"Day\":d,\"Tracer\":n,\"Session\":s,\"Assigned\":0})\n",
    "                    #day.update({(d,n,s) : 0})\n",
    "                    day.append([d,n,s,0])\n",
    "            #results.update({d : day})\n",
    "            results.append(day)\n",
    "        #self.solutions.update({self._solution_count : results})\n",
    "        pd.DataFrame(results).to_csv(\"schedule_solution_{}.csv\".format(self._solution_count),index=False)\n",
    "        if self._solution_count >= self._solution_limit:\n",
    "            print('Stop search after %i solutions' % self._solution_limit)\n",
    "            self.StopSearch()\n",
    "\n",
    "    def solution_count(self):\n",
    "        return self._solution_count"
   ]
  },
  {
   "cell_type": "code",
   "execution_count": 32,
   "id": "208da48b",
   "metadata": {},
   "outputs": [
    {
     "name": "stdout",
     "output_type": "stream",
     "text": [
      "Stop search after 3 solutions\n",
      "\n",
      "Statistics\n",
      "  - conflicts      : 0\n",
      "  - branches       : 754\n",
      "  - wall time      : 0.147643 s\n",
      "  - solutions found: 3\n"
     ]
    }
   ],
   "source": [
    "#Save solutions as CSV\n",
    "solver = cp_model.CpSolver()\n",
    "solver.parameters.linearization_level = 0\n",
    "#Enumerate all solutions\n",
    "solver.parameters.enumerate_all_solutions = True\n",
    "#Display the first n solutions\n",
    "solution_limit = 3\n",
    "solution_printer = NursesPartialSolutionPrinter(x, tracers,\n",
    "                                                days, sessions,\n",
    "                                                solution_limit)\n",
    "solver.Solve(model, solution_printer)\n",
    "# Statistics.\n",
    "print('\\nStatistics')\n",
    "print('  - conflicts      : %i' % solver.NumConflicts())\n",
    "print('  - branches       : %i' % solver.NumBranches())\n",
    "print('  - wall time      : %f s' % solver.WallTime())\n",
    "print('  - solutions found: %i' % solution_printer.solution_count())"
   ]
  },
  {
   "cell_type": "code",
   "execution_count": 33,
   "id": "af4cb4fa",
   "metadata": {},
   "outputs": [],
   "source": [
    "### Create Gantt Graph of Solution ###"
   ]
  },
  {
   "cell_type": "code",
   "execution_count": 34,
   "id": "f3199f98",
   "metadata": {},
   "outputs": [],
   "source": [
    "#Graph first solution\n",
    "sch_data = pd.DataFrame([\n",
    "    dict(Session=sess_times[0], Start=0, Finish=5, Tracer=\"NA\", color=\"1\"),\n",
    "    dict(Session=sess_times[1], Start=0, Finish=5, Tracer=\"NA\", color=\"1\"),\n",
    "    dict(Session=sess_times[2], Start=0, Finish=5, Tracer=\"NA\", color=\"1\"),\n",
    "    dict(Session=sess_times[3], Start=0, Finish=5, Tracer=\"NA\", color=\"1\"),\n",
    "    dict(Session=sess_times[4], Start=0, Finish=5, Tracer=\"NA\", color=\"1\"),\n",
    "    dict(Session=sess_times[5], Start=0, Finish=5, Tracer=\"NA\", color=\"1\"),\n",
    "    dict(Session=sess_times[6], Start=0, Finish=5, Tracer=\"NA\", color=\"1\"),\n",
    "    dict(Session=sess_times[7], Start=0, Finish=5, Tracer=\"NA\", color=\"1\"),\n",
    "    dict(Session=sess_times[8], Start=0, Finish=5, Tracer=\"NA\", color=\"1\"),\n",
    "    dict(Session=sess_times[9], Start=0, Finish=5, Tracer=\"NA\", color=\"1\"),\n",
    "    dict(Session=sess_times[10], Start=0, Finish=5, Tracer=\"NA\", color=\"1\"),\n",
    "    dict(Session=sess_times[11], Start=0, Finish=5, Tracer=\"NA\", color=\"1\"),\n",
    "    dict(Session=sess_times[12], Start=0, Finish=5, Tracer=\"NA\", color=\"1\"),\n",
    "    dict(Session=sess_times[13], Start=0, Finish=5, Tracer=\"NA\", color=\"1\"),\n",
    "    dict(Session=sess_times[14], Start=0, Finish=5, Tracer=\"NA\", color=\"1\"),\n",
    "    dict(Session=sess_times[15], Start=0, Finish=5, Tracer=\"NA\", color=\"1\"),\n",
    "    dict(Session=sess_times[16], Start=0, Finish=5, Tracer=\"NA\", color=\"1\")\n",
    "])\n",
    "\n",
    "#Graph solution\n",
    "sch = pd.read_csv(\"schedule_solution_1.csv\",\n",
    "                  index_col=0).T #transpose to get days as columns\n",
    "#Add each scheduled scan to calendar\n",
    "tracers_colors = [\"2\",\"3\",\"4\",\"5\"]\n",
    "for column in sch:\n",
    "    day = sch[column]\n",
    "    for entry in day:\n",
    "        if entry == entry: #avoids NaN's created by transpose\n",
    "            ent_l = entry.replace(\" \",\"\").replace(\"[\",\"\").replace(\"]\",\"\").split(\",\")\n",
    "            if int(ent_l[3]) == 1:\n",
    "                sch_entry = dict(Session=sess_times[int(ent_l[2])],\n",
    "                                Start=int(ent_l[0]), Finish=int(ent_l[0])+1,\n",
    "                                Tracer=tracers_names[int(ent_l[1])], \n",
    "                                 color=tracers_colors[int(ent_l[1])])\n",
    "                sch_data.loc[len(sch_data.index)] = sch_entry\n",
    "\n",
    "sch_data['delta'] = sch_data['Finish'] - sch_data['Start']\n",
    "sch_data = sch_data.astype({'Tracer': 'string', 'color': 'string'})\n",
    "\n",
    "fig = px.timeline(sch_data, x_start=\"Start\", x_end=\"Finish\", y=\"Session\",\n",
    "                 color=\"color\", text=\"Tracer\")\n",
    "fig.update_yaxes(autorange=\"reversed\")\n",
    "fig.layout.xaxis.type = 'linear'\n",
    "for d in fig.data:\n",
    "  filt = sch_data['color'] == d.name\n",
    "  d.x = sch_data[filt]['delta'].tolist()\n",
    "\n",
    "#fig.show()\n",
    "file_name = 'scheduling_graph_sol_1'\n",
    "fig.write_html(f\"{file_name}.html\")"
   ]
  },
  {
   "cell_type": "code",
   "execution_count": 35,
   "id": "ab92d505",
   "metadata": {},
   "outputs": [],
   "source": [
    "#fig.to_dict() #use if want to adjust formatting"
   ]
  },
  {
   "cell_type": "code",
   "execution_count": 36,
   "id": "001682a0",
   "metadata": {},
   "outputs": [],
   "source": [
    "#Save Gantt Graph as HTML\n",
    "file_name = 'scheduling_solution_1_graph'\n",
    "fig.write_html(f\"{file_name}.html\")"
   ]
  }
 ],
 "metadata": {
  "kernelspec": {
   "display_name": "Python 3 (ipykernel)",
   "language": "python",
   "name": "python3"
  },
  "language_info": {
   "codemirror_mode": {
    "name": "ipython",
    "version": 3
   },
   "file_extension": ".py",
   "mimetype": "text/x-python",
   "name": "python",
   "nbconvert_exporter": "python",
   "pygments_lexer": "ipython3",
   "version": "3.9.7"
  }
 },
 "nbformat": 4,
 "nbformat_minor": 5
}
