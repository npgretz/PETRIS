{
 "cells": [
  {
   "cell_type": "code",
   "execution_count": 1,
   "id": "864abd19",
   "metadata": {},
   "outputs": [],
   "source": [
    "from ortools.sat.python import cp_model\n",
    "import pandas as pd\n",
    "import plotly.express as px"
   ]
  },
  {
   "cell_type": "code",
   "execution_count": 2,
   "id": "0d4527e7",
   "metadata": {},
   "outputs": [],
   "source": [
    "days = range(5)\n",
    "day_names = [\"Mon\",\"Tues\",\"Wed\",\"Thurs\",\"Fri\"]\n",
    "sessions = range(17)\n",
    "sess_times = [\"08:00 - 10:00\",\"08:30 - 10:30\",\"09:00 - 11:00\",\n",
    "             \"09:30 - 11:30\",\"10:00 - 12:00\",\"10:30 - 12:30\",\n",
    "             \"11:00 - 13:00\",\"11:30 - 13:30\",\"12:00 - 14:00\",\n",
    "             \"12:30 - 14:30\",\"13:00 - 15:00\",\"13:30 - 15:30\",\n",
    "             \"14:00 - 16:00\",\"14:30 - 16:30\",\"15:00 - 17:00\",\n",
    "             \"15:30 - 17:30\",\"16:00 - 18:00\"]\n",
    "tracers = range(4)\n",
    "tracers_names = [\"PIB\",\"AV1451\",\"MK6240\",\"UCB-J\"] #PIB, AV1451, MK6240, UCB-J\n",
    "tracers_colors = [\"2\",\"3\",\"4\",\"5\"]"
   ]
  },
  {
   "cell_type": "code",
   "execution_count": 3,
   "id": "0ce1d268",
   "metadata": {},
   "outputs": [
    {
     "name": "stdout",
     "output_type": "stream",
     "text": [
      "[[[1, 1, 1, 1, 1, 1, 1, 1, 1, 1, 1, 1, 1, 1, 1, 1, 1], [1, 1, 1, 1, 1, 1, 1, 1, 1, 1, 1, 1, 1, 1, 1, 1, 1], [1, 1, 1, 1, 1, 1, 1, 1, 1, 1, 1, 1, 1, 1, 1, 1, 1], [1, 1, 1, 1, 1, 1, 1, 1, 1, 1, 1, 1, 1, 1, 1, 1, 1], [1, 1, 1, 1, 1, 1, 1, 1, 1, 1, 1, 1, 1, 1, 1, 1, 1]], [[1, 1, 1, 1, 1, 1, 1, 1, 1, 1, 1, 1, 1, 1, 1, 1, 1], [1, 1, 1, 1, 1, 1, 1, 1, 1, 1, 1, 1, 1, 1, 1, 1, 1], [1, 1, 1, 1, 1, 1, 1, 1, 1, 1, 1, 1, 1, 1, 1, 1, 1], [1, 1, 1, 1, 1, 1, 1, 1, 1, 1, 1, 1, 1, 1, 1, 1, 1], [1, 1, 1, 1, 1, 1, 1, 1, 1, 1, 1, 1, 1, 1, 1, 1, 1]], [[1, 1, 1, 1, 1, 1, 1, 1, 1, 1, 1, 1, 1, 1, 1, 1, 1], [1, 1, 1, 1, 1, 1, 1, 1, 1, 1, 1, 1, 1, 1, 1, 1, 1], [1, 1, 1, 1, 1, 1, 1, 1, 1, 1, 1, 1, 1, 1, 1, 1, 1], [1, 1, 1, 1, 1, 1, 1, 1, 1, 1, 1, 1, 1, 1, 1, 1, 1], [1, 1, 1, 1, 1, 1, 1, 1, 1, 1, 1, 1, 1, 1, 1, 1, 1]], [[1, 1, 1, 1, 1, 1, 1, 1, 1, 1, 1, 1, 1, 1, 1, 1, 1], [1, 1, 1, 1, 1, 1, 1, 1, 1, 1, 1, 1, 1, 1, 1, 1, 1], [1, 1, 1, 1, 1, 1, 1, 1, 1, 1, 1, 1, 1, 1, 1, 1, 1], [1, 1, 1, 1, 1, 1, 1, 1, 1, 1, 1, 1, 1, 1, 1, 1, 1], [1, 1, 1, 1, 1, 1, 1, 1, 1, 1, 1, 1, 1, 1, 1, 1, 1]]]\n"
     ]
    }
   ],
   "source": [
    "first = [1,1,1,1,1,\n",
    "         1,1,1,1,1,\n",
    "         1,1,1,1,1,\n",
    "         1,1]\n",
    "\n",
    "second = [first, first, first, first, first]\n",
    "third = [second, second, second, second]\n",
    "print(third)"
   ]
  },
  {
   "cell_type": "code",
   "execution_count": 4,
   "id": "d9e058c9",
   "metadata": {},
   "outputs": [],
   "source": [
    "# find all the solutions\n",
    "\n",
    "# Creates the model.\n",
    "model = cp_model.CpModel()"
   ]
  },
  {
   "cell_type": "code",
   "execution_count": 5,
   "id": "7121f335",
   "metadata": {},
   "outputs": [],
   "source": [
    "#Add new variable for each combination of days, sessions, tracers\n",
    "#Each day,session,tracer is [0,1] Positive Integers\n",
    "x = {}\n",
    "for t in tracers:\n",
    "    for d in days:\n",
    "        for s in sessions:\n",
    "            x[(t,d,s)] = model.NewBoolVar(\n",
    "                \"{}{}{}\".format(tracers_names[t],\n",
    "                                day_names[d],\n",
    "                                sess_times[s]))\n",
    "            \n",
    "            #x[(t,d,s)] = model.NewBoolVar('shift_n%id%is%i' % (t, d, s))\n",
    "            #x[(t,d,s)] = model.NewBoolVar(\"x[{},{},{}]\".format(d,s,t))\n",
    "#x = {}\n",
    "#for s in sessions:\n",
    "#    for d in days:\n",
    "#        for t in tracers:\n",
    "#            x[d,s,t] = model.NewBoolVar(\"x[{},{},{}]\".format(d,s,t))\n",
    "# old attempt            model.NewIntVar(0,1,\"x{}{}{}\".format(d,s,t))"
   ]
  },
  {
   "cell_type": "code",
   "execution_count": 6,
   "id": "d653ab27",
   "metadata": {},
   "outputs": [],
   "source": [
    "# Creates the constraints.\n",
    "#Each session gets at most 1 tracer\n",
    "for d in days:\n",
    "    for s in sessions:\n",
    "        model.Add(sum(x[(t,d,s)] for t in tracers) <= 1)"
   ]
  },
  {
   "cell_type": "code",
   "execution_count": 7,
   "id": "137d6b19",
   "metadata": {},
   "outputs": [],
   "source": [
    "#Each tracer gets at least 1 session per week\n",
    "for t in tracers:\n",
    "    all_sess = []\n",
    "    for d in days:\n",
    "        for s in sessions:\n",
    "            all_sess.append(x[(t,d,s)])\n",
    "    model.Add(sum(all_sess) >= 1)"
   ]
  },
  {
   "cell_type": "code",
   "execution_count": 8,
   "id": "805a002a",
   "metadata": {},
   "outputs": [],
   "source": [
    "#PIB 3 max per day/batch\n",
    "t = tracers_names.index(\"PIB\")\n",
    "for d in days[1:4]:\n",
    "    p_day = []\n",
    "    for s in sessions:\n",
    "        p_day.append(x[(t,d,s)])\n",
    "        model.Add(sum(p_day) <= 3)"
   ]
  },
  {
   "cell_type": "code",
   "execution_count": 9,
   "id": "a02c1619",
   "metadata": {},
   "outputs": [
    {
     "data": {
      "text/plain": [
       "<ortools.sat.python.cp_model.Constraint at 0x7fd29cb0dd30>"
      ]
     },
     "execution_count": 9,
     "metadata": {},
     "output_type": "execute_result"
    }
   ],
   "source": [
    "#PIB 1 max per Monday\n",
    "t = tracers_names.index(\"PIB\")\n",
    "d = day_names.index(\"Mon\")\n",
    "p_mon = []\n",
    "for s in sessions:\n",
    "    p_day.append(x[(t,d,s)])\n",
    "model.Add(sum(p_day) <= 1)"
   ]
  },
  {
   "cell_type": "code",
   "execution_count": 10,
   "id": "ee13675e",
   "metadata": {},
   "outputs": [
    {
     "data": {
      "text/plain": [
       "<ortools.sat.python.cp_model.Constraint at 0x7fd29cb1f7f0>"
      ]
     },
     "execution_count": 10,
     "metadata": {},
     "output_type": "execute_result"
    }
   ],
   "source": [
    "#12 per month for AV1451; 3 per week\n",
    "t = tracers_names.index(\"AV1451\")\n",
    "a_week = []\n",
    "for d in days:\n",
    "    for s in sessions:\n",
    "        a_week.append(x[(t,d,s)])\n",
    "model.Add(sum(a_week) <= 3)"
   ]
  },
  {
   "cell_type": "code",
   "execution_count": 11,
   "id": "09b4614d",
   "metadata": {},
   "outputs": [],
   "source": [
    "#MK6240 max 3 sessions each day\n",
    "t = tracers_names.index(\"MK6240\")\n",
    "for d in days:\n",
    "    m_3 = []\n",
    "    for s in sessions:\n",
    "        m_3.append(x[(t,d,s)])\n",
    "    model.Add(sum(m_3) <= 3)"
   ]
  },
  {
   "cell_type": "code",
   "execution_count": 12,
   "id": "91ba9bd6",
   "metadata": {},
   "outputs": [],
   "source": [
    "#UCB-J max 1 session each day\n",
    "t = tracers_names.index(\"UCB-J\")\n",
    "for d in days:\n",
    "    u_1 = []\n",
    "    for s in sessions:\n",
    "        u_1.append(x[(t,d,s)])\n",
    "    model.Add(sum(u_1) <= 1)"
   ]
  },
  {
   "cell_type": "code",
   "execution_count": 13,
   "id": "cbf26385",
   "metadata": {},
   "outputs": [],
   "source": [
    "#2 hr slots without overlap\n",
    "for d in days:\n",
    "    for s in sessions[0:14]:\n",
    "        overlap = []\n",
    "        for t in tracers:\n",
    "            overlap.extend([\n",
    "                x[(t,d,s)],x[(t,d,s+1)],\n",
    "                x[(t,d,s+2)],x[(t,d,s+3)]\n",
    "            ])\n",
    "        model.Add(sum(overlap) <= 1)"
   ]
  },
  {
   "cell_type": "code",
   "execution_count": null,
   "id": "676e6d6c",
   "metadata": {},
   "outputs": [],
   "source": []
  },
  {
   "cell_type": "code",
   "execution_count": 14,
   "id": "cf66d6d9",
   "metadata": {},
   "outputs": [],
   "source": [
    "#24 HR gap AV1451\n",
    "t = tracers_names.index(\"AV1451\")\n",
    "\n",
    "for d in days[0:4]:\n",
    "    for s in sessions:\n",
    "        a_24 = []\n",
    "        a_24.extend([x[(t,d,sess)] for sess in sessions if sess >= s])#get rest of sessions in sameday\n",
    "        a_24.extend([x[(t,d+1,sess)] for sess in sessions if sess < s])#get sessions within 24 hours later\n",
    "        model.Add(sum(a_24) <= 1)"
   ]
  },
  {
   "cell_type": "code",
   "execution_count": 15,
   "id": "a7b91ba6",
   "metadata": {},
   "outputs": [
    {
     "data": {
      "text/plain": [
       "<ortools.sat.python.cp_model.Constraint at 0x7fd29cb27580>"
      ]
     },
     "execution_count": 15,
     "metadata": {},
     "output_type": "execute_result"
    }
   ],
   "source": [
    "#12:00 earliest sess for AV1451\n",
    "t = tracers_names.index(\"AV1451\")\n",
    "a_early = []\n",
    "for d in days:\n",
    "    for s in sessions[0:8]:\n",
    "        a_early.append(x[(t,d,s)])\n",
    "        #print(\"x{}{}{}\".format(d,s,t)) #sum() = 0\n",
    "model.Add(sum(a_early) == 0)"
   ]
  },
  {
   "cell_type": "code",
   "execution_count": 16,
   "id": "03f2f98e",
   "metadata": {},
   "outputs": [],
   "source": [
    "#PIB 3 hr gap\n",
    "t = tracers_names.index(\"PIB\")\n",
    "for d in days:\n",
    "    for s in sessions[0:12]:\n",
    "        p_gap = []\n",
    "        for num in range(6):\n",
    "            p_gap.append(x[(t,d,s+num)])\n",
    "        model.Add(sum(p_gap) <= 1)"
   ]
  },
  {
   "cell_type": "code",
   "execution_count": 17,
   "id": "8f54703f",
   "metadata": {},
   "outputs": [
    {
     "data": {
      "text/plain": [
       "<ortools.sat.python.cp_model.Constraint at 0x7fd29cb2c0d0>"
      ]
     },
     "execution_count": 17,
     "metadata": {},
     "output_type": "execute_result"
    }
   ],
   "source": [
    "#MK6240 only sessions 10 through 16; Tues-Fri\n",
    "t = tracers_names.index(\"MK6240\")\n",
    "m_days = []\n",
    "sess_all = [0,1,2,3,4,5,6,7,8,16]\n",
    "for d in days[1:5]:\n",
    "    for s in list(sessions[0:9])+list(sessions[16:18]):\n",
    "        m_days.append(x[(t,d,s)])\n",
    "model.Add(sum(m_days) == 0)"
   ]
  },
  {
   "cell_type": "code",
   "execution_count": 18,
   "id": "f57fc118",
   "metadata": {},
   "outputs": [
    {
     "data": {
      "text/plain": [
       "<ortools.sat.python.cp_model.Constraint at 0x7fd29cb272e0>"
      ]
     },
     "execution_count": 18,
     "metadata": {},
     "output_type": "execute_result"
    }
   ],
   "source": [
    "#MK6240 only sessions 8 through 13; Mon\n",
    "t = tracers_names.index(\"MK6240\")\n",
    "d = day_names.index(\"Mon\")\n",
    "m_mon = []\n",
    "for s in list(sessions[0:7])+list(sessions[13:18]):\n",
    "    m_mon.append(x[(t,d,s)])\n",
    "model.Add(sum(m_mon) == 0)"
   ]
  },
  {
   "cell_type": "code",
   "execution_count": 19,
   "id": "deac71a2",
   "metadata": {},
   "outputs": [],
   "source": [
    "#UCB-J session 6 or 12 Tues-Fri\n",
    "t = tracers_names.index(\"UCB-J\")\n",
    "for d in days[1:5]:\n",
    "    u_sess = []\n",
    "    for s in list(sessions[0:5])+list(sessions[6:11])+list(sessions[12:18]):\n",
    "        u_sess.append(x[(t,d,s)])\n",
    "    model.Add(sum(u_sess) == 0)"
   ]
  },
  {
   "cell_type": "code",
   "execution_count": null,
   "id": "3fe69e71",
   "metadata": {},
   "outputs": [],
   "source": []
  },
  {
   "cell_type": "code",
   "execution_count": 20,
   "id": "0829e087",
   "metadata": {},
   "outputs": [
    {
     "data": {
      "text/plain": [
       "<ortools.sat.python.cp_model.Constraint at 0x7fd29cb1f370>"
      ]
     },
     "execution_count": 20,
     "metadata": {},
     "output_type": "execute_result"
    }
   ],
   "source": [
    "#UCB-J session 14 Mon\n",
    "t = tracers_names.index(\"UCB-J\")\n",
    "d = day_names.index(\"Mon\")\n",
    "u_mon = []\n",
    "for s in list(sessions[0:13])+list(sessions[14:18]):\n",
    "    u_mon.append(x[(t,d,s)])\n",
    "model.Add(sum(u_mon) == 0)"
   ]
  },
  {
   "cell_type": "code",
   "execution_count": 21,
   "id": "5adc485e",
   "metadata": {},
   "outputs": [],
   "source": [
    "#Incentivize having a PIB scan followed by an MK6240 in the same day\n",
    "pib_mk_same_day = []\n",
    "for d in days:\n",
    "    for s in range(len(sessions)-5):\n",
    "        mk_sess = [x[(tracers_names.index(\"PIB\"), d, s)]]\n",
    "        for sess in range(s+4,len(sessions)): #MK6240 scan must start after end of PIB\n",
    "            mk_sess.append(x[(tracers_names.index(\"MK6240\"),d,sess)])\n",
    "        pib_mk_same_day.extend([mk_sess])"
   ]
  },
  {
   "cell_type": "code",
   "execution_count": 22,
   "id": "15a59aac",
   "metadata": {},
   "outputs": [],
   "source": [
    "#Incentivize having 2 AV1451 in the same day\n",
    "av_two = []\n",
    "for d in days:\n",
    "    for s in sessions:\n",
    "        for second in range(s+4,len(sessions)):\n",
    "            av_two.append([x[(tracers_names.index(\"MK6240\"),d,s)],x[(tracers_names.index(\"MK6240\"),d,second)]])"
   ]
  },
  {
   "cell_type": "code",
   "execution_count": 23,
   "id": "d4d64ec9",
   "metadata": {},
   "outputs": [
    {
     "data": {
      "text/plain": [
       "Sum(Sum(Sum(Sum(Sum(Sum(Sum(Sum(Sum(Sum(Sum(Sum(Sum(PIBMon08:00 - 10:00(0..1), MK6240Mon10:00 - 12:00(0..1)), MK6240Mon10:30 - 12:30(0..1)), MK6240Mon11:00 - 13:00(0..1)), MK6240Mon11:30 - 13:30(0..1)), MK6240Mon12:00 - 14:00(0..1)), MK6240Mon12:30 - 14:30(0..1)), MK6240Mon13:00 - 15:00(0..1)), MK6240Mon13:30 - 15:30(0..1)), MK6240Mon14:00 - 16:00(0..1)), MK6240Mon14:30 - 16:30(0..1)), MK6240Mon15:00 - 17:00(0..1)), MK6240Mon15:30 - 17:30(0..1)), MK6240Mon16:00 - 18:00(0..1))"
      ]
     },
     "execution_count": 23,
     "metadata": {},
     "output_type": "execute_result"
    }
   ],
   "source": [
    "sum(pib_mk_same_day[0])"
   ]
  },
  {
   "cell_type": "code",
   "execution_count": 24,
   "id": "65a2f0a4",
   "metadata": {},
   "outputs": [
    {
     "ename": "IndexError",
     "evalue": "list index out of range",
     "output_type": "error",
     "traceback": [
      "\u001b[0;31m---------------------------------------------------------------------------\u001b[0m",
      "\u001b[0;31mIndexError\u001b[0m                                Traceback (most recent call last)",
      "\u001b[0;32m/tmp/ipykernel_51451/2558252156.py\u001b[0m in \u001b[0;36m<module>\u001b[0;34m\u001b[0m\n\u001b[0;32m----> 1\u001b[0;31m \u001b[0msum\u001b[0m\u001b[0;34m(\u001b[0m\u001b[0mav_two\u001b[0m\u001b[0;34m[\u001b[0m\u001b[0md\u001b[0m\u001b[0;34m]\u001b[0m\u001b[0;34m[\u001b[0m\u001b[0ms\u001b[0m\u001b[0;34m]\u001b[0m \u001b[0;32mfor\u001b[0m \u001b[0md\u001b[0m \u001b[0;32min\u001b[0m \u001b[0mdays\u001b[0m \u001b[0;32mfor\u001b[0m \u001b[0ms\u001b[0m \u001b[0;32min\u001b[0m \u001b[0msessions\u001b[0m\u001b[0;34m)\u001b[0m\u001b[0;34m\u001b[0m\u001b[0;34m\u001b[0m\u001b[0m\n\u001b[0m",
      "\u001b[0;32m/tmp/ipykernel_51451/2558252156.py\u001b[0m in \u001b[0;36m<genexpr>\u001b[0;34m(.0)\u001b[0m\n\u001b[0;32m----> 1\u001b[0;31m \u001b[0msum\u001b[0m\u001b[0;34m(\u001b[0m\u001b[0mav_two\u001b[0m\u001b[0;34m[\u001b[0m\u001b[0md\u001b[0m\u001b[0;34m]\u001b[0m\u001b[0;34m[\u001b[0m\u001b[0ms\u001b[0m\u001b[0;34m]\u001b[0m \u001b[0;32mfor\u001b[0m \u001b[0md\u001b[0m \u001b[0;32min\u001b[0m \u001b[0mdays\u001b[0m \u001b[0;32mfor\u001b[0m \u001b[0ms\u001b[0m \u001b[0;32min\u001b[0m \u001b[0msessions\u001b[0m\u001b[0;34m)\u001b[0m\u001b[0;34m\u001b[0m\u001b[0;34m\u001b[0m\u001b[0m\n\u001b[0m",
      "\u001b[0;31mIndexError\u001b[0m: list index out of range"
     ]
    }
   ],
   "source": [
    "sum(av_two[d][s] for d in days for s in sessions)"
   ]
  },
  {
   "cell_type": "code",
   "execution_count": null,
   "id": "0ced189c",
   "metadata": {},
   "outputs": [],
   "source": [
    "[print(x[(tracers_names.index(\"MK6240\"),d,s)]) for d in days for s in sessions ]"
   ]
  },
  {
   "cell_type": "code",
   "execution_count": null,
   "id": "6935c0ab",
   "metadata": {},
   "outputs": [],
   "source": [
    "#Incentivize having 2 MK6240 in the same day\n",
    "mk_two = []\n",
    "for d in days:\n",
    "    mk_day = []\n",
    "    for s in sessions:\n",
    "        mk_day.append(x[(tracers_names.index(\"MK6240\"),d,s)])\n",
    "    mk_two.extend([mk_day])"
   ]
  },
  {
   "cell_type": "code",
   "execution_count": null,
   "id": "3f62d9d9",
   "metadata": {},
   "outputs": [],
   "source": [
    "#Incentivize having 3 MK6240 in the same day\n",
    "mk_three = []"
   ]
  },
  {
   "cell_type": "code",
   "execution_count": null,
   "id": "526a4cef",
   "metadata": {},
   "outputs": [],
   "source": [
    "# pylint: disable=g-complex-comprehension\n",
    "#model.Maximize( sum(4*pib_mk_same_day[s][0]*sum(pib_mk_same_day[s][1])\n",
    "#              for t in tracers for d in days for s in sessions))\n",
    "\n",
    "#    sum(shift_requests[t][d][s] * x[(t, d, s)] for t in tracers\n",
    "#        for d in days for s in sessions))"
   ]
  },
  {
   "cell_type": "code",
   "execution_count": null,
   "id": "715c582b",
   "metadata": {},
   "outputs": [],
   "source": [
    "# pylint: disable=g-complex-comprehension\n",
    "model.Maximize(sum(third[t][d][s] * x[(t, d, s)] for t in tracers for d in days for s in sessions)\n",
    "               + sum(2 * pib_mk_same_day[pib][s] for pib in range(len(pib_mk_same_day)) for s in range(len(pib_mk_same_day[pib])))\n",
    "              + sum(av_two[d][s] for d in days for s in sessions)\n",
    "              + sum())"
   ]
  },
  {
   "cell_type": "code",
   "execution_count": null,
   "id": "208da48b",
   "metadata": {},
   "outputs": [],
   "source": [
    "solver = cp_model.CpSolver()\n",
    "status = solver.Solve(model)\n",
    "\n",
    "\n",
    "if status == cp_model.OPTIMAL:\n",
    "    print('Solution:')\n",
    "    results = []\n",
    "    for d in days:\n",
    "        print('Day', d)\n",
    "        day = [\"Day{}\".format(d)]\n",
    "        for t in tracers:\n",
    "            for s in sessions:\n",
    "                if solver.Value(x[(t, d, s)]) == 1:\n",
    "                    day.append([d,t,s,1])\n",
    "                    if third[t][d][s] == 1:\n",
    "                        print('Nurse', t, 'works shift', s, '(requested).')\n",
    "                    else:\n",
    "                        print('Nurse', t, 'works shift', s,\n",
    "                              '(not requested).')\n",
    "        print()\n",
    "        results.append(day)\n",
    "    pd.DataFrame(results).to_csv(\"schedule_maximize_solution.csv\",index=False)\n",
    "        \n",
    "#    print(f'Number of shift requests met = {solver.ObjectiveValue()}',\n",
    "#          f'(out of {num_nurses * min_shifts_per_nurse})')\n",
    "else:\n",
    "    print('No optimal solution found !')"
   ]
  },
  {
   "cell_type": "code",
   "execution_count": null,
   "id": "3481f34f",
   "metadata": {},
   "outputs": [],
   "source": [
    "sch_data = pd.DataFrame([\n",
    "    dict(Session=sess_times[0], Start=0, Finish=5, Tracer=\"NA\", color=\"1\"),\n",
    "    dict(Session=sess_times[1], Start=0, Finish=5, Tracer=\"NA\", color=\"1\"),\n",
    "    dict(Session=sess_times[2], Start=0, Finish=5, Tracer=\"NA\", color=\"1\"),\n",
    "    dict(Session=sess_times[3], Start=0, Finish=5, Tracer=\"NA\", color=\"1\"),\n",
    "    dict(Session=sess_times[4], Start=0, Finish=5, Tracer=\"NA\", color=\"1\"),\n",
    "    dict(Session=sess_times[5], Start=0, Finish=5, Tracer=\"NA\", color=\"1\"),\n",
    "    dict(Session=sess_times[6], Start=0, Finish=5, Tracer=\"NA\", color=\"1\"),\n",
    "    dict(Session=sess_times[7], Start=0, Finish=5, Tracer=\"NA\", color=\"1\"),\n",
    "    dict(Session=sess_times[8], Start=0, Finish=5, Tracer=\"NA\", color=\"1\"),\n",
    "    dict(Session=sess_times[9], Start=0, Finish=5, Tracer=\"NA\", color=\"1\"),\n",
    "    dict(Session=sess_times[10], Start=0, Finish=5, Tracer=\"NA\", color=\"1\"),\n",
    "    dict(Session=sess_times[11], Start=0, Finish=5, Tracer=\"NA\", color=\"1\"),\n",
    "    dict(Session=sess_times[12], Start=0, Finish=5, Tracer=\"NA\", color=\"1\"),\n",
    "    dict(Session=sess_times[13], Start=0, Finish=5, Tracer=\"NA\", color=\"1\"),\n",
    "    dict(Session=sess_times[14], Start=0, Finish=5, Tracer=\"NA\", color=\"1\"),\n",
    "    dict(Session=sess_times[15], Start=0, Finish=5, Tracer=\"NA\", color=\"1\"),\n",
    "    dict(Session=sess_times[16], Start=0, Finish=5, Tracer=\"NA\", color=\"1\")\n",
    "])\n",
    "\n",
    "#Graph solution\n",
    "sch = pd.read_csv(\"schedule_maximize_solution.csv\",\n",
    "                  index_col=0).T #transpose to get days as columns\n",
    "#Add each scheduled scan to calendar\n",
    "for column in sch:\n",
    "    day = sch[column]\n",
    "    for entry in day:\n",
    "        if entry == entry: #avoids NaN's created by transpose\n",
    "            ent_l = entry.replace(\" \",\"\").replace(\"[\",\"\").replace(\"]\",\"\").split(\",\")\n",
    "            if int(ent_l[3]) == 1:\n",
    "                sch_entry = dict(Session=sess_times[int(ent_l[2])],\n",
    "                                Start=int(ent_l[0]), Finish=int(ent_l[0])+1,\n",
    "                                Tracer=tracers_names[int(ent_l[1])], \n",
    "                                 color=tracers_colors[int(ent_l[1])])\n",
    "                sch_data.loc[len(sch_data.index)] = sch_entry\n",
    "\n",
    "sch_data['delta'] = sch_data['Finish'] - sch_data['Start']\n",
    "sch_data = sch_data.astype({'Tracer': 'string', 'color': 'string'})\n",
    "\n",
    "fig = px.timeline(sch_data, x_start=\"Start\", x_end=\"Finish\", y=\"Session\",\n",
    "                 color=\"color\", text=\"Tracer\")\n",
    "fig.update_yaxes(autorange=\"reversed\")\n",
    "fig.layout.xaxis.type = 'linear'\n",
    "for d in fig.data:\n",
    "  filt = sch_data['color'] == d.name\n",
    "  d.x = sch_data[filt]['delta'].tolist()\n",
    "fig.show()"
   ]
  },
  {
   "cell_type": "code",
   "execution_count": null,
   "id": "ab92d505",
   "metadata": {},
   "outputs": [],
   "source": [
    "#fig.to_dict()"
   ]
  },
  {
   "cell_type": "code",
   "execution_count": null,
   "id": "001682a0",
   "metadata": {},
   "outputs": [],
   "source": [
    "file_name = 'scheduling_max_graph'\n",
    "fig.write_html(f\"{file_name}.html\")"
   ]
  }
 ],
 "metadata": {
  "kernelspec": {
   "display_name": "Python 3 (ipykernel)",
   "language": "python",
   "name": "python3"
  },
  "language_info": {
   "codemirror_mode": {
    "name": "ipython",
    "version": 3
   },
   "file_extension": ".py",
   "mimetype": "text/x-python",
   "name": "python",
   "nbconvert_exporter": "python",
   "pygments_lexer": "ipython3",
   "version": "3.9.7"
  }
 },
 "nbformat": 4,
 "nbformat_minor": 5
}
