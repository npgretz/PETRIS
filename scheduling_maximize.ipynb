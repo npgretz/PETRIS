{
 "cells": [
  {
   "cell_type": "code",
   "execution_count": 1,
   "id": "864abd19",
   "metadata": {},
   "outputs": [],
   "source": [
    "from ortools.sat.python import cp_model"
   ]
  },
  {
   "cell_type": "code",
   "execution_count": 2,
   "id": "0d4527e7",
   "metadata": {},
   "outputs": [],
   "source": [
    "days = range(5)\n",
    "day_names = [\"Mon\",\"Tues\",\"Wed\",\"Thurs\",\"Fri\"]\n",
    "sessions = range(17)\n",
    "sess_times = [\"08:00 - 10:00\",\"08:30 - 10:30\",\"09:00 - 11:00\",\n",
    "             \"09:30 - 11:30\",\"10:00 - 12:00\",\"10:30 - 12:30\",\n",
    "             \"11:00 - 13:00\",\"11:30 - 13:30\",\"12:00 - 14:00\",\n",
    "             \"12:30 - 14:30\",\"13:00 - 15:00\",\"13:30 - 15:30\",\n",
    "             \"14:00 - 16:00\",\"14:30 - 16:30\",\"15:00 - 17:00\",\n",
    "             \"15:30 - 17:30\",\"16:00 - 18:00\"]\n",
    "tracers = range(4)\n",
    "tracers_names = [\"P\",\"A\",\"M\",\"U\"] #PIB, AV1451, MK6240, UCB-J"
   ]
  },
  {
   "cell_type": "code",
   "execution_count": 24,
   "id": "b2dd668b",
   "metadata": {},
   "outputs": [
    {
     "name": "stdout",
     "output_type": "stream",
     "text": [
      "[[[1, 1, 1, 1, 1, 1, 1, 1, 1, 1, 1, 1, 1, 1, 1, 1, 1], [1, 1, 1, 1, 1, 1, 1, 1, 1, 1, 1, 1, 1, 1, 1, 1, 1], [1, 1, 1, 1, 1, 1, 1, 1, 1, 1, 1, 1, 1, 1, 1, 1, 1], [1, 1, 1, 1, 1, 1, 1, 1, 1, 1, 1, 1, 1, 1, 1, 1, 1], [1, 1, 1, 1, 1, 1, 1, 1, 1, 1, 1, 1, 1, 1, 1, 1, 1]], [[1, 1, 1, 1, 1, 1, 1, 1, 1, 1, 1, 1, 1, 1, 1, 1, 1], [1, 1, 1, 1, 1, 1, 1, 1, 1, 1, 1, 1, 1, 1, 1, 1, 1], [1, 1, 1, 1, 1, 1, 1, 1, 1, 1, 1, 1, 1, 1, 1, 1, 1], [1, 1, 1, 1, 1, 1, 1, 1, 1, 1, 1, 1, 1, 1, 1, 1, 1], [1, 1, 1, 1, 1, 1, 1, 1, 1, 1, 1, 1, 1, 1, 1, 1, 1]], [[1, 1, 1, 1, 1, 1, 1, 1, 1, 1, 1, 1, 1, 1, 1, 1, 1], [1, 1, 1, 1, 1, 1, 1, 1, 1, 1, 1, 1, 1, 1, 1, 1, 1], [1, 1, 1, 1, 1, 1, 1, 1, 1, 1, 1, 1, 1, 1, 1, 1, 1], [1, 1, 1, 1, 1, 1, 1, 1, 1, 1, 1, 1, 1, 1, 1, 1, 1], [1, 1, 1, 1, 1, 1, 1, 1, 1, 1, 1, 1, 1, 1, 1, 1, 1]], [[1, 1, 1, 1, 1, 1, 1, 1, 1, 1, 1, 1, 1, 1, 1, 1, 1], [1, 1, 1, 1, 1, 1, 1, 1, 1, 1, 1, 1, 1, 1, 1, 1, 1], [1, 1, 1, 1, 1, 1, 1, 1, 1, 1, 1, 1, 1, 1, 1, 1, 1], [1, 1, 1, 1, 1, 1, 1, 1, 1, 1, 1, 1, 1, 1, 1, 1, 1], [1, 1, 1, 1, 1, 1, 1, 1, 1, 1, 1, 1, 1, 1, 1, 1, 1]]]\n"
     ]
    }
   ],
   "source": [
    "first = [1,1,1,1,1,\n",
    "         1,1,1,1,1,\n",
    "         1,1,1,1,1,\n",
    "         1,1]\n",
    "\n",
    "second = [first, first, first, first, first]\n",
    "third = [second, second, second, second]\n",
    "print(third)"
   ]
  },
  {
   "cell_type": "code",
   "execution_count": 3,
   "id": "d9e058c9",
   "metadata": {},
   "outputs": [],
   "source": [
    "# find all the solutions\n",
    "\n",
    "# Creates the model.\n",
    "model = cp_model.CpModel()"
   ]
  },
  {
   "cell_type": "code",
   "execution_count": 4,
   "id": "7121f335",
   "metadata": {},
   "outputs": [],
   "source": [
    "#Add new variable for each combination of days, sessions, tracers\n",
    "#Each day,session,tracer is [0,1] Positive Integers\n",
    "x = {}\n",
    "for t in tracers:\n",
    "    for d in days:\n",
    "        for s in sessions:\n",
    "            x[(t,d,s)] = model.NewBoolVar(\n",
    "                \"{}{}{}\".format(tracers_names[t],\n",
    "                                day_names[d],\n",
    "                                sess_times[s]))\n",
    "            \n",
    "            #x[(t,d,s)] = model.NewBoolVar('shift_n%id%is%i' % (t, d, s))\n",
    "            #x[(t,d,s)] = model.NewBoolVar(\"x[{},{},{}]\".format(d,s,t))\n",
    "#x = {}\n",
    "#for s in sessions:\n",
    "#    for d in days:\n",
    "#        for t in tracers:\n",
    "#            x[d,s,t] = model.NewBoolVar(\"x[{},{},{}]\".format(d,s,t))\n",
    "# old attempt            model.NewIntVar(0,1,\"x{}{}{}\".format(d,s,t))"
   ]
  },
  {
   "cell_type": "code",
   "execution_count": 5,
   "id": "d653ab27",
   "metadata": {},
   "outputs": [],
   "source": [
    "# Creates the constraints.\n",
    "#Each session gets at most 1 tracer\n",
    "for d in days:\n",
    "    for s in sessions:\n",
    "        model.Add(sum(x[(t,d,s)] for t in tracers) <= 1)"
   ]
  },
  {
   "cell_type": "code",
   "execution_count": 6,
   "id": "137d6b19",
   "metadata": {},
   "outputs": [],
   "source": [
    "#Each tracer gets at least 1 session per week\n",
    "for t in tracers:\n",
    "    all_sess = []\n",
    "    for d in days:\n",
    "        for s in sessions:\n",
    "            all_sess.append(x[(t,d,s)])\n",
    "    model.Add(sum(all_sess) >= 1)"
   ]
  },
  {
   "cell_type": "code",
   "execution_count": 7,
   "id": "805a002a",
   "metadata": {},
   "outputs": [],
   "source": [
    "#PIB 3 max per day/batch\n",
    "t = tracers_names.index(\"P\")\n",
    "for d in days:\n",
    "    p_day = []\n",
    "    for s in sessions:\n",
    "        p_day.append(x[(t,d,s)])\n",
    "        model.Add(sum(p_day) <= 3)"
   ]
  },
  {
   "cell_type": "code",
   "execution_count": 8,
   "id": "ee13675e",
   "metadata": {},
   "outputs": [
    {
     "data": {
      "text/plain": [
       "<ortools.sat.python.cp_model.Constraint at 0x7f1b7c6ecbb0>"
      ]
     },
     "execution_count": 8,
     "metadata": {},
     "output_type": "execute_result"
    }
   ],
   "source": [
    "#12 per month for AV1451; 3 per week\n",
    "t = tracers_names.index(\"A\")\n",
    "a_week = []\n",
    "for d in days:\n",
    "    for s in sessions:\n",
    "        a_week.append(x[(t,d,s)])\n",
    "model.Add(sum(a_week) <= 3)"
   ]
  },
  {
   "cell_type": "code",
   "execution_count": 9,
   "id": "09b4614d",
   "metadata": {},
   "outputs": [],
   "source": [
    "#MK6240 max 3 sessions each day\n",
    "t = tracers_names.index(\"M\")\n",
    "for d in days:\n",
    "    m_3 = []\n",
    "    for s in sessions:\n",
    "        m_3.append(x[(t,d,s)])\n",
    "    model.Add(sum(m_3) <= 3)"
   ]
  },
  {
   "cell_type": "code",
   "execution_count": 10,
   "id": "91ba9bd6",
   "metadata": {},
   "outputs": [],
   "source": [
    "#UCB-J max 1 session each day\n",
    "t = tracers_names.index(\"U\")\n",
    "for d in days:\n",
    "    u_1 = []\n",
    "    for s in sessions:\n",
    "        u_1.append(x[(t,d,s)])\n",
    "    model.Add(sum(u_1) <= 1)"
   ]
  },
  {
   "cell_type": "code",
   "execution_count": 11,
   "id": "cbf26385",
   "metadata": {},
   "outputs": [],
   "source": [
    "#2 hr slots without overlap\n",
    "for d in days:\n",
    "    for s in sessions[0:14]:\n",
    "        overlap = []\n",
    "        for t in tracers:\n",
    "            overlap.extend([\n",
    "                x[(t,d,s)],x[(t,d,s+1)],\n",
    "                x[(t,d,s+2)],x[(t,d,s+3)]\n",
    "            ])\n",
    "        model.Add(sum(overlap) <= 1)"
   ]
  },
  {
   "cell_type": "code",
   "execution_count": null,
   "id": "676e6d6c",
   "metadata": {},
   "outputs": [],
   "source": []
  },
  {
   "cell_type": "code",
   "execution_count": 12,
   "id": "cf66d6d9",
   "metadata": {},
   "outputs": [],
   "source": [
    "#24 HR gap AV1451\n",
    "t = tracers_names.index(\"A\")\n",
    "\n",
    "for d in days[0:4]:\n",
    "    for s in sessions:\n",
    "        a_24 = []\n",
    "        a_24.extend([x[(t,d,sess)] for sess in sessions if sess >= s])#get rest of sessions in sameday\n",
    "        a_24.extend([x[(t,d+1,sess)] for sess in sessions if sess < s])#get sessions within 24 hours later\n",
    "        model.Add(sum(a_24) <= 1)"
   ]
  },
  {
   "cell_type": "code",
   "execution_count": 13,
   "id": "a7b91ba6",
   "metadata": {},
   "outputs": [
    {
     "data": {
      "text/plain": [
       "<ortools.sat.python.cp_model.Constraint at 0x7f1b8c5d3550>"
      ]
     },
     "execution_count": 13,
     "metadata": {},
     "output_type": "execute_result"
    }
   ],
   "source": [
    "#12:00 earliest sess for AV1451\n",
    "t = tracers_names.index(\"A\")\n",
    "a_early = []\n",
    "for d in days:\n",
    "    for s in sessions[0:8]:\n",
    "        a_early.append(x[(t,d,s)])\n",
    "        #print(\"x{}{}{}\".format(d,s,t)) #sum() = 0\n",
    "model.Add(sum(a_early) == 0)"
   ]
  },
  {
   "cell_type": "code",
   "execution_count": 14,
   "id": "03f2f98e",
   "metadata": {},
   "outputs": [],
   "source": [
    "#PIB 3 hr gap\n",
    "t = tracers_names.index(\"P\")\n",
    "for d in days:\n",
    "    for s in sessions[0:12]:\n",
    "        p_gap = []\n",
    "        for num in range(6):\n",
    "            p_gap.append(x[(t,d,s+num)])\n",
    "        model.Add(sum(p_day) <= 1)"
   ]
  },
  {
   "cell_type": "code",
   "execution_count": 15,
   "id": "8f54703f",
   "metadata": {},
   "outputs": [
    {
     "data": {
      "text/plain": [
       "<ortools.sat.python.cp_model.Constraint at 0x7f1b7c66d5b0>"
      ]
     },
     "execution_count": 15,
     "metadata": {},
     "output_type": "execute_result"
    }
   ],
   "source": [
    "#MK6240 only sessions 10 through 16; Tues-Fri\n",
    "t = tracers_names.index(\"M\")\n",
    "m_days = []\n",
    "sess_all = [0,1,2,3,4,5,6,7,8,16]\n",
    "for d in days[1:5]:\n",
    "    for s in list(sessions[0:9])+list(sessions[16:18]):\n",
    "        m_days.append(x[(t,d,s)])\n",
    "model.Add(sum(m_days) == 0)"
   ]
  },
  {
   "cell_type": "code",
   "execution_count": 16,
   "id": "f57fc118",
   "metadata": {},
   "outputs": [
    {
     "data": {
      "text/plain": [
       "<ortools.sat.python.cp_model.Constraint at 0x7f1b7c6ecfd0>"
      ]
     },
     "execution_count": 16,
     "metadata": {},
     "output_type": "execute_result"
    }
   ],
   "source": [
    "#MK6240 only sessions 8 through 13; Mon\n",
    "t = tracers_names.index(\"M\")\n",
    "d = day_names.index(\"Mon\")\n",
    "m_mon = []\n",
    "for s in list(sessions[0:7])+list(sessions[13:18]):\n",
    "    m_mon.append(x[(t,d,s)])\n",
    "model.Add(sum(m_mon) == 0)"
   ]
  },
  {
   "cell_type": "code",
   "execution_count": 17,
   "id": "deac71a2",
   "metadata": {},
   "outputs": [],
   "source": [
    "#UCB-J session 6 or 12 Tues-Fri\n",
    "t = tracers_names.index(\"U\")\n",
    "for d in days[1:5]:\n",
    "    u_sess = []\n",
    "    for s in list(sessions[0:5])+list(sessions[6:11])+list(sessions[12:18]):\n",
    "        u_sess.append(x[(t,d,s)])\n",
    "    model.Add(sum(u_sess) == 0)"
   ]
  },
  {
   "cell_type": "code",
   "execution_count": null,
   "id": "3fe69e71",
   "metadata": {},
   "outputs": [],
   "source": []
  },
  {
   "cell_type": "code",
   "execution_count": 18,
   "id": "0829e087",
   "metadata": {},
   "outputs": [
    {
     "data": {
      "text/plain": [
       "<ortools.sat.python.cp_model.Constraint at 0x7f1b7c6ecc70>"
      ]
     },
     "execution_count": 18,
     "metadata": {},
     "output_type": "execute_result"
    }
   ],
   "source": [
    "#UCB-J session 14 Mon\n",
    "t = tracers_names.index(\"U\")\n",
    "d = day_names.index(\"Mon\")\n",
    "u_mon = []\n",
    "for s in list(sessions[0:13])+list(sessions[14:18]):\n",
    "    u_mon.append(x[(t,d,s)])\n",
    "model.Add(sum(u_mon) == 0)"
   ]
  },
  {
   "cell_type": "code",
   "execution_count": null,
   "id": "87cf721f",
   "metadata": {},
   "outputs": [],
   "source": [
    "#Incentivize having a PIB scan followed by an MK6240 in the same day\n",
    "pib_mk_same_day = []\n",
    "for d in days:\n",
    "    #pib_mk = []\n",
    "    for s in sessions:\n",
    "        mk_sess = []\n",
    "        for sess in range(s,len(sessions)):\n",
    "            mk_sess.append(x[(tracers_names.index(\"M\"),d,sess)])\n",
    "        pib_mk_same_day.append([x[(tracers_names.index(\"P\"), d, s)], mk_sess])\n",
    "        #print(x[(tracers_names.index(\"P\"), d, s)])\n",
    "        #print(mk_sess)\n",
    "    #print(pib_mk)\n",
    "    #pib_mk_same_day.append(x[(tracers_names.index(\"P\"), d, s)] * sum(mk_sess))"
   ]
  },
  {
   "cell_type": "code",
   "execution_count": null,
   "id": "e226766f",
   "metadata": {},
   "outputs": [],
   "source": [
    "sum(pib_mk_same_day[0][1])"
   ]
  },
  {
   "cell_type": "code",
   "execution_count": null,
   "id": "5b6bdc90",
   "metadata": {},
   "outputs": [],
   "source": [
    "#Incentivize having 2 AV1451 in the same day\n",
    "av_two = []\n",
    "for d in days:\n",
    "    av_same = []\n",
    "    for s in sessions:\n",
    "        "
   ]
  },
  {
   "cell_type": "code",
   "execution_count": null,
   "id": "177497d9",
   "metadata": {},
   "outputs": [],
   "source": [
    "#Incentivize having 2 MK6240 in the same day\n",
    "mk_two = []"
   ]
  },
  {
   "cell_type": "code",
   "execution_count": null,
   "id": "b09f5c69",
   "metadata": {},
   "outputs": [],
   "source": [
    "#Incentivize having 3 MK6240 in the same day\n",
    "mk_three = []"
   ]
  },
  {
   "cell_type": "code",
   "execution_count": null,
   "id": "526a4cef",
   "metadata": {},
   "outputs": [],
   "source": [
    "# pylint: disable=g-complex-comprehension\n",
    "model.Maximize( sum(4*pib_mk_same_day[s][0]*sum(pib_mk_same_day[s][1])\n",
    "              for t in tracers for d in days for s in sessions))\n",
    "\n",
    "#    sum(shift_requests[t][d][s] * x[(t, d, s)] for t in tracers\n",
    "#        for d in days for s in sessions))"
   ]
  },
  {
   "cell_type": "code",
   "execution_count": 26,
   "id": "22924913",
   "metadata": {},
   "outputs": [],
   "source": [
    "# pylint: disable=g-complex-comprehension\n",
    "model.Maximize(sum(third[t][d][s] * x[(t, d, s)] for t in tracers for d in days for s in sessions))\n"
   ]
  },
  {
   "cell_type": "code",
   "execution_count": 30,
   "id": "208da48b",
   "metadata": {},
   "outputs": [
    {
     "name": "stdout",
     "output_type": "stream",
     "text": [
      "Solution:\n",
      "Day 0\n",
      "Nurse 0 works shift 0 (requested).\n",
      "Nurse 0 works shift 4 (requested).\n",
      "Nurse 0 works shift 16 (requested).\n",
      "Nurse 2 works shift 8 (requested).\n",
      "Nurse 2 works shift 12 (requested).\n",
      "\n",
      "Day 1\n",
      "Nurse 0 works shift 0 (requested).\n",
      "Nurse 0 works shift 4 (requested).\n",
      "Nurse 0 works shift 8 (requested).\n",
      "Nurse 1 works shift 16 (requested).\n",
      "Nurse 2 works shift 12 (requested).\n",
      "\n",
      "Day 2\n",
      "Nurse 0 works shift 0 (requested).\n",
      "Nurse 0 works shift 4 (requested).\n",
      "Nurse 0 works shift 8 (requested).\n",
      "Nurse 1 works shift 16 (requested).\n",
      "Nurse 2 works shift 12 (requested).\n",
      "\n",
      "Day 3\n",
      "Nurse 0 works shift 0 (requested).\n",
      "Nurse 0 works shift 4 (requested).\n",
      "Nurse 0 works shift 8 (requested).\n",
      "Nurse 1 works shift 16 (requested).\n",
      "Nurse 2 works shift 12 (requested).\n",
      "\n",
      "Day 4\n",
      "Nurse 0 works shift 0 (requested).\n",
      "Nurse 2 works shift 11 (requested).\n",
      "Nurse 2 works shift 15 (requested).\n",
      "Nurse 3 works shift 5 (requested).\n",
      "\n"
     ]
    }
   ],
   "source": [
    "solver = cp_model.CpSolver()\n",
    "status = solver.Solve(model)\n",
    "\n",
    "\n",
    "if status == cp_model.OPTIMAL:\n",
    "    print('Solution:')\n",
    "    for d in days:\n",
    "        print('Day', d)\n",
    "        for t in tracers:\n",
    "            for s in sessions:\n",
    "                if solver.Value(x[(t, d, s)]) == 1:\n",
    "                    if third[t][d][s] == 1:\n",
    "                        print('Nurse', t, 'works shift', s, '(requested).')\n",
    "                    else:\n",
    "                        print('Nurse', t, 'works shift', s,\n",
    "                              '(not requested).')\n",
    "        print()\n",
    "#    print(f'Number of shift requests met = {solver.ObjectiveValue()}',\n",
    "#          f'(out of {num_nurses * min_shifts_per_nurse})')\n",
    "else:\n",
    "    print('No optimal solution found !')"
   ]
  },
  {
   "cell_type": "code",
   "execution_count": null,
   "id": "73d329cb",
   "metadata": {},
   "outputs": [],
   "source": [
    "import plotly.express as px\n",
    "import pandas as pd"
   ]
  },
  {
   "cell_type": "code",
   "execution_count": null,
   "id": "3481f34f",
   "metadata": {},
   "outputs": [],
   "source": [
    "sch_data = pd.DataFrame([\n",
    "    dict(Session=\"08:00-10:00\", Start=0, Finish=5, Tracer=\"NA\", color=\"1\"),\n",
    "    dict(Session=\"08:30-10:30\", Start=0, Finish=5, Tracer=\"NA\", color=\"1\"),\n",
    "    dict(Session=\"09:00-11:00\", Start=0, Finish=5, Tracer=\"NA\", color=\"1\"),\n",
    "    dict(Session=\"09:30-11:30\", Start=0, Finish=5, Tracer=\"NA\", color=\"1\"),\n",
    "    dict(Session=\"10:00-12:00\", Start=0, Finish=5, Tracer=\"NA\", color=\"1\"),\n",
    "    dict(Session=\"10:30-12:30\", Start=0, Finish=5, Tracer=\"NA\", color=\"1\"),\n",
    "    dict(Session=\"11:00-13:00\", Start=0, Finish=5, Tracer=\"NA\", color=\"1\"),\n",
    "    dict(Session=\"11:30-13:30\", Start=0, Finish=5, Tracer=\"NA\", color=\"1\"),\n",
    "    dict(Session=\"12:00-14:00\", Start=0, Finish=5, Tracer=\"NA\", color=\"1\"),\n",
    "    dict(Session=\"12:30-14:30\", Start=0, Finish=5, Tracer=\"NA\", color=\"1\"),\n",
    "    dict(Session=\"13:00-15:00\", Start=0, Finish=5, Tracer=\"NA\", color=\"1\"),\n",
    "    dict(Session=\"13:30-15:30\", Start=0, Finish=5, Tracer=\"NA\", color=\"1\"),\n",
    "    dict(Session=\"14:00-16:00\", Start=0, Finish=5, Tracer=\"NA\", color=\"1\"),\n",
    "    dict(Session=\"14:30-16:30\", Start=0, Finish=5, Tracer=\"NA\", color=\"1\"),\n",
    "    dict(Session=\"15:00-17:00\", Start=0, Finish=5, Tracer=\"NA\", color=\"1\"),\n",
    "    dict(Session=\"15:30-17:30\", Start=0, Finish=5, Tracer=\"NA\", color=\"1\"),\n",
    "    dict(Session=\"16:00-18:00\", Start=0, Finish=5, Tracer=\"NA\", color=\"1\"),\n",
    "    dict(Session=\"08:00-10:00\", Start=0, Finish=1, Tracer=\"PIB\", color=\"2\"),\n",
    "    dict(Session=\"11:30-13:30\", Start=0, Finish=1, Tracer=\"MK6240\", color=\"3\"),\n",
    "    dict(Session=\"14:30-16:30\", Start=0, Finish=1, Tracer=\"UCB-J\", color=\"4\"),\n",
    "    dict(Session=\"12:00-14:00\", Start=1, Finish=2, Tracer=\"AV1451\", color=\"5\")\n",
    "\n",
    "\n",
    "])\n",
    "sch_data['delta'] = sch_data['Finish'] - sch_data['Start']\n",
    "\n",
    "#sch_data.append({'Session' : \"08:00-10:00\",\n",
    "#                'Start' : 1,\n",
    "#                'Finish' : 1,\n",
    "#                'Tracer' : \"PIB\"}, ignore_index=True)\n",
    "\n",
    "#labels_dict = {\"y\":\"Mon\"}\n",
    "fig = px.timeline(sch_data, x_start=\"Start\", x_end=\"Finish\", y=\"Session\",\n",
    "                 color=\"color\", text=\"Tracer\")\n",
    "fig.update_yaxes(autorange=\"reversed\")\n",
    "fig.layout.xaxis.type = 'linear'\n",
    "for d in fig.data:\n",
    "  filt = sch_data['color'] == d.name\n",
    "  d.x = sch_data[filt]['delta'].tolist()\n",
    "    \n",
    "#fig.data[0].x = sch_data.delta.tolist()\n",
    "\n",
    "fig.show()"
   ]
  },
  {
   "cell_type": "code",
   "execution_count": null,
   "id": "ab92d505",
   "metadata": {},
   "outputs": [],
   "source": [
    "fig.to_dict()"
   ]
  },
  {
   "cell_type": "code",
   "execution_count": null,
   "id": "001682a0",
   "metadata": {},
   "outputs": [],
   "source": [
    "file_name = '~/Downloads/scheduling_graph'\n",
    "fig.write_html(f\"{file_name}.html\")"
   ]
  }
 ],
 "metadata": {
  "kernelspec": {
   "display_name": "Python 3 (ipykernel)",
   "language": "python",
   "name": "python3"
  },
  "language_info": {
   "codemirror_mode": {
    "name": "ipython",
    "version": 3
   },
   "file_extension": ".py",
   "mimetype": "text/x-python",
   "name": "python",
   "nbconvert_exporter": "python",
   "pygments_lexer": "ipython3",
   "version": "3.9.7"
  }
 },
 "nbformat": 4,
 "nbformat_minor": 5
}
