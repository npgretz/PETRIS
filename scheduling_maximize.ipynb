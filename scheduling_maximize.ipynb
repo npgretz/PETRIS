{
 "cells": [
  {
   "cell_type": "code",
   "execution_count": 21,
   "id": "864abd19",
   "metadata": {},
   "outputs": [],
   "source": [
    "from ortools.sat.python import cp_model\n",
    "import pandas as pd\n",
    "import plotly.express as px"
   ]
  },
  {
   "cell_type": "code",
   "execution_count": 2,
   "id": "0d4527e7",
   "metadata": {},
   "outputs": [],
   "source": [
    "days = range(5)\n",
    "day_names = [\"Mon\",\"Tues\",\"Wed\",\"Thurs\",\"Fri\"]\n",
    "sessions = range(17)\n",
    "sess_times = [\"08:00 - 10:00\",\"08:30 - 10:30\",\"09:00 - 11:00\",\n",
    "             \"09:30 - 11:30\",\"10:00 - 12:00\",\"10:30 - 12:30\",\n",
    "             \"11:00 - 13:00\",\"11:30 - 13:30\",\"12:00 - 14:00\",\n",
    "             \"12:30 - 14:30\",\"13:00 - 15:00\",\"13:30 - 15:30\",\n",
    "             \"14:00 - 16:00\",\"14:30 - 16:30\",\"15:00 - 17:00\",\n",
    "             \"15:30 - 17:30\",\"16:00 - 18:00\"]\n",
    "tracers = range(4)\n",
    "tracers_names = [\"PIB\",\"AV1451\",\"MK6240\",\"UCB-J\"] #PIB, AV1451, MK6240, UCB-J\n",
    "tracers_colors = [\"2\",\"3\",\"4\",\"5\"]"
   ]
  },
  {
   "cell_type": "code",
   "execution_count": 3,
   "id": "3cec7ebe",
   "metadata": {},
   "outputs": [
    {
     "name": "stdout",
     "output_type": "stream",
     "text": [
      "[[[1, 1, 1, 1, 1, 1, 1, 1, 1, 1, 1, 1, 1, 1, 1, 1, 1], [1, 1, 1, 1, 1, 1, 1, 1, 1, 1, 1, 1, 1, 1, 1, 1, 1], [1, 1, 1, 1, 1, 1, 1, 1, 1, 1, 1, 1, 1, 1, 1, 1, 1], [1, 1, 1, 1, 1, 1, 1, 1, 1, 1, 1, 1, 1, 1, 1, 1, 1], [1, 1, 1, 1, 1, 1, 1, 1, 1, 1, 1, 1, 1, 1, 1, 1, 1]], [[1, 1, 1, 1, 1, 1, 1, 1, 1, 1, 1, 1, 1, 1, 1, 1, 1], [1, 1, 1, 1, 1, 1, 1, 1, 1, 1, 1, 1, 1, 1, 1, 1, 1], [1, 1, 1, 1, 1, 1, 1, 1, 1, 1, 1, 1, 1, 1, 1, 1, 1], [1, 1, 1, 1, 1, 1, 1, 1, 1, 1, 1, 1, 1, 1, 1, 1, 1], [1, 1, 1, 1, 1, 1, 1, 1, 1, 1, 1, 1, 1, 1, 1, 1, 1]], [[1, 1, 1, 1, 1, 1, 1, 1, 1, 1, 1, 1, 1, 1, 1, 1, 1], [1, 1, 1, 1, 1, 1, 1, 1, 1, 1, 1, 1, 1, 1, 1, 1, 1], [1, 1, 1, 1, 1, 1, 1, 1, 1, 1, 1, 1, 1, 1, 1, 1, 1], [1, 1, 1, 1, 1, 1, 1, 1, 1, 1, 1, 1, 1, 1, 1, 1, 1], [1, 1, 1, 1, 1, 1, 1, 1, 1, 1, 1, 1, 1, 1, 1, 1, 1]], [[1, 1, 1, 1, 1, 1, 1, 1, 1, 1, 1, 1, 1, 1, 1, 1, 1], [1, 1, 1, 1, 1, 1, 1, 1, 1, 1, 1, 1, 1, 1, 1, 1, 1], [1, 1, 1, 1, 1, 1, 1, 1, 1, 1, 1, 1, 1, 1, 1, 1, 1], [1, 1, 1, 1, 1, 1, 1, 1, 1, 1, 1, 1, 1, 1, 1, 1, 1], [1, 1, 1, 1, 1, 1, 1, 1, 1, 1, 1, 1, 1, 1, 1, 1, 1]]]\n"
     ]
    }
   ],
   "source": [
    "first = [1,1,1,1,1,\n",
    "         1,1,1,1,1,\n",
    "         1,1,1,1,1,\n",
    "         1,1]\n",
    "\n",
    "second = [first, first, first, first, first]\n",
    "third = [second, second, second, second]\n",
    "print(third)"
   ]
  },
  {
   "cell_type": "code",
   "execution_count": 4,
   "id": "d9e058c9",
   "metadata": {},
   "outputs": [],
   "source": [
    "# find all the solutions\n",
    "\n",
    "# Creates the model.\n",
    "model = cp_model.CpModel()"
   ]
  },
  {
   "cell_type": "code",
   "execution_count": 5,
   "id": "7121f335",
   "metadata": {},
   "outputs": [],
   "source": [
    "#Add new variable for each combination of days, sessions, tracers\n",
    "#Each day,session,tracer is [0,1] Positive Integers\n",
    "x = {}\n",
    "for t in tracers:\n",
    "    for d in days:\n",
    "        for s in sessions:\n",
    "            x[(t,d,s)] = model.NewBoolVar(\n",
    "                \"{}{}{}\".format(tracers_names[t],\n",
    "                                day_names[d],\n",
    "                                sess_times[s]))\n",
    "            \n",
    "            #x[(t,d,s)] = model.NewBoolVar('shift_n%id%is%i' % (t, d, s))\n",
    "            #x[(t,d,s)] = model.NewBoolVar(\"x[{},{},{}]\".format(d,s,t))\n",
    "#x = {}\n",
    "#for s in sessions:\n",
    "#    for d in days:\n",
    "#        for t in tracers:\n",
    "#            x[d,s,t] = model.NewBoolVar(\"x[{},{},{}]\".format(d,s,t))\n",
    "# old attempt            model.NewIntVar(0,1,\"x{}{}{}\".format(d,s,t))"
   ]
  },
  {
   "cell_type": "code",
   "execution_count": 6,
   "id": "d653ab27",
   "metadata": {},
   "outputs": [],
   "source": [
    "# Creates the constraints.\n",
    "#Each session gets at most 1 tracer\n",
    "for d in days:\n",
    "    for s in sessions:\n",
    "        model.Add(sum(x[(t,d,s)] for t in tracers) <= 1)"
   ]
  },
  {
   "cell_type": "code",
   "execution_count": 7,
   "id": "137d6b19",
   "metadata": {},
   "outputs": [],
   "source": [
    "#Each tracer gets at least 1 session per week\n",
    "for t in tracers:\n",
    "    all_sess = []\n",
    "    for d in days:\n",
    "        for s in sessions:\n",
    "            all_sess.append(x[(t,d,s)])\n",
    "    model.Add(sum(all_sess) >= 1)"
   ]
  },
  {
   "cell_type": "code",
   "execution_count": 8,
   "id": "805a002a",
   "metadata": {},
   "outputs": [],
   "source": [
    "#PIB 3 max per day/batch\n",
    "t = tracers_names.index(\"PIB\")\n",
    "for d in days[1:4]:\n",
    "    p_day = []\n",
    "    for s in sessions:\n",
    "        p_day.append(x[(t,d,s)])\n",
    "        model.Add(sum(p_day) <= 3)"
   ]
  },
  {
   "cell_type": "code",
   "execution_count": 9,
   "id": "55dc1bd4",
   "metadata": {},
   "outputs": [
    {
     "data": {
      "text/plain": [
       "<ortools.sat.python.cp_model.Constraint at 0x7fc9521ac0d0>"
      ]
     },
     "execution_count": 9,
     "metadata": {},
     "output_type": "execute_result"
    }
   ],
   "source": [
    "#PIB 1 max per Monday\n",
    "t = tracers_names.index(\"PIB\")\n",
    "d = day_names.index(\"Mon\")\n",
    "p_mon = []\n",
    "for s in sessions:\n",
    "    p_day.append(x[(t,d,s)])\n",
    "model.Add(sum(p_day) <= 1)"
   ]
  },
  {
   "cell_type": "code",
   "execution_count": 10,
   "id": "ee13675e",
   "metadata": {},
   "outputs": [
    {
     "data": {
      "text/plain": [
       "<ortools.sat.python.cp_model.Constraint at 0x7fc9521bbb50>"
      ]
     },
     "execution_count": 10,
     "metadata": {},
     "output_type": "execute_result"
    }
   ],
   "source": [
    "#12 per month for AV1451; 3 per week\n",
    "t = tracers_names.index(\"AV1451\")\n",
    "a_week = []\n",
    "for d in days:\n",
    "    for s in sessions:\n",
    "        a_week.append(x[(t,d,s)])\n",
    "model.Add(sum(a_week) <= 3)"
   ]
  },
  {
   "cell_type": "code",
   "execution_count": 11,
   "id": "09b4614d",
   "metadata": {},
   "outputs": [],
   "source": [
    "#MK6240 max 3 sessions each day\n",
    "t = tracers_names.index(\"MK6240\")\n",
    "for d in days:\n",
    "    m_3 = []\n",
    "    for s in sessions:\n",
    "        m_3.append(x[(t,d,s)])\n",
    "    model.Add(sum(m_3) <= 3)"
   ]
  },
  {
   "cell_type": "code",
   "execution_count": 12,
   "id": "91ba9bd6",
   "metadata": {},
   "outputs": [],
   "source": [
    "#UCB-J max 1 session each day\n",
    "t = tracers_names.index(\"UCB-J\")\n",
    "for d in days:\n",
    "    u_1 = []\n",
    "    for s in sessions:\n",
    "        u_1.append(x[(t,d,s)])\n",
    "    model.Add(sum(u_1) <= 1)"
   ]
  },
  {
   "cell_type": "code",
   "execution_count": 13,
   "id": "cbf26385",
   "metadata": {},
   "outputs": [],
   "source": [
    "#2 hr slots without overlap\n",
    "for d in days:\n",
    "    for s in sessions[0:14]:\n",
    "        overlap = []\n",
    "        for t in tracers:\n",
    "            overlap.extend([\n",
    "                x[(t,d,s)],x[(t,d,s+1)],\n",
    "                x[(t,d,s+2)],x[(t,d,s+3)]\n",
    "            ])\n",
    "        model.Add(sum(overlap) <= 1)"
   ]
  },
  {
   "cell_type": "code",
   "execution_count": null,
   "id": "676e6d6c",
   "metadata": {},
   "outputs": [],
   "source": []
  },
  {
   "cell_type": "code",
   "execution_count": 14,
   "id": "cf66d6d9",
   "metadata": {},
   "outputs": [],
   "source": [
    "#24 HR gap AV1451\n",
    "t = tracers_names.index(\"AV1451\")\n",
    "\n",
    "for d in days[0:4]:\n",
    "    for s in sessions:\n",
    "        a_24 = []\n",
    "        a_24.extend([x[(t,d,sess)] for sess in sessions if sess >= s])#get rest of sessions in sameday\n",
    "        a_24.extend([x[(t,d+1,sess)] for sess in sessions if sess < s])#get sessions within 24 hours later\n",
    "        model.Add(sum(a_24) <= 1)"
   ]
  },
  {
   "cell_type": "code",
   "execution_count": 15,
   "id": "a7b91ba6",
   "metadata": {},
   "outputs": [
    {
     "data": {
      "text/plain": [
       "<ortools.sat.python.cp_model.Constraint at 0x7fc9521ab970>"
      ]
     },
     "execution_count": 15,
     "metadata": {},
     "output_type": "execute_result"
    }
   ],
   "source": [
    "#12:00 earliest sess for AV1451\n",
    "t = tracers_names.index(\"AV1451\")\n",
    "a_early = []\n",
    "for d in days:\n",
    "    for s in sessions[0:8]:\n",
    "        a_early.append(x[(t,d,s)])\n",
    "        #print(\"x{}{}{}\".format(d,s,t)) #sum() = 0\n",
    "model.Add(sum(a_early) == 0)"
   ]
  },
  {
   "cell_type": "code",
   "execution_count": 16,
   "id": "03f2f98e",
   "metadata": {},
   "outputs": [],
   "source": [
    "#PIB 3 hr gap\n",
    "t = tracers_names.index(\"PIB\")\n",
    "for d in days:\n",
    "    for s in sessions[0:12]:\n",
    "        p_gap = []\n",
    "        for num in range(6):\n",
    "            p_gap.append(x[(t,d,s+num)])\n",
    "        model.Add(sum(p_gap) <= 1)"
   ]
  },
  {
   "cell_type": "code",
   "execution_count": 17,
   "id": "8f54703f",
   "metadata": {},
   "outputs": [
    {
     "data": {
      "text/plain": [
       "<ortools.sat.python.cp_model.Constraint at 0x7fc9521bb6a0>"
      ]
     },
     "execution_count": 17,
     "metadata": {},
     "output_type": "execute_result"
    }
   ],
   "source": [
    "#MK6240 only sessions 10 through 16; Tues-Fri\n",
    "t = tracers_names.index(\"MK6240\")\n",
    "m_days = []\n",
    "sess_all = [0,1,2,3,4,5,6,7,8,16]\n",
    "for d in days[1:5]:\n",
    "    for s in list(sessions[0:9])+list(sessions[16:18]):\n",
    "        m_days.append(x[(t,d,s)])\n",
    "model.Add(sum(m_days) == 0)"
   ]
  },
  {
   "cell_type": "code",
   "execution_count": 18,
   "id": "f57fc118",
   "metadata": {},
   "outputs": [
    {
     "data": {
      "text/plain": [
       "<ortools.sat.python.cp_model.Constraint at 0x7fc9521ab910>"
      ]
     },
     "execution_count": 18,
     "metadata": {},
     "output_type": "execute_result"
    }
   ],
   "source": [
    "#MK6240 only sessions 8 through 13; Mon\n",
    "t = tracers_names.index(\"MK6240\")\n",
    "d = day_names.index(\"Mon\")\n",
    "m_mon = []\n",
    "for s in list(sessions[0:7])+list(sessions[13:18]):\n",
    "    m_mon.append(x[(t,d,s)])\n",
    "model.Add(sum(m_mon) == 0)"
   ]
  },
  {
   "cell_type": "code",
   "execution_count": 19,
   "id": "deac71a2",
   "metadata": {},
   "outputs": [],
   "source": [
    "#UCB-J session 6 or 12 Tues-Fri\n",
    "t = tracers_names.index(\"UCB-J\")\n",
    "for d in days[1:5]:\n",
    "    u_sess = []\n",
    "    for s in list(sessions[0:5])+list(sessions[6:11])+list(sessions[12:18]):\n",
    "        u_sess.append(x[(t,d,s)])\n",
    "    model.Add(sum(u_sess) == 0)"
   ]
  },
  {
   "cell_type": "code",
   "execution_count": null,
   "id": "3fe69e71",
   "metadata": {},
   "outputs": [],
   "source": []
  },
  {
   "cell_type": "code",
   "execution_count": 20,
   "id": "0829e087",
   "metadata": {},
   "outputs": [
    {
     "data": {
      "text/plain": [
       "<ortools.sat.python.cp_model.Constraint at 0x7fc9521bb6d0>"
      ]
     },
     "execution_count": 20,
     "metadata": {},
     "output_type": "execute_result"
    }
   ],
   "source": [
    "#UCB-J session 14 Mon\n",
    "t = tracers_names.index(\"UCB-J\")\n",
    "d = day_names.index(\"Mon\")\n",
    "u_mon = []\n",
    "for s in list(sessions[0:13])+list(sessions[14:18]):\n",
    "    u_mon.append(x[(t,d,s)])\n",
    "model.Add(sum(u_mon) == 0)"
   ]
  },
  {
   "cell_type": "code",
   "execution_count": 70,
   "id": "a053a1b4",
   "metadata": {},
   "outputs": [],
   "source": [
    "#Incentivize having a PIB scan followed by an MK6240 in the same day\n",
    "pib_mk_same_day = []\n",
    "for d in days:\n",
    "    #pib_mk = []\n",
    "    for s in range(len(sessions)-5):\n",
    "        mk_sess = [x[(tracers_names.index(\"PIB\"), d, s)]]\n",
    "        for sess in range(s+5,len(sessions)): #MK6240 scan must start after end of PIB\n",
    "            mk_sess.append(x[(tracers_names.index(\"MK6240\"),d,sess)])\n",
    "        #pib_mk_same_day.append(x[(tracers_names.index(\"PIB\"), d, s)])\n",
    "        #mk_sess.append(x[(tracers_names.index(\"PIB\"), d, s)])\n",
    "        pib_mk_same_day.extend([mk_sess])\n",
    "        #print(x[(tracers_names.index(\"P\"), d, s)])\n",
    "        #print(mk_sess)\n",
    "    #print(pib_mk)\n",
    "    #pib_mk_same_day.append(x[(tracers_names.index(\"P\"), d, s)] * sum(mk_sess)    "
   ]
  },
  {
   "cell_type": "code",
   "execution_count": 150,
   "id": "032cafe8",
   "metadata": {},
   "outputs": [
    {
     "name": "stdout",
     "output_type": "stream",
     "text": [
      "PIBMon08:00 - 10:00\n",
      "MK6240Mon10:30 - 12:30\n",
      "MK6240Mon11:00 - 13:00\n",
      "MK6240Mon11:30 - 13:30\n",
      "MK6240Mon12:00 - 14:00\n",
      "MK6240Mon12:30 - 14:30\n",
      "MK6240Mon13:00 - 15:00\n",
      "MK6240Mon13:30 - 15:30\n",
      "MK6240Mon14:00 - 16:00\n",
      "MK6240Mon14:30 - 16:30\n",
      "MK6240Mon15:00 - 17:00\n",
      "MK6240Mon15:30 - 17:30\n",
      "MK6240Mon16:00 - 18:00\n",
      "PIBMon08:30 - 10:30\n",
      "MK6240Mon11:00 - 13:00\n",
      "MK6240Mon11:30 - 13:30\n",
      "MK6240Mon12:00 - 14:00\n",
      "MK6240Mon12:30 - 14:30\n",
      "MK6240Mon13:00 - 15:00\n",
      "MK6240Mon13:30 - 15:30\n",
      "MK6240Mon14:00 - 16:00\n",
      "MK6240Mon14:30 - 16:30\n",
      "MK6240Mon15:00 - 17:00\n",
      "MK6240Mon15:30 - 17:30\n",
      "MK6240Mon16:00 - 18:00\n",
      "PIBMon09:00 - 11:00\n",
      "MK6240Mon11:30 - 13:30\n",
      "MK6240Mon12:00 - 14:00\n",
      "MK6240Mon12:30 - 14:30\n",
      "MK6240Mon13:00 - 15:00\n",
      "MK6240Mon13:30 - 15:30\n",
      "MK6240Mon14:00 - 16:00\n",
      "MK6240Mon14:30 - 16:30\n",
      "MK6240Mon15:00 - 17:00\n",
      "MK6240Mon15:30 - 17:30\n",
      "MK6240Mon16:00 - 18:00\n",
      "PIBMon09:30 - 11:30\n",
      "MK6240Mon12:00 - 14:00\n",
      "MK6240Mon12:30 - 14:30\n",
      "MK6240Mon13:00 - 15:00\n",
      "MK6240Mon13:30 - 15:30\n",
      "MK6240Mon14:00 - 16:00\n",
      "MK6240Mon14:30 - 16:30\n",
      "MK6240Mon15:00 - 17:00\n",
      "MK6240Mon15:30 - 17:30\n",
      "MK6240Mon16:00 - 18:00\n",
      "PIBMon10:00 - 12:00\n",
      "MK6240Mon12:30 - 14:30\n",
      "MK6240Mon13:00 - 15:00\n",
      "MK6240Mon13:30 - 15:30\n",
      "MK6240Mon14:00 - 16:00\n",
      "MK6240Mon14:30 - 16:30\n",
      "MK6240Mon15:00 - 17:00\n",
      "MK6240Mon15:30 - 17:30\n",
      "MK6240Mon16:00 - 18:00\n",
      "PIBMon10:30 - 12:30\n",
      "MK6240Mon13:00 - 15:00\n",
      "MK6240Mon13:30 - 15:30\n",
      "MK6240Mon14:00 - 16:00\n",
      "MK6240Mon14:30 - 16:30\n",
      "MK6240Mon15:00 - 17:00\n",
      "MK6240Mon15:30 - 17:30\n",
      "MK6240Mon16:00 - 18:00\n",
      "PIBMon11:00 - 13:00\n",
      "MK6240Mon13:30 - 15:30\n",
      "MK6240Mon14:00 - 16:00\n",
      "MK6240Mon14:30 - 16:30\n",
      "MK6240Mon15:00 - 17:00\n",
      "MK6240Mon15:30 - 17:30\n",
      "MK6240Mon16:00 - 18:00\n",
      "PIBMon11:30 - 13:30\n",
      "MK6240Mon14:00 - 16:00\n",
      "MK6240Mon14:30 - 16:30\n",
      "MK6240Mon15:00 - 17:00\n",
      "MK6240Mon15:30 - 17:30\n",
      "MK6240Mon16:00 - 18:00\n",
      "PIBMon12:00 - 14:00\n",
      "MK6240Mon14:30 - 16:30\n",
      "MK6240Mon15:00 - 17:00\n",
      "MK6240Mon15:30 - 17:30\n",
      "MK6240Mon16:00 - 18:00\n",
      "PIBMon12:30 - 14:30\n",
      "MK6240Mon15:00 - 17:00\n",
      "MK6240Mon15:30 - 17:30\n",
      "MK6240Mon16:00 - 18:00\n",
      "PIBMon13:00 - 15:00\n",
      "MK6240Mon15:30 - 17:30\n",
      "MK6240Mon16:00 - 18:00\n",
      "PIBMon13:30 - 15:30\n",
      "MK6240Mon16:00 - 18:00\n",
      "PIBTues08:00 - 10:00\n",
      "MK6240Tues10:30 - 12:30\n",
      "MK6240Tues11:00 - 13:00\n",
      "MK6240Tues11:30 - 13:30\n",
      "MK6240Tues12:00 - 14:00\n",
      "MK6240Tues12:30 - 14:30\n",
      "MK6240Tues13:00 - 15:00\n",
      "MK6240Tues13:30 - 15:30\n",
      "MK6240Tues14:00 - 16:00\n",
      "MK6240Tues14:30 - 16:30\n",
      "MK6240Tues15:00 - 17:00\n",
      "MK6240Tues15:30 - 17:30\n",
      "MK6240Tues16:00 - 18:00\n",
      "PIBTues08:30 - 10:30\n",
      "MK6240Tues11:00 - 13:00\n",
      "MK6240Tues11:30 - 13:30\n",
      "MK6240Tues12:00 - 14:00\n",
      "MK6240Tues12:30 - 14:30\n",
      "MK6240Tues13:00 - 15:00\n",
      "MK6240Tues13:30 - 15:30\n",
      "MK6240Tues14:00 - 16:00\n",
      "MK6240Tues14:30 - 16:30\n",
      "MK6240Tues15:00 - 17:00\n",
      "MK6240Tues15:30 - 17:30\n",
      "MK6240Tues16:00 - 18:00\n",
      "PIBTues09:00 - 11:00\n",
      "MK6240Tues11:30 - 13:30\n",
      "MK6240Tues12:00 - 14:00\n",
      "MK6240Tues12:30 - 14:30\n",
      "MK6240Tues13:00 - 15:00\n",
      "MK6240Tues13:30 - 15:30\n",
      "MK6240Tues14:00 - 16:00\n",
      "MK6240Tues14:30 - 16:30\n",
      "MK6240Tues15:00 - 17:00\n",
      "MK6240Tues15:30 - 17:30\n",
      "MK6240Tues16:00 - 18:00\n",
      "PIBTues09:30 - 11:30\n",
      "MK6240Tues12:00 - 14:00\n",
      "MK6240Tues12:30 - 14:30\n",
      "MK6240Tues13:00 - 15:00\n",
      "MK6240Tues13:30 - 15:30\n",
      "MK6240Tues14:00 - 16:00\n",
      "MK6240Tues14:30 - 16:30\n",
      "MK6240Tues15:00 - 17:00\n",
      "MK6240Tues15:30 - 17:30\n",
      "MK6240Tues16:00 - 18:00\n",
      "PIBTues10:00 - 12:00\n",
      "MK6240Tues12:30 - 14:30\n",
      "MK6240Tues13:00 - 15:00\n",
      "MK6240Tues13:30 - 15:30\n",
      "MK6240Tues14:00 - 16:00\n",
      "MK6240Tues14:30 - 16:30\n",
      "MK6240Tues15:00 - 17:00\n",
      "MK6240Tues15:30 - 17:30\n",
      "MK6240Tues16:00 - 18:00\n",
      "PIBTues10:30 - 12:30\n",
      "MK6240Tues13:00 - 15:00\n",
      "MK6240Tues13:30 - 15:30\n",
      "MK6240Tues14:00 - 16:00\n",
      "MK6240Tues14:30 - 16:30\n",
      "MK6240Tues15:00 - 17:00\n",
      "MK6240Tues15:30 - 17:30\n",
      "MK6240Tues16:00 - 18:00\n",
      "PIBTues11:00 - 13:00\n",
      "MK6240Tues13:30 - 15:30\n",
      "MK6240Tues14:00 - 16:00\n",
      "MK6240Tues14:30 - 16:30\n",
      "MK6240Tues15:00 - 17:00\n",
      "MK6240Tues15:30 - 17:30\n",
      "MK6240Tues16:00 - 18:00\n",
      "PIBTues11:30 - 13:30\n",
      "MK6240Tues14:00 - 16:00\n",
      "MK6240Tues14:30 - 16:30\n",
      "MK6240Tues15:00 - 17:00\n",
      "MK6240Tues15:30 - 17:30\n",
      "MK6240Tues16:00 - 18:00\n",
      "PIBTues12:00 - 14:00\n",
      "MK6240Tues14:30 - 16:30\n",
      "MK6240Tues15:00 - 17:00\n",
      "MK6240Tues15:30 - 17:30\n",
      "MK6240Tues16:00 - 18:00\n",
      "PIBTues12:30 - 14:30\n",
      "MK6240Tues15:00 - 17:00\n",
      "MK6240Tues15:30 - 17:30\n",
      "MK6240Tues16:00 - 18:00\n",
      "PIBTues13:00 - 15:00\n",
      "MK6240Tues15:30 - 17:30\n",
      "MK6240Tues16:00 - 18:00\n",
      "PIBTues13:30 - 15:30\n",
      "MK6240Tues16:00 - 18:00\n",
      "PIBWed08:00 - 10:00\n",
      "MK6240Wed10:30 - 12:30\n",
      "MK6240Wed11:00 - 13:00\n",
      "MK6240Wed11:30 - 13:30\n",
      "MK6240Wed12:00 - 14:00\n",
      "MK6240Wed12:30 - 14:30\n",
      "MK6240Wed13:00 - 15:00\n",
      "MK6240Wed13:30 - 15:30\n",
      "MK6240Wed14:00 - 16:00\n",
      "MK6240Wed14:30 - 16:30\n",
      "MK6240Wed15:00 - 17:00\n",
      "MK6240Wed15:30 - 17:30\n",
      "MK6240Wed16:00 - 18:00\n",
      "PIBWed08:30 - 10:30\n",
      "MK6240Wed11:00 - 13:00\n",
      "MK6240Wed11:30 - 13:30\n",
      "MK6240Wed12:00 - 14:00\n",
      "MK6240Wed12:30 - 14:30\n",
      "MK6240Wed13:00 - 15:00\n",
      "MK6240Wed13:30 - 15:30\n",
      "MK6240Wed14:00 - 16:00\n",
      "MK6240Wed14:30 - 16:30\n",
      "MK6240Wed15:00 - 17:00\n",
      "MK6240Wed15:30 - 17:30\n",
      "MK6240Wed16:00 - 18:00\n",
      "PIBWed09:00 - 11:00\n",
      "MK6240Wed11:30 - 13:30\n",
      "MK6240Wed12:00 - 14:00\n",
      "MK6240Wed12:30 - 14:30\n",
      "MK6240Wed13:00 - 15:00\n",
      "MK6240Wed13:30 - 15:30\n",
      "MK6240Wed14:00 - 16:00\n",
      "MK6240Wed14:30 - 16:30\n",
      "MK6240Wed15:00 - 17:00\n",
      "MK6240Wed15:30 - 17:30\n",
      "MK6240Wed16:00 - 18:00\n",
      "PIBWed09:30 - 11:30\n",
      "MK6240Wed12:00 - 14:00\n",
      "MK6240Wed12:30 - 14:30\n",
      "MK6240Wed13:00 - 15:00\n",
      "MK6240Wed13:30 - 15:30\n",
      "MK6240Wed14:00 - 16:00\n",
      "MK6240Wed14:30 - 16:30\n",
      "MK6240Wed15:00 - 17:00\n",
      "MK6240Wed15:30 - 17:30\n",
      "MK6240Wed16:00 - 18:00\n",
      "PIBWed10:00 - 12:00\n",
      "MK6240Wed12:30 - 14:30\n",
      "MK6240Wed13:00 - 15:00\n",
      "MK6240Wed13:30 - 15:30\n",
      "MK6240Wed14:00 - 16:00\n",
      "MK6240Wed14:30 - 16:30\n",
      "MK6240Wed15:00 - 17:00\n",
      "MK6240Wed15:30 - 17:30\n",
      "MK6240Wed16:00 - 18:00\n",
      "PIBWed10:30 - 12:30\n",
      "MK6240Wed13:00 - 15:00\n",
      "MK6240Wed13:30 - 15:30\n",
      "MK6240Wed14:00 - 16:00\n",
      "MK6240Wed14:30 - 16:30\n",
      "MK6240Wed15:00 - 17:00\n",
      "MK6240Wed15:30 - 17:30\n",
      "MK6240Wed16:00 - 18:00\n",
      "PIBWed11:00 - 13:00\n",
      "MK6240Wed13:30 - 15:30\n",
      "MK6240Wed14:00 - 16:00\n",
      "MK6240Wed14:30 - 16:30\n",
      "MK6240Wed15:00 - 17:00\n",
      "MK6240Wed15:30 - 17:30\n",
      "MK6240Wed16:00 - 18:00\n",
      "PIBWed11:30 - 13:30\n",
      "MK6240Wed14:00 - 16:00\n",
      "MK6240Wed14:30 - 16:30\n",
      "MK6240Wed15:00 - 17:00\n",
      "MK6240Wed15:30 - 17:30\n",
      "MK6240Wed16:00 - 18:00\n",
      "PIBWed12:00 - 14:00\n",
      "MK6240Wed14:30 - 16:30\n",
      "MK6240Wed15:00 - 17:00\n",
      "MK6240Wed15:30 - 17:30\n",
      "MK6240Wed16:00 - 18:00\n",
      "PIBWed12:30 - 14:30\n",
      "MK6240Wed15:00 - 17:00\n",
      "MK6240Wed15:30 - 17:30\n",
      "MK6240Wed16:00 - 18:00\n",
      "PIBWed13:00 - 15:00\n",
      "MK6240Wed15:30 - 17:30\n",
      "MK6240Wed16:00 - 18:00\n",
      "PIBWed13:30 - 15:30\n",
      "MK6240Wed16:00 - 18:00\n",
      "PIBThurs08:00 - 10:00\n",
      "MK6240Thurs10:30 - 12:30\n",
      "MK6240Thurs11:00 - 13:00\n",
      "MK6240Thurs11:30 - 13:30\n",
      "MK6240Thurs12:00 - 14:00\n",
      "MK6240Thurs12:30 - 14:30\n",
      "MK6240Thurs13:00 - 15:00\n",
      "MK6240Thurs13:30 - 15:30\n",
      "MK6240Thurs14:00 - 16:00\n",
      "MK6240Thurs14:30 - 16:30\n",
      "MK6240Thurs15:00 - 17:00\n",
      "MK6240Thurs15:30 - 17:30\n",
      "MK6240Thurs16:00 - 18:00\n",
      "PIBThurs08:30 - 10:30\n",
      "MK6240Thurs11:00 - 13:00\n",
      "MK6240Thurs11:30 - 13:30\n",
      "MK6240Thurs12:00 - 14:00\n",
      "MK6240Thurs12:30 - 14:30\n",
      "MK6240Thurs13:00 - 15:00\n",
      "MK6240Thurs13:30 - 15:30\n",
      "MK6240Thurs14:00 - 16:00\n",
      "MK6240Thurs14:30 - 16:30\n",
      "MK6240Thurs15:00 - 17:00\n",
      "MK6240Thurs15:30 - 17:30\n",
      "MK6240Thurs16:00 - 18:00\n",
      "PIBThurs09:00 - 11:00\n",
      "MK6240Thurs11:30 - 13:30\n",
      "MK6240Thurs12:00 - 14:00\n",
      "MK6240Thurs12:30 - 14:30\n",
      "MK6240Thurs13:00 - 15:00\n",
      "MK6240Thurs13:30 - 15:30\n",
      "MK6240Thurs14:00 - 16:00\n",
      "MK6240Thurs14:30 - 16:30\n",
      "MK6240Thurs15:00 - 17:00\n",
      "MK6240Thurs15:30 - 17:30\n",
      "MK6240Thurs16:00 - 18:00\n",
      "PIBThurs09:30 - 11:30\n",
      "MK6240Thurs12:00 - 14:00\n",
      "MK6240Thurs12:30 - 14:30\n",
      "MK6240Thurs13:00 - 15:00\n",
      "MK6240Thurs13:30 - 15:30\n",
      "MK6240Thurs14:00 - 16:00\n",
      "MK6240Thurs14:30 - 16:30\n",
      "MK6240Thurs15:00 - 17:00\n",
      "MK6240Thurs15:30 - 17:30\n",
      "MK6240Thurs16:00 - 18:00\n",
      "PIBThurs10:00 - 12:00\n",
      "MK6240Thurs12:30 - 14:30\n",
      "MK6240Thurs13:00 - 15:00\n",
      "MK6240Thurs13:30 - 15:30\n",
      "MK6240Thurs14:00 - 16:00\n",
      "MK6240Thurs14:30 - 16:30\n",
      "MK6240Thurs15:00 - 17:00\n",
      "MK6240Thurs15:30 - 17:30\n",
      "MK6240Thurs16:00 - 18:00\n",
      "PIBThurs10:30 - 12:30\n",
      "MK6240Thurs13:00 - 15:00\n",
      "MK6240Thurs13:30 - 15:30\n",
      "MK6240Thurs14:00 - 16:00\n",
      "MK6240Thurs14:30 - 16:30\n",
      "MK6240Thurs15:00 - 17:00\n",
      "MK6240Thurs15:30 - 17:30\n",
      "MK6240Thurs16:00 - 18:00\n",
      "PIBThurs11:00 - 13:00\n",
      "MK6240Thurs13:30 - 15:30\n",
      "MK6240Thurs14:00 - 16:00\n",
      "MK6240Thurs14:30 - 16:30\n",
      "MK6240Thurs15:00 - 17:00\n",
      "MK6240Thurs15:30 - 17:30\n",
      "MK6240Thurs16:00 - 18:00\n",
      "PIBThurs11:30 - 13:30\n",
      "MK6240Thurs14:00 - 16:00\n",
      "MK6240Thurs14:30 - 16:30\n",
      "MK6240Thurs15:00 - 17:00\n",
      "MK6240Thurs15:30 - 17:30\n",
      "MK6240Thurs16:00 - 18:00\n",
      "PIBThurs12:00 - 14:00\n",
      "MK6240Thurs14:30 - 16:30\n",
      "MK6240Thurs15:00 - 17:00\n",
      "MK6240Thurs15:30 - 17:30\n",
      "MK6240Thurs16:00 - 18:00\n",
      "PIBThurs12:30 - 14:30\n",
      "MK6240Thurs15:00 - 17:00\n",
      "MK6240Thurs15:30 - 17:30\n",
      "MK6240Thurs16:00 - 18:00\n",
      "PIBThurs13:00 - 15:00\n",
      "MK6240Thurs15:30 - 17:30\n",
      "MK6240Thurs16:00 - 18:00\n",
      "PIBThurs13:30 - 15:30\n",
      "MK6240Thurs16:00 - 18:00\n",
      "PIBFri08:00 - 10:00\n",
      "MK6240Fri10:30 - 12:30\n",
      "MK6240Fri11:00 - 13:00\n",
      "MK6240Fri11:30 - 13:30\n",
      "MK6240Fri12:00 - 14:00\n",
      "MK6240Fri12:30 - 14:30\n",
      "MK6240Fri13:00 - 15:00\n",
      "MK6240Fri13:30 - 15:30\n",
      "MK6240Fri14:00 - 16:00\n",
      "MK6240Fri14:30 - 16:30\n",
      "MK6240Fri15:00 - 17:00\n",
      "MK6240Fri15:30 - 17:30\n",
      "MK6240Fri16:00 - 18:00\n",
      "PIBFri08:30 - 10:30\n",
      "MK6240Fri11:00 - 13:00\n",
      "MK6240Fri11:30 - 13:30\n",
      "MK6240Fri12:00 - 14:00\n",
      "MK6240Fri12:30 - 14:30\n",
      "MK6240Fri13:00 - 15:00\n",
      "MK6240Fri13:30 - 15:30\n",
      "MK6240Fri14:00 - 16:00\n",
      "MK6240Fri14:30 - 16:30\n",
      "MK6240Fri15:00 - 17:00\n",
      "MK6240Fri15:30 - 17:30\n",
      "MK6240Fri16:00 - 18:00\n",
      "PIBFri09:00 - 11:00\n",
      "MK6240Fri11:30 - 13:30\n",
      "MK6240Fri12:00 - 14:00\n",
      "MK6240Fri12:30 - 14:30\n",
      "MK6240Fri13:00 - 15:00\n",
      "MK6240Fri13:30 - 15:30\n",
      "MK6240Fri14:00 - 16:00\n",
      "MK6240Fri14:30 - 16:30\n",
      "MK6240Fri15:00 - 17:00\n",
      "MK6240Fri15:30 - 17:30\n",
      "MK6240Fri16:00 - 18:00\n",
      "PIBFri09:30 - 11:30\n",
      "MK6240Fri12:00 - 14:00\n",
      "MK6240Fri12:30 - 14:30\n",
      "MK6240Fri13:00 - 15:00\n",
      "MK6240Fri13:30 - 15:30\n",
      "MK6240Fri14:00 - 16:00\n",
      "MK6240Fri14:30 - 16:30\n",
      "MK6240Fri15:00 - 17:00\n",
      "MK6240Fri15:30 - 17:30\n",
      "MK6240Fri16:00 - 18:00\n",
      "PIBFri10:00 - 12:00\n",
      "MK6240Fri12:30 - 14:30\n",
      "MK6240Fri13:00 - 15:00\n",
      "MK6240Fri13:30 - 15:30\n",
      "MK6240Fri14:00 - 16:00\n",
      "MK6240Fri14:30 - 16:30\n",
      "MK6240Fri15:00 - 17:00\n",
      "MK6240Fri15:30 - 17:30\n",
      "MK6240Fri16:00 - 18:00\n",
      "PIBFri10:30 - 12:30\n",
      "MK6240Fri13:00 - 15:00\n",
      "MK6240Fri13:30 - 15:30\n",
      "MK6240Fri14:00 - 16:00\n",
      "MK6240Fri14:30 - 16:30\n",
      "MK6240Fri15:00 - 17:00\n",
      "MK6240Fri15:30 - 17:30\n",
      "MK6240Fri16:00 - 18:00\n",
      "PIBFri11:00 - 13:00\n",
      "MK6240Fri13:30 - 15:30\n",
      "MK6240Fri14:00 - 16:00\n",
      "MK6240Fri14:30 - 16:30\n",
      "MK6240Fri15:00 - 17:00\n",
      "MK6240Fri15:30 - 17:30\n",
      "MK6240Fri16:00 - 18:00\n",
      "PIBFri11:30 - 13:30\n",
      "MK6240Fri14:00 - 16:00\n",
      "MK6240Fri14:30 - 16:30\n",
      "MK6240Fri15:00 - 17:00\n",
      "MK6240Fri15:30 - 17:30\n",
      "MK6240Fri16:00 - 18:00\n",
      "PIBFri12:00 - 14:00\n",
      "MK6240Fri14:30 - 16:30\n",
      "MK6240Fri15:00 - 17:00\n",
      "MK6240Fri15:30 - 17:30\n",
      "MK6240Fri16:00 - 18:00\n",
      "PIBFri12:30 - 14:30\n",
      "MK6240Fri15:00 - 17:00\n",
      "MK6240Fri15:30 - 17:30\n",
      "MK6240Fri16:00 - 18:00\n",
      "PIBFri13:00 - 15:00\n",
      "MK6240Fri15:30 - 17:30\n",
      "MK6240Fri16:00 - 18:00\n",
      "PIBFri13:30 - 15:30\n",
      "MK6240Fri16:00 - 18:00\n"
     ]
    }
   ],
   "source": [
    "for pib in range(len(pib_mk_same_day)):\n",
    "    for s in range(len(pib_mk_same_day[pib])):\n",
    "        print(pib_mk_same_day[pib][s])"
   ]
  },
  {
   "cell_type": "code",
   "execution_count": 152,
   "id": "df2f6374",
   "metadata": {},
   "outputs": [
    {
     "data": {
      "text/plain": [
       "Sum(Sum(Sum(Sum(Sum(Sum(Sum(Sum(Sum(Sum(Sum(Sum(Sum(Sum(Sum(Sum(Sum(Sum(Sum(Sum(Sum(Sum(Sum(Sum(Sum(Sum(Sum(Sum(Sum(Sum(Sum(Sum(Sum(Sum(Sum(Sum(Sum(Sum(Sum(Sum(Sum(Sum(Sum(Sum(Sum(Sum(Sum(Sum(Sum(Sum(Sum(Sum(Sum(Sum(Sum(Sum(Sum(Sum(Sum(Sum(Sum(Sum(Sum(Sum(Sum(Sum(Sum(Sum(Sum(Sum(Sum(Sum(Sum(Sum(Sum(Sum(Sum(Sum(Sum(Sum(Sum(Sum(Sum(Sum(Sum(Sum(Sum(Sum(Sum(Sum(Sum(Sum(Sum(Sum(Sum(Sum(Sum(Sum(Sum(Sum(Sum(Sum(Sum(Sum(Sum(Sum(Sum(Sum(Sum(Sum(Sum(Sum(Sum(Sum(Sum(Sum(Sum(Sum(Sum(Sum(Sum(Sum(Sum(Sum(Sum(Sum(Sum(Sum(Sum(Sum(Sum(Sum(Sum(Sum(Sum(Sum(Sum(Sum(Sum(Sum(Sum(Sum(Sum(Sum(Sum(Sum(Sum(Sum(Sum(Sum(Sum(Sum(Sum(Sum(Sum(Sum(Sum(Sum(Sum(Sum(Sum(Sum(Sum(Sum(Sum(Sum(Sum(Sum(Sum(Sum(Sum(Sum(Sum(Sum(Sum(Sum(Sum(Sum(Sum(Sum(Sum(Sum(Sum(Sum(Sum(Sum(Sum(Sum(Sum(Sum(Sum(Sum(Sum(Sum(Sum(Sum(Sum(Sum(Sum(Sum(Sum(Sum(Sum(Sum(Sum(Sum(Sum(Sum(Sum(Sum(Sum(Sum(Sum(Sum(Sum(Sum(Sum(Sum(Sum(Sum(Sum(Sum(Sum(Sum(Sum(Sum(Sum(Sum(Sum(Sum(Sum(Sum(Sum(Sum(Sum(Sum(Sum(Sum(Sum(Sum(Sum(Sum(Sum(Sum(Sum(Sum(Sum(Sum(Sum(Sum(Sum(Sum(Sum(Sum(Sum(Sum(Sum(Sum(Sum(Sum(Sum(Sum(Sum(Sum(Sum(Sum(Sum(Sum(Sum(Sum(Sum(Sum(Sum(Sum(Sum(Sum(Sum(Sum(Sum(Sum(Sum(Sum(Sum(Sum(Sum(Sum(Sum(Sum(Sum(Sum(Sum(Sum(Sum(Sum(Sum(Sum(Sum(Sum(Sum(Sum(Sum(Sum(Sum(Sum(Sum(Sum(Sum(Sum(Sum(Sum(Sum(Sum(Sum(Sum(Sum(Sum(Sum(Sum(Sum(Sum(Sum(Sum(Sum(Sum(Sum(Sum(Sum(Sum(Sum(Sum(Sum(Sum(Sum(Sum(Sum(Sum(Sum(Sum(Sum(Sum(Sum(Sum(Sum(Sum(Sum(Sum(Sum(Sum(Sum(Sum(Sum(Sum(Sum(Sum(Sum(Sum(Sum(Sum(Sum(Sum(Sum(Sum(Sum(Sum(Sum(Sum(Sum(Sum(Sum(Sum(Sum(Sum(Sum(Sum(Sum(Sum(Sum(Sum(Sum(Sum(Sum(Sum(Sum(Sum(Sum(Sum(Sum(Sum(Sum(Sum(Sum(Sum(Sum(Sum(Sum(Sum(Sum(Sum(Sum(Sum(Sum(Sum(Sum(Sum(Sum(Sum(Sum(Sum(Sum(Sum(Sum(Sum(Sum(Sum(Sum(Sum(Sum(Sum(Sum(Sum(Sum(Sum(Sum(Sum(Sum(Sum(Sum(Sum(Sum(Sum(Sum(Sum(Sum(Sum(Sum(Sum(Sum(Sum(Sum(Sum(Sum(Sum(Sum(Sum(Sum(Sum(Sum(Sum(Sum(ProductCst(PIBMon08:00 - 10:00(0..1), -2), ProductCst(MK6240Mon10:30 - 12:30(0..1), -2)), ProductCst(MK6240Mon11:00 - 13:00(0..1), -2)), ProductCst(MK6240Mon11:30 - 13:30(0..1), -2)), ProductCst(MK6240Mon12:00 - 14:00(0..1), -2)), ProductCst(MK6240Mon12:30 - 14:30(0..1), -2)), ProductCst(MK6240Mon13:00 - 15:00(0..1), -2)), ProductCst(MK6240Mon13:30 - 15:30(0..1), -2)), ProductCst(MK6240Mon14:00 - 16:00(0..1), -2)), ProductCst(MK6240Mon14:30 - 16:30(0..1), -2)), ProductCst(MK6240Mon15:00 - 17:00(0..1), -2)), ProductCst(MK6240Mon15:30 - 17:30(0..1), -2)), ProductCst(MK6240Mon16:00 - 18:00(0..1), -2)), ProductCst(PIBMon08:30 - 10:30(0..1), -2)), ProductCst(MK6240Mon11:00 - 13:00(0..1), -2)), ProductCst(MK6240Mon11:30 - 13:30(0..1), -2)), ProductCst(MK6240Mon12:00 - 14:00(0..1), -2)), ProductCst(MK6240Mon12:30 - 14:30(0..1), -2)), ProductCst(MK6240Mon13:00 - 15:00(0..1), -2)), ProductCst(MK6240Mon13:30 - 15:30(0..1), -2)), ProductCst(MK6240Mon14:00 - 16:00(0..1), -2)), ProductCst(MK6240Mon14:30 - 16:30(0..1), -2)), ProductCst(MK6240Mon15:00 - 17:00(0..1), -2)), ProductCst(MK6240Mon15:30 - 17:30(0..1), -2)), ProductCst(MK6240Mon16:00 - 18:00(0..1), -2)), ProductCst(PIBMon09:00 - 11:00(0..1), -2)), ProductCst(MK6240Mon11:30 - 13:30(0..1), -2)), ProductCst(MK6240Mon12:00 - 14:00(0..1), -2)), ProductCst(MK6240Mon12:30 - 14:30(0..1), -2)), ProductCst(MK6240Mon13:00 - 15:00(0..1), -2)), ProductCst(MK6240Mon13:30 - 15:30(0..1), -2)), ProductCst(MK6240Mon14:00 - 16:00(0..1), -2)), ProductCst(MK6240Mon14:30 - 16:30(0..1), -2)), ProductCst(MK6240Mon15:00 - 17:00(0..1), -2)), ProductCst(MK6240Mon15:30 - 17:30(0..1), -2)), ProductCst(MK6240Mon16:00 - 18:00(0..1), -2)), ProductCst(PIBMon09:30 - 11:30(0..1), -2)), ProductCst(MK6240Mon12:00 - 14:00(0..1), -2)), ProductCst(MK6240Mon12:30 - 14:30(0..1), -2)), ProductCst(MK6240Mon13:00 - 15:00(0..1), -2)), ProductCst(MK6240Mon13:30 - 15:30(0..1), -2)), ProductCst(MK6240Mon14:00 - 16:00(0..1), -2)), ProductCst(MK6240Mon14:30 - 16:30(0..1), -2)), ProductCst(MK6240Mon15:00 - 17:00(0..1), -2)), ProductCst(MK6240Mon15:30 - 17:30(0..1), -2)), ProductCst(MK6240Mon16:00 - 18:00(0..1), -2)), ProductCst(PIBMon10:00 - 12:00(0..1), -2)), ProductCst(MK6240Mon12:30 - 14:30(0..1), -2)), ProductCst(MK6240Mon13:00 - 15:00(0..1), -2)), ProductCst(MK6240Mon13:30 - 15:30(0..1), -2)), ProductCst(MK6240Mon14:00 - 16:00(0..1), -2)), ProductCst(MK6240Mon14:30 - 16:30(0..1), -2)), ProductCst(MK6240Mon15:00 - 17:00(0..1), -2)), ProductCst(MK6240Mon15:30 - 17:30(0..1), -2)), ProductCst(MK6240Mon16:00 - 18:00(0..1), -2)), ProductCst(PIBMon10:30 - 12:30(0..1), -2)), ProductCst(MK6240Mon13:00 - 15:00(0..1), -2)), ProductCst(MK6240Mon13:30 - 15:30(0..1), -2)), ProductCst(MK6240Mon14:00 - 16:00(0..1), -2)), ProductCst(MK6240Mon14:30 - 16:30(0..1), -2)), ProductCst(MK6240Mon15:00 - 17:00(0..1), -2)), ProductCst(MK6240Mon15:30 - 17:30(0..1), -2)), ProductCst(MK6240Mon16:00 - 18:00(0..1), -2)), ProductCst(PIBMon11:00 - 13:00(0..1), -2)), ProductCst(MK6240Mon13:30 - 15:30(0..1), -2)), ProductCst(MK6240Mon14:00 - 16:00(0..1), -2)), ProductCst(MK6240Mon14:30 - 16:30(0..1), -2)), ProductCst(MK6240Mon15:00 - 17:00(0..1), -2)), ProductCst(MK6240Mon15:30 - 17:30(0..1), -2)), ProductCst(MK6240Mon16:00 - 18:00(0..1), -2)), ProductCst(PIBMon11:30 - 13:30(0..1), -2)), ProductCst(MK6240Mon14:00 - 16:00(0..1), -2)), ProductCst(MK6240Mon14:30 - 16:30(0..1), -2)), ProductCst(MK6240Mon15:00 - 17:00(0..1), -2)), ProductCst(MK6240Mon15:30 - 17:30(0..1), -2)), ProductCst(MK6240Mon16:00 - 18:00(0..1), -2)), ProductCst(PIBMon12:00 - 14:00(0..1), -2)), ProductCst(MK6240Mon14:30 - 16:30(0..1), -2)), ProductCst(MK6240Mon15:00 - 17:00(0..1), -2)), ProductCst(MK6240Mon15:30 - 17:30(0..1), -2)), ProductCst(MK6240Mon16:00 - 18:00(0..1), -2)), ProductCst(PIBMon12:30 - 14:30(0..1), -2)), ProductCst(MK6240Mon15:00 - 17:00(0..1), -2)), ProductCst(MK6240Mon15:30 - 17:30(0..1), -2)), ProductCst(MK6240Mon16:00 - 18:00(0..1), -2)), ProductCst(PIBMon13:00 - 15:00(0..1), -2)), ProductCst(MK6240Mon15:30 - 17:30(0..1), -2)), ProductCst(MK6240Mon16:00 - 18:00(0..1), -2)), ProductCst(PIBMon13:30 - 15:30(0..1), -2)), ProductCst(MK6240Mon16:00 - 18:00(0..1), -2)), ProductCst(PIBTues08:00 - 10:00(0..1), -2)), ProductCst(MK6240Tues10:30 - 12:30(0..1), -2)), ProductCst(MK6240Tues11:00 - 13:00(0..1), -2)), ProductCst(MK6240Tues11:30 - 13:30(0..1), -2)), ProductCst(MK6240Tues12:00 - 14:00(0..1), -2)), ProductCst(MK6240Tues12:30 - 14:30(0..1), -2)), ProductCst(MK6240Tues13:00 - 15:00(0..1), -2)), ProductCst(MK6240Tues13:30 - 15:30(0..1), -2)), ProductCst(MK6240Tues14:00 - 16:00(0..1), -2)), ProductCst(MK6240Tues14:30 - 16:30(0..1), -2)), ProductCst(MK6240Tues15:00 - 17:00(0..1), -2)), ProductCst(MK6240Tues15:30 - 17:30(0..1), -2)), ProductCst(MK6240Tues16:00 - 18:00(0..1), -2)), ProductCst(PIBTues08:30 - 10:30(0..1), -2)), ProductCst(MK6240Tues11:00 - 13:00(0..1), -2)), ProductCst(MK6240Tues11:30 - 13:30(0..1), -2)), ProductCst(MK6240Tues12:00 - 14:00(0..1), -2)), ProductCst(MK6240Tues12:30 - 14:30(0..1), -2)), ProductCst(MK6240Tues13:00 - 15:00(0..1), -2)), ProductCst(MK6240Tues13:30 - 15:30(0..1), -2)), ProductCst(MK6240Tues14:00 - 16:00(0..1), -2)), ProductCst(MK6240Tues14:30 - 16:30(0..1), -2)), ProductCst(MK6240Tues15:00 - 17:00(0..1), -2)), ProductCst(MK6240Tues15:30 - 17:30(0..1), -2)), ProductCst(MK6240Tues16:00 - 18:00(0..1), -2)), ProductCst(PIBTues09:00 - 11:00(0..1), -2)), ProductCst(MK6240Tues11:30 - 13:30(0..1), -2)), ProductCst(MK6240Tues12:00 - 14:00(0..1), -2)), ProductCst(MK6240Tues12:30 - 14:30(0..1), -2)), ProductCst(MK6240Tues13:00 - 15:00(0..1), -2)), ProductCst(MK6240Tues13:30 - 15:30(0..1), -2)), ProductCst(MK6240Tues14:00 - 16:00(0..1), -2)), ProductCst(MK6240Tues14:30 - 16:30(0..1), -2)), ProductCst(MK6240Tues15:00 - 17:00(0..1), -2)), ProductCst(MK6240Tues15:30 - 17:30(0..1), -2)), ProductCst(MK6240Tues16:00 - 18:00(0..1), -2)), ProductCst(PIBTues09:30 - 11:30(0..1), -2)), ProductCst(MK6240Tues12:00 - 14:00(0..1), -2)), ProductCst(MK6240Tues12:30 - 14:30(0..1), -2)), ProductCst(MK6240Tues13:00 - 15:00(0..1), -2)), ProductCst(MK6240Tues13:30 - 15:30(0..1), -2)), ProductCst(MK6240Tues14:00 - 16:00(0..1), -2)), ProductCst(MK6240Tues14:30 - 16:30(0..1), -2)), ProductCst(MK6240Tues15:00 - 17:00(0..1), -2)), ProductCst(MK6240Tues15:30 - 17:30(0..1), -2)), ProductCst(MK6240Tues16:00 - 18:00(0..1), -2)), ProductCst(PIBTues10:00 - 12:00(0..1), -2)), ProductCst(MK6240Tues12:30 - 14:30(0..1), -2)), ProductCst(MK6240Tues13:00 - 15:00(0..1), -2)), ProductCst(MK6240Tues13:30 - 15:30(0..1), -2)), ProductCst(MK6240Tues14:00 - 16:00(0..1), -2)), ProductCst(MK6240Tues14:30 - 16:30(0..1), -2)), ProductCst(MK6240Tues15:00 - 17:00(0..1), -2)), ProductCst(MK6240Tues15:30 - 17:30(0..1), -2)), ProductCst(MK6240Tues16:00 - 18:00(0..1), -2)), ProductCst(PIBTues10:30 - 12:30(0..1), -2)), ProductCst(MK6240Tues13:00 - 15:00(0..1), -2)), ProductCst(MK6240Tues13:30 - 15:30(0..1), -2)), ProductCst(MK6240Tues14:00 - 16:00(0..1), -2)), ProductCst(MK6240Tues14:30 - 16:30(0..1), -2)), ProductCst(MK6240Tues15:00 - 17:00(0..1), -2)), ProductCst(MK6240Tues15:30 - 17:30(0..1), -2)), ProductCst(MK6240Tues16:00 - 18:00(0..1), -2)), ProductCst(PIBTues11:00 - 13:00(0..1), -2)), ProductCst(MK6240Tues13:30 - 15:30(0..1), -2)), ProductCst(MK6240Tues14:00 - 16:00(0..1), -2)), ProductCst(MK6240Tues14:30 - 16:30(0..1), -2)), ProductCst(MK6240Tues15:00 - 17:00(0..1), -2)), ProductCst(MK6240Tues15:30 - 17:30(0..1), -2)), ProductCst(MK6240Tues16:00 - 18:00(0..1), -2)), ProductCst(PIBTues11:30 - 13:30(0..1), -2)), ProductCst(MK6240Tues14:00 - 16:00(0..1), -2)), ProductCst(MK6240Tues14:30 - 16:30(0..1), -2)), ProductCst(MK6240Tues15:00 - 17:00(0..1), -2)), ProductCst(MK6240Tues15:30 - 17:30(0..1), -2)), ProductCst(MK6240Tues16:00 - 18:00(0..1), -2)), ProductCst(PIBTues12:00 - 14:00(0..1), -2)), ProductCst(MK6240Tues14:30 - 16:30(0..1), -2)), ProductCst(MK6240Tues15:00 - 17:00(0..1), -2)), ProductCst(MK6240Tues15:30 - 17:30(0..1), -2)), ProductCst(MK6240Tues16:00 - 18:00(0..1), -2)), ProductCst(PIBTues12:30 - 14:30(0..1), -2)), ProductCst(MK6240Tues15:00 - 17:00(0..1), -2)), ProductCst(MK6240Tues15:30 - 17:30(0..1), -2)), ProductCst(MK6240Tues16:00 - 18:00(0..1), -2)), ProductCst(PIBTues13:00 - 15:00(0..1), -2)), ProductCst(MK6240Tues15:30 - 17:30(0..1), -2)), ProductCst(MK6240Tues16:00 - 18:00(0..1), -2)), ProductCst(PIBTues13:30 - 15:30(0..1), -2)), ProductCst(MK6240Tues16:00 - 18:00(0..1), -2)), ProductCst(PIBWed08:00 - 10:00(0..1), -2)), ProductCst(MK6240Wed10:30 - 12:30(0..1), -2)), ProductCst(MK6240Wed11:00 - 13:00(0..1), -2)), ProductCst(MK6240Wed11:30 - 13:30(0..1), -2)), ProductCst(MK6240Wed12:00 - 14:00(0..1), -2)), ProductCst(MK6240Wed12:30 - 14:30(0..1), -2)), ProductCst(MK6240Wed13:00 - 15:00(0..1), -2)), ProductCst(MK6240Wed13:30 - 15:30(0..1), -2)), ProductCst(MK6240Wed14:00 - 16:00(0..1), -2)), ProductCst(MK6240Wed14:30 - 16:30(0..1), -2)), ProductCst(MK6240Wed15:00 - 17:00(0..1), -2)), ProductCst(MK6240Wed15:30 - 17:30(0..1), -2)), ProductCst(MK6240Wed16:00 - 18:00(0..1), -2)), ProductCst(PIBWed08:30 - 10:30(0..1), -2)), ProductCst(MK6240Wed11:00 - 13:00(0..1), -2)), ProductCst(MK6240Wed11:30 - 13:30(0..1), -2)), ProductCst(MK6240Wed12:00 - 14:00(0..1), -2)), ProductCst(MK6240Wed12:30 - 14:30(0..1), -2)), ProductCst(MK6240Wed13:00 - 15:00(0..1), -2)), ProductCst(MK6240Wed13:30 - 15:30(0..1), -2)), ProductCst(MK6240Wed14:00 - 16:00(0..1), -2)), ProductCst(MK6240Wed14:30 - 16:30(0..1), -2)), ProductCst(MK6240Wed15:00 - 17:00(0..1), -2)), ProductCst(MK6240Wed15:30 - 17:30(0..1), -2)), ProductCst(MK6240Wed16:00 - 18:00(0..1), -2)), ProductCst(PIBWed09:00 - 11:00(0..1), -2)), ProductCst(MK6240Wed11:30 - 13:30(0..1), -2)), ProductCst(MK6240Wed12:00 - 14:00(0..1), -2)), ProductCst(MK6240Wed12:30 - 14:30(0..1), -2)), ProductCst(MK6240Wed13:00 - 15:00(0..1), -2)), ProductCst(MK6240Wed13:30 - 15:30(0..1), -2)), ProductCst(MK6240Wed14:00 - 16:00(0..1), -2)), ProductCst(MK6240Wed14:30 - 16:30(0..1), -2)), ProductCst(MK6240Wed15:00 - 17:00(0..1), -2)), ProductCst(MK6240Wed15:30 - 17:30(0..1), -2)), ProductCst(MK6240Wed16:00 - 18:00(0..1), -2)), ProductCst(PIBWed09:30 - 11:30(0..1), -2)), ProductCst(MK6240Wed12:00 - 14:00(0..1), -2)), ProductCst(MK6240Wed12:30 - 14:30(0..1), -2)), ProductCst(MK6240Wed13:00 - 15:00(0..1), -2)), ProductCst(MK6240Wed13:30 - 15:30(0..1), -2)), ProductCst(MK6240Wed14:00 - 16:00(0..1), -2)), ProductCst(MK6240Wed14:30 - 16:30(0..1), -2)), ProductCst(MK6240Wed15:00 - 17:00(0..1), -2)), ProductCst(MK6240Wed15:30 - 17:30(0..1), -2)), ProductCst(MK6240Wed16:00 - 18:00(0..1), -2)), ProductCst(PIBWed10:00 - 12:00(0..1), -2)), ProductCst(MK6240Wed12:30 - 14:30(0..1), -2)), ProductCst(MK6240Wed13:00 - 15:00(0..1), -2)), ProductCst(MK6240Wed13:30 - 15:30(0..1), -2)), ProductCst(MK6240Wed14:00 - 16:00(0..1), -2)), ProductCst(MK6240Wed14:30 - 16:30(0..1), -2)), ProductCst(MK6240Wed15:00 - 17:00(0..1), -2)), ProductCst(MK6240Wed15:30 - 17:30(0..1), -2)), ProductCst(MK6240Wed16:00 - 18:00(0..1), -2)), ProductCst(PIBWed10:30 - 12:30(0..1), -2)), ProductCst(MK6240Wed13:00 - 15:00(0..1), -2)), ProductCst(MK6240Wed13:30 - 15:30(0..1), -2)), ProductCst(MK6240Wed14:00 - 16:00(0..1), -2)), ProductCst(MK6240Wed14:30 - 16:30(0..1), -2)), ProductCst(MK6240Wed15:00 - 17:00(0..1), -2)), ProductCst(MK6240Wed15:30 - 17:30(0..1), -2)), ProductCst(MK6240Wed16:00 - 18:00(0..1), -2)), ProductCst(PIBWed11:00 - 13:00(0..1), -2)), ProductCst(MK6240Wed13:30 - 15:30(0..1), -2)), ProductCst(MK6240Wed14:00 - 16:00(0..1), -2)), ProductCst(MK6240Wed14:30 - 16:30(0..1), -2)), ProductCst(MK6240Wed15:00 - 17:00(0..1), -2)), ProductCst(MK6240Wed15:30 - 17:30(0..1), -2)), ProductCst(MK6240Wed16:00 - 18:00(0..1), -2)), ProductCst(PIBWed11:30 - 13:30(0..1), -2)), ProductCst(MK6240Wed14:00 - 16:00(0..1), -2)), ProductCst(MK6240Wed14:30 - 16:30(0..1), -2)), ProductCst(MK6240Wed15:00 - 17:00(0..1), -2)), ProductCst(MK6240Wed15:30 - 17:30(0..1), -2)), ProductCst(MK6240Wed16:00 - 18:00(0..1), -2)), ProductCst(PIBWed12:00 - 14:00(0..1), -2)), ProductCst(MK6240Wed14:30 - 16:30(0..1), -2)), ProductCst(MK6240Wed15:00 - 17:00(0..1), -2)), ProductCst(MK6240Wed15:30 - 17:30(0..1), -2)), ProductCst(MK6240Wed16:00 - 18:00(0..1), -2)), ProductCst(PIBWed12:30 - 14:30(0..1), -2)), ProductCst(MK6240Wed15:00 - 17:00(0..1), -2)), ProductCst(MK6240Wed15:30 - 17:30(0..1), -2)), ProductCst(MK6240Wed16:00 - 18:00(0..1), -2)), ProductCst(PIBWed13:00 - 15:00(0..1), -2)), ProductCst(MK6240Wed15:30 - 17:30(0..1), -2)), ProductCst(MK6240Wed16:00 - 18:00(0..1), -2)), ProductCst(PIBWed13:30 - 15:30(0..1), -2)), ProductCst(MK6240Wed16:00 - 18:00(0..1), -2)), ProductCst(PIBThurs08:00 - 10:00(0..1), -2)), ProductCst(MK6240Thurs10:30 - 12:30(0..1), -2)), ProductCst(MK6240Thurs11:00 - 13:00(0..1), -2)), ProductCst(MK6240Thurs11:30 - 13:30(0..1), -2)), ProductCst(MK6240Thurs12:00 - 14:00(0..1), -2)), ProductCst(MK6240Thurs12:30 - 14:30(0..1), -2)), ProductCst(MK6240Thurs13:00 - 15:00(0..1), -2)), ProductCst(MK6240Thurs13:30 - 15:30(0..1), -2)), ProductCst(MK6240Thurs14:00 - 16:00(0..1), -2)), ProductCst(MK6240Thurs14:30 - 16:30(0..1), -2)), ProductCst(MK6240Thurs15:00 - 17:00(0..1), -2)), ProductCst(MK6240Thurs15:30 - 17:30(0..1), -2)), ProductCst(MK6240Thurs16:00 - 18:00(0..1), -2)), ProductCst(PIBThurs08:30 - 10:30(0..1), -2)), ProductCst(MK6240Thurs11:00 - 13:00(0..1), -2)), ProductCst(MK6240Thurs11:30 - 13:30(0..1), -2)), ProductCst(MK6240Thurs12:00 - 14:00(0..1), -2)), ProductCst(MK6240Thurs12:30 - 14:30(0..1), -2)), ProductCst(MK6240Thurs13:00 - 15:00(0..1), -2)), ProductCst(MK6240Thurs13:30 - 15:30(0..1), -2)), ProductCst(MK6240Thurs14:00 - 16:00(0..1), -2)), ProductCst(MK6240Thurs14:30 - 16:30(0..1), -2)), ProductCst(MK6240Thurs15:00 - 17:00(0..1), -2)), ProductCst(MK6240Thurs15:30 - 17:30(0..1), -2)), ProductCst(MK6240Thurs16:00 - 18:00(0..1), -2)), ProductCst(PIBThurs09:00 - 11:00(0..1), -2)), ProductCst(MK6240Thurs11:30 - 13:30(0..1), -2)), ProductCst(MK6240Thurs12:00 - 14:00(0..1), -2)), ProductCst(MK6240Thurs12:30 - 14:30(0..1), -2)), ProductCst(MK6240Thurs13:00 - 15:00(0..1), -2)), ProductCst(MK6240Thurs13:30 - 15:30(0..1), -2)), ProductCst(MK6240Thurs14:00 - 16:00(0..1), -2)), ProductCst(MK6240Thurs14:30 - 16:30(0..1), -2)), ProductCst(MK6240Thurs15:00 - 17:00(0..1), -2)), ProductCst(MK6240Thurs15:30 - 17:30(0..1), -2)), ProductCst(MK6240Thurs16:00 - 18:00(0..1), -2)), ProductCst(PIBThurs09:30 - 11:30(0..1), -2)), ProductCst(MK6240Thurs12:00 - 14:00(0..1), -2)), ProductCst(MK6240Thurs12:30 - 14:30(0..1), -2)), ProductCst(MK6240Thurs13:00 - 15:00(0..1), -2)), ProductCst(MK6240Thurs13:30 - 15:30(0..1), -2)), ProductCst(MK6240Thurs14:00 - 16:00(0..1), -2)), ProductCst(MK6240Thurs14:30 - 16:30(0..1), -2)), ProductCst(MK6240Thurs15:00 - 17:00(0..1), -2)), ProductCst(MK6240Thurs15:30 - 17:30(0..1), -2)), ProductCst(MK6240Thurs16:00 - 18:00(0..1), -2)), ProductCst(PIBThurs10:00 - 12:00(0..1), -2)), ProductCst(MK6240Thurs12:30 - 14:30(0..1), -2)), ProductCst(MK6240Thurs13:00 - 15:00(0..1), -2)), ProductCst(MK6240Thurs13:30 - 15:30(0..1), -2)), ProductCst(MK6240Thurs14:00 - 16:00(0..1), -2)), ProductCst(MK6240Thurs14:30 - 16:30(0..1), -2)), ProductCst(MK6240Thurs15:00 - 17:00(0..1), -2)), ProductCst(MK6240Thurs15:30 - 17:30(0..1), -2)), ProductCst(MK6240Thurs16:00 - 18:00(0..1), -2)), ProductCst(PIBThurs10:30 - 12:30(0..1), -2)), ProductCst(MK6240Thurs13:00 - 15:00(0..1), -2)), ProductCst(MK6240Thurs13:30 - 15:30(0..1), -2)), ProductCst(MK6240Thurs14:00 - 16:00(0..1), -2)), ProductCst(MK6240Thurs14:30 - 16:30(0..1), -2)), ProductCst(MK6240Thurs15:00 - 17:00(0..1), -2)), ProductCst(MK6240Thurs15:30 - 17:30(0..1), -2)), ProductCst(MK6240Thurs16:00 - 18:00(0..1), -2)), ProductCst(PIBThurs11:00 - 13:00(0..1), -2)), ProductCst(MK6240Thurs13:30 - 15:30(0..1), -2)), ProductCst(MK6240Thurs14:00 - 16:00(0..1), -2)), ProductCst(MK6240Thurs14:30 - 16:30(0..1), -2)), ProductCst(MK6240Thurs15:00 - 17:00(0..1), -2)), ProductCst(MK6240Thurs15:30 - 17:30(0..1), -2)), ProductCst(MK6240Thurs16:00 - 18:00(0..1), -2)), ProductCst(PIBThurs11:30 - 13:30(0..1), -2)), ProductCst(MK6240Thurs14:00 - 16:00(0..1), -2)), ProductCst(MK6240Thurs14:30 - 16:30(0..1), -2)), ProductCst(MK6240Thurs15:00 - 17:00(0..1), -2)), ProductCst(MK6240Thurs15:30 - 17:30(0..1), -2)), ProductCst(MK6240Thurs16:00 - 18:00(0..1), -2)), ProductCst(PIBThurs12:00 - 14:00(0..1), -2)), ProductCst(MK6240Thurs14:30 - 16:30(0..1), -2)), ProductCst(MK6240Thurs15:00 - 17:00(0..1), -2)), ProductCst(MK6240Thurs15:30 - 17:30(0..1), -2)), ProductCst(MK6240Thurs16:00 - 18:00(0..1), -2)), ProductCst(PIBThurs12:30 - 14:30(0..1), -2)), ProductCst(MK6240Thurs15:00 - 17:00(0..1), -2)), ProductCst(MK6240Thurs15:30 - 17:30(0..1), -2)), ProductCst(MK6240Thurs16:00 - 18:00(0..1), -2)), ProductCst(PIBThurs13:00 - 15:00(0..1), -2)), ProductCst(MK6240Thurs15:30 - 17:30(0..1), -2)), ProductCst(MK6240Thurs16:00 - 18:00(0..1), -2)), ProductCst(PIBThurs13:30 - 15:30(0..1), -2)), ProductCst(MK6240Thurs16:00 - 18:00(0..1), -2)), ProductCst(PIBFri08:00 - 10:00(0..1), -2)), ProductCst(MK6240Fri10:30 - 12:30(0..1), -2)), ProductCst(MK6240Fri11:00 - 13:00(0..1), -2)), ProductCst(MK6240Fri11:30 - 13:30(0..1), -2)), ProductCst(MK6240Fri12:00 - 14:00(0..1), -2)), ProductCst(MK6240Fri12:30 - 14:30(0..1), -2)), ProductCst(MK6240Fri13:00 - 15:00(0..1), -2)), ProductCst(MK6240Fri13:30 - 15:30(0..1), -2)), ProductCst(MK6240Fri14:00 - 16:00(0..1), -2)), ProductCst(MK6240Fri14:30 - 16:30(0..1), -2)), ProductCst(MK6240Fri15:00 - 17:00(0..1), -2)), ProductCst(MK6240Fri15:30 - 17:30(0..1), -2)), ProductCst(MK6240Fri16:00 - 18:00(0..1), -2)), ProductCst(PIBFri08:30 - 10:30(0..1), -2)), ProductCst(MK6240Fri11:00 - 13:00(0..1), -2)), ProductCst(MK6240Fri11:30 - 13:30(0..1), -2)), ProductCst(MK6240Fri12:00 - 14:00(0..1), -2)), ProductCst(MK6240Fri12:30 - 14:30(0..1), -2)), ProductCst(MK6240Fri13:00 - 15:00(0..1), -2)), ProductCst(MK6240Fri13:30 - 15:30(0..1), -2)), ProductCst(MK6240Fri14:00 - 16:00(0..1), -2)), ProductCst(MK6240Fri14:30 - 16:30(0..1), -2)), ProductCst(MK6240Fri15:00 - 17:00(0..1), -2)), ProductCst(MK6240Fri15:30 - 17:30(0..1), -2)), ProductCst(MK6240Fri16:00 - 18:00(0..1), -2)), ProductCst(PIBFri09:00 - 11:00(0..1), -2)), ProductCst(MK6240Fri11:30 - 13:30(0..1), -2)), ProductCst(MK6240Fri12:00 - 14:00(0..1), -2)), ProductCst(MK6240Fri12:30 - 14:30(0..1), -2)), ProductCst(MK6240Fri13:00 - 15:00(0..1), -2)), ProductCst(MK6240Fri13:30 - 15:30(0..1), -2)), ProductCst(MK6240Fri14:00 - 16:00(0..1), -2)), ProductCst(MK6240Fri14:30 - 16:30(0..1), -2)), ProductCst(MK6240Fri15:00 - 17:00(0..1), -2)), ProductCst(MK6240Fri15:30 - 17:30(0..1), -2)), ProductCst(MK6240Fri16:00 - 18:00(0..1), -2)), ProductCst(PIBFri09:30 - 11:30(0..1), -2)), ProductCst(MK6240Fri12:00 - 14:00(0..1), -2)), ProductCst(MK6240Fri12:30 - 14:30(0..1), -2)), ProductCst(MK6240Fri13:00 - 15:00(0..1), -2)), ProductCst(MK6240Fri13:30 - 15:30(0..1), -2)), ProductCst(MK6240Fri14:00 - 16:00(0..1), -2)), ProductCst(MK6240Fri14:30 - 16:30(0..1), -2)), ProductCst(MK6240Fri15:00 - 17:00(0..1), -2)), ProductCst(MK6240Fri15:30 - 17:30(0..1), -2)), ProductCst(MK6240Fri16:00 - 18:00(0..1), -2)), ProductCst(PIBFri10:00 - 12:00(0..1), -2)), ProductCst(MK6240Fri12:30 - 14:30(0..1), -2)), ProductCst(MK6240Fri13:00 - 15:00(0..1), -2)), ProductCst(MK6240Fri13:30 - 15:30(0..1), -2)), ProductCst(MK6240Fri14:00 - 16:00(0..1), -2)), ProductCst(MK6240Fri14:30 - 16:30(0..1), -2)), ProductCst(MK6240Fri15:00 - 17:00(0..1), -2)), ProductCst(MK6240Fri15:30 - 17:30(0..1), -2)), ProductCst(MK6240Fri16:00 - 18:00(0..1), -2)), ProductCst(PIBFri10:30 - 12:30(0..1), -2)), ProductCst(MK6240Fri13:00 - 15:00(0..1), -2)), ProductCst(MK6240Fri13:30 - 15:30(0..1), -2)), ProductCst(MK6240Fri14:00 - 16:00(0..1), -2)), ProductCst(MK6240Fri14:30 - 16:30(0..1), -2)), ProductCst(MK6240Fri15:00 - 17:00(0..1), -2)), ProductCst(MK6240Fri15:30 - 17:30(0..1), -2)), ProductCst(MK6240Fri16:00 - 18:00(0..1), -2)), ProductCst(PIBFri11:00 - 13:00(0..1), -2)), ProductCst(MK6240Fri13:30 - 15:30(0..1), -2)), ProductCst(MK6240Fri14:00 - 16:00(0..1), -2)), ProductCst(MK6240Fri14:30 - 16:30(0..1), -2)), ProductCst(MK6240Fri15:00 - 17:00(0..1), -2)), ProductCst(MK6240Fri15:30 - 17:30(0..1), -2)), ProductCst(MK6240Fri16:00 - 18:00(0..1), -2)), ProductCst(PIBFri11:30 - 13:30(0..1), -2)), ProductCst(MK6240Fri14:00 - 16:00(0..1), -2)), ProductCst(MK6240Fri14:30 - 16:30(0..1), -2)), ProductCst(MK6240Fri15:00 - 17:00(0..1), -2)), ProductCst(MK6240Fri15:30 - 17:30(0..1), -2)), ProductCst(MK6240Fri16:00 - 18:00(0..1), -2)), ProductCst(PIBFri12:00 - 14:00(0..1), -2)), ProductCst(MK6240Fri14:30 - 16:30(0..1), -2)), ProductCst(MK6240Fri15:00 - 17:00(0..1), -2)), ProductCst(MK6240Fri15:30 - 17:30(0..1), -2)), ProductCst(MK6240Fri16:00 - 18:00(0..1), -2)), ProductCst(PIBFri12:30 - 14:30(0..1), -2)), ProductCst(MK6240Fri15:00 - 17:00(0..1), -2)), ProductCst(MK6240Fri15:30 - 17:30(0..1), -2)), ProductCst(MK6240Fri16:00 - 18:00(0..1), -2)), ProductCst(PIBFri13:00 - 15:00(0..1), -2)), ProductCst(MK6240Fri15:30 - 17:30(0..1), -2)), ProductCst(MK6240Fri16:00 - 18:00(0..1), -2)), ProductCst(PIBFri13:30 - 15:30(0..1), -2)), ProductCst(MK6240Fri16:00 - 18:00(0..1), -2))"
      ]
     },
     "execution_count": 152,
     "metadata": {},
     "output_type": "execute_result"
    }
   ],
   "source": [
    "sum(-2 * pib_mk_same_day[pib][s] for pib in range(len(pib_mk_same_day)) for s in range(len(pib_mk_same_day[pib])))"
   ]
  },
  {
   "cell_type": "code",
   "execution_count": null,
   "id": "0441b5e9",
   "metadata": {},
   "outputs": [],
   "source": [
    "#Incentivize having 2 AV1451 in the same day\n",
    "#av_two = []\n",
    "#for d in days:\n",
    "#    av_same = []\n",
    "#    for s in sessions:\n",
    "        "
   ]
  },
  {
   "cell_type": "code",
   "execution_count": null,
   "id": "5a780d64",
   "metadata": {},
   "outputs": [],
   "source": [
    "#Incentivize having 2 MK6240 in the same day\n",
    "mk_two = []"
   ]
  },
  {
   "cell_type": "code",
   "execution_count": null,
   "id": "1213dc62",
   "metadata": {},
   "outputs": [],
   "source": [
    "#Incentivize having 3 MK6240 in the same day\n",
    "mk_three = []"
   ]
  },
  {
   "cell_type": "code",
   "execution_count": null,
   "id": "526a4cef",
   "metadata": {},
   "outputs": [],
   "source": [
    "# pylint: disable=g-complex-comprehension\n",
    "#model.Maximize( sum(4*pib_mk_same_day[s][0]*sum(pib_mk_same_day[s][1])\n",
    "#              for t in tracers for d in days for s in sessions))\n",
    "\n",
    "#    sum(shift_requests[t][d][s] * x[(t, d, s)] for t in tracers\n",
    "#        for d in days for s in sessions))"
   ]
  },
  {
   "cell_type": "code",
   "execution_count": 101,
   "id": "4e7dff89",
   "metadata": {},
   "outputs": [
    {
     "data": {
      "text/plain": [
       "Sum(Sum(Sum(Sum(Sum(Sum(Sum(Sum(Sum(Sum(Sum(Sum(Sum(Sum(Sum(Sum(Sum(Sum(Sum(Sum(Sum(Sum(Sum(Sum(Sum(Sum(Sum(Sum(Sum(Sum(Sum(Sum(Sum(Sum(Sum(Sum(Sum(Sum(Sum(Sum(Sum(Sum(Sum(Sum(Sum(Sum(Sum(Sum(Sum(Sum(Sum(Sum(Sum(Sum(Sum(Sum(Sum(Sum(Sum(Sum(Sum(Sum(Sum(Sum(Sum(Sum(Sum(Sum(Sum(Sum(Sum(Sum(Sum(Sum(Sum(Sum(Sum(Sum(Sum(Sum(Sum(Sum(Sum(Sum(Sum(Sum(Sum(Sum(Sum(Sum(Sum(Sum(Sum(Sum(Sum(Sum(Sum(Sum(Sum(Sum(Sum(Sum(Sum(Sum(Sum(Sum(Sum(Sum(Sum(Sum(Sum(Sum(Sum(Sum(Sum(Sum(Sum(Sum(Sum(Sum(Sum(Sum(Sum(Sum(Sum(Sum(Sum(Sum(Sum(Sum(Sum(Sum(Sum(Sum(Sum(Sum(Sum(Sum(Sum(Sum(Sum(Sum(Sum(Sum(Sum(Sum(Sum(Sum(Sum(Sum(Sum(Sum(Sum(Sum(Sum(Sum(Sum(Sum(Sum(Sum(Sum(Sum(Sum(Sum(Sum(Sum(Sum(Sum(Sum(Sum(Sum(Sum(Sum(Sum(Sum(Sum(Sum(Sum(Sum(Sum(Sum(Sum(Sum(Sum(Sum(Sum(Sum(Sum(Sum(Sum(Sum(Sum(Sum(Sum(Sum(Sum(Sum(Sum(Sum(Sum(Sum(Sum(Sum(Sum(Sum(Sum(Sum(Sum(Sum(Sum(Sum(Sum(Sum(Sum(Sum(Sum(Sum(Sum(Sum(Sum(Sum(Sum(Sum(Sum(Sum(Sum(Sum(Sum(Sum(Sum(Sum(Sum(Sum(Sum(Sum(Sum(Sum(Sum(Sum(Sum(Sum(Sum(Sum(Sum(Sum(Sum(Sum(Sum(Sum(Sum(Sum(Sum(Sum(Sum(Sum(Sum(Sum(Sum(Sum(Sum(Sum(Sum(Sum(Sum(Sum(Sum(Sum(Sum(Sum(Sum(Sum(Sum(Sum(Sum(Sum(Sum(Sum(Sum(Sum(Sum(Sum(Sum(Sum(Sum(Sum(Sum(Sum(Sum(Sum(Sum(Sum(Sum(Sum(Sum(Sum(Sum(Sum(Sum(Sum(Sum(Sum(Sum(Sum(Sum(Sum(Sum(Sum(Sum(Sum(Sum(Sum(Sum(Sum(Sum(Sum(Sum(Sum(Sum(Sum(Sum(Sum(Sum(Sum(Sum(Sum(Sum(Sum(Sum(Sum(Sum(Sum(Sum(Sum(Sum(Sum(Sum(Sum(Sum(Sum(PIBMon08:00 - 10:00(0..1), PIBMon08:30 - 10:30(0..1)), PIBMon09:00 - 11:00(0..1)), PIBMon09:30 - 11:30(0..1)), PIBMon10:00 - 12:00(0..1)), PIBMon10:30 - 12:30(0..1)), PIBMon11:00 - 13:00(0..1)), PIBMon11:30 - 13:30(0..1)), PIBMon12:00 - 14:00(0..1)), PIBMon12:30 - 14:30(0..1)), PIBMon13:00 - 15:00(0..1)), PIBMon13:30 - 15:30(0..1)), PIBMon14:00 - 16:00(0..1)), PIBMon14:30 - 16:30(0..1)), PIBMon15:00 - 17:00(0..1)), PIBMon15:30 - 17:30(0..1)), PIBMon16:00 - 18:00(0..1)), PIBTues08:00 - 10:00(0..1)), PIBTues08:30 - 10:30(0..1)), PIBTues09:00 - 11:00(0..1)), PIBTues09:30 - 11:30(0..1)), PIBTues10:00 - 12:00(0..1)), PIBTues10:30 - 12:30(0..1)), PIBTues11:00 - 13:00(0..1)), PIBTues11:30 - 13:30(0..1)), PIBTues12:00 - 14:00(0..1)), PIBTues12:30 - 14:30(0..1)), PIBTues13:00 - 15:00(0..1)), PIBTues13:30 - 15:30(0..1)), PIBTues14:00 - 16:00(0..1)), PIBTues14:30 - 16:30(0..1)), PIBTues15:00 - 17:00(0..1)), PIBTues15:30 - 17:30(0..1)), PIBTues16:00 - 18:00(0..1)), PIBWed08:00 - 10:00(0..1)), PIBWed08:30 - 10:30(0..1)), PIBWed09:00 - 11:00(0..1)), PIBWed09:30 - 11:30(0..1)), PIBWed10:00 - 12:00(0..1)), PIBWed10:30 - 12:30(0..1)), PIBWed11:00 - 13:00(0..1)), PIBWed11:30 - 13:30(0..1)), PIBWed12:00 - 14:00(0..1)), PIBWed12:30 - 14:30(0..1)), PIBWed13:00 - 15:00(0..1)), PIBWed13:30 - 15:30(0..1)), PIBWed14:00 - 16:00(0..1)), PIBWed14:30 - 16:30(0..1)), PIBWed15:00 - 17:00(0..1)), PIBWed15:30 - 17:30(0..1)), PIBWed16:00 - 18:00(0..1)), PIBThurs08:00 - 10:00(0..1)), PIBThurs08:30 - 10:30(0..1)), PIBThurs09:00 - 11:00(0..1)), PIBThurs09:30 - 11:30(0..1)), PIBThurs10:00 - 12:00(0..1)), PIBThurs10:30 - 12:30(0..1)), PIBThurs11:00 - 13:00(0..1)), PIBThurs11:30 - 13:30(0..1)), PIBThurs12:00 - 14:00(0..1)), PIBThurs12:30 - 14:30(0..1)), PIBThurs13:00 - 15:00(0..1)), PIBThurs13:30 - 15:30(0..1)), PIBThurs14:00 - 16:00(0..1)), PIBThurs14:30 - 16:30(0..1)), PIBThurs15:00 - 17:00(0..1)), PIBThurs15:30 - 17:30(0..1)), PIBThurs16:00 - 18:00(0..1)), PIBFri08:00 - 10:00(0..1)), PIBFri08:30 - 10:30(0..1)), PIBFri09:00 - 11:00(0..1)), PIBFri09:30 - 11:30(0..1)), PIBFri10:00 - 12:00(0..1)), PIBFri10:30 - 12:30(0..1)), PIBFri11:00 - 13:00(0..1)), PIBFri11:30 - 13:30(0..1)), PIBFri12:00 - 14:00(0..1)), PIBFri12:30 - 14:30(0..1)), PIBFri13:00 - 15:00(0..1)), PIBFri13:30 - 15:30(0..1)), PIBFri14:00 - 16:00(0..1)), PIBFri14:30 - 16:30(0..1)), PIBFri15:00 - 17:00(0..1)), PIBFri15:30 - 17:30(0..1)), PIBFri16:00 - 18:00(0..1)), AV1451Mon08:00 - 10:00(0..1)), AV1451Mon08:30 - 10:30(0..1)), AV1451Mon09:00 - 11:00(0..1)), AV1451Mon09:30 - 11:30(0..1)), AV1451Mon10:00 - 12:00(0..1)), AV1451Mon10:30 - 12:30(0..1)), AV1451Mon11:00 - 13:00(0..1)), AV1451Mon11:30 - 13:30(0..1)), AV1451Mon12:00 - 14:00(0..1)), AV1451Mon12:30 - 14:30(0..1)), AV1451Mon13:00 - 15:00(0..1)), AV1451Mon13:30 - 15:30(0..1)), AV1451Mon14:00 - 16:00(0..1)), AV1451Mon14:30 - 16:30(0..1)), AV1451Mon15:00 - 17:00(0..1)), AV1451Mon15:30 - 17:30(0..1)), AV1451Mon16:00 - 18:00(0..1)), AV1451Tues08:00 - 10:00(0..1)), AV1451Tues08:30 - 10:30(0..1)), AV1451Tues09:00 - 11:00(0..1)), AV1451Tues09:30 - 11:30(0..1)), AV1451Tues10:00 - 12:00(0..1)), AV1451Tues10:30 - 12:30(0..1)), AV1451Tues11:00 - 13:00(0..1)), AV1451Tues11:30 - 13:30(0..1)), AV1451Tues12:00 - 14:00(0..1)), AV1451Tues12:30 - 14:30(0..1)), AV1451Tues13:00 - 15:00(0..1)), AV1451Tues13:30 - 15:30(0..1)), AV1451Tues14:00 - 16:00(0..1)), AV1451Tues14:30 - 16:30(0..1)), AV1451Tues15:00 - 17:00(0..1)), AV1451Tues15:30 - 17:30(0..1)), AV1451Tues16:00 - 18:00(0..1)), AV1451Wed08:00 - 10:00(0..1)), AV1451Wed08:30 - 10:30(0..1)), AV1451Wed09:00 - 11:00(0..1)), AV1451Wed09:30 - 11:30(0..1)), AV1451Wed10:00 - 12:00(0..1)), AV1451Wed10:30 - 12:30(0..1)), AV1451Wed11:00 - 13:00(0..1)), AV1451Wed11:30 - 13:30(0..1)), AV1451Wed12:00 - 14:00(0..1)), AV1451Wed12:30 - 14:30(0..1)), AV1451Wed13:00 - 15:00(0..1)), AV1451Wed13:30 - 15:30(0..1)), AV1451Wed14:00 - 16:00(0..1)), AV1451Wed14:30 - 16:30(0..1)), AV1451Wed15:00 - 17:00(0..1)), AV1451Wed15:30 - 17:30(0..1)), AV1451Wed16:00 - 18:00(0..1)), AV1451Thurs08:00 - 10:00(0..1)), AV1451Thurs08:30 - 10:30(0..1)), AV1451Thurs09:00 - 11:00(0..1)), AV1451Thurs09:30 - 11:30(0..1)), AV1451Thurs10:00 - 12:00(0..1)), AV1451Thurs10:30 - 12:30(0..1)), AV1451Thurs11:00 - 13:00(0..1)), AV1451Thurs11:30 - 13:30(0..1)), AV1451Thurs12:00 - 14:00(0..1)), AV1451Thurs12:30 - 14:30(0..1)), AV1451Thurs13:00 - 15:00(0..1)), AV1451Thurs13:30 - 15:30(0..1)), AV1451Thurs14:00 - 16:00(0..1)), AV1451Thurs14:30 - 16:30(0..1)), AV1451Thurs15:00 - 17:00(0..1)), AV1451Thurs15:30 - 17:30(0..1)), AV1451Thurs16:00 - 18:00(0..1)), AV1451Fri08:00 - 10:00(0..1)), AV1451Fri08:30 - 10:30(0..1)), AV1451Fri09:00 - 11:00(0..1)), AV1451Fri09:30 - 11:30(0..1)), AV1451Fri10:00 - 12:00(0..1)), AV1451Fri10:30 - 12:30(0..1)), AV1451Fri11:00 - 13:00(0..1)), AV1451Fri11:30 - 13:30(0..1)), AV1451Fri12:00 - 14:00(0..1)), AV1451Fri12:30 - 14:30(0..1)), AV1451Fri13:00 - 15:00(0..1)), AV1451Fri13:30 - 15:30(0..1)), AV1451Fri14:00 - 16:00(0..1)), AV1451Fri14:30 - 16:30(0..1)), AV1451Fri15:00 - 17:00(0..1)), AV1451Fri15:30 - 17:30(0..1)), AV1451Fri16:00 - 18:00(0..1)), MK6240Mon08:00 - 10:00(0..1)), MK6240Mon08:30 - 10:30(0..1)), MK6240Mon09:00 - 11:00(0..1)), MK6240Mon09:30 - 11:30(0..1)), MK6240Mon10:00 - 12:00(0..1)), MK6240Mon10:30 - 12:30(0..1)), MK6240Mon11:00 - 13:00(0..1)), MK6240Mon11:30 - 13:30(0..1)), MK6240Mon12:00 - 14:00(0..1)), MK6240Mon12:30 - 14:30(0..1)), MK6240Mon13:00 - 15:00(0..1)), MK6240Mon13:30 - 15:30(0..1)), MK6240Mon14:00 - 16:00(0..1)), MK6240Mon14:30 - 16:30(0..1)), MK6240Mon15:00 - 17:00(0..1)), MK6240Mon15:30 - 17:30(0..1)), MK6240Mon16:00 - 18:00(0..1)), MK6240Tues08:00 - 10:00(0..1)), MK6240Tues08:30 - 10:30(0..1)), MK6240Tues09:00 - 11:00(0..1)), MK6240Tues09:30 - 11:30(0..1)), MK6240Tues10:00 - 12:00(0..1)), MK6240Tues10:30 - 12:30(0..1)), MK6240Tues11:00 - 13:00(0..1)), MK6240Tues11:30 - 13:30(0..1)), MK6240Tues12:00 - 14:00(0..1)), MK6240Tues12:30 - 14:30(0..1)), MK6240Tues13:00 - 15:00(0..1)), MK6240Tues13:30 - 15:30(0..1)), MK6240Tues14:00 - 16:00(0..1)), MK6240Tues14:30 - 16:30(0..1)), MK6240Tues15:00 - 17:00(0..1)), MK6240Tues15:30 - 17:30(0..1)), MK6240Tues16:00 - 18:00(0..1)), MK6240Wed08:00 - 10:00(0..1)), MK6240Wed08:30 - 10:30(0..1)), MK6240Wed09:00 - 11:00(0..1)), MK6240Wed09:30 - 11:30(0..1)), MK6240Wed10:00 - 12:00(0..1)), MK6240Wed10:30 - 12:30(0..1)), MK6240Wed11:00 - 13:00(0..1)), MK6240Wed11:30 - 13:30(0..1)), MK6240Wed12:00 - 14:00(0..1)), MK6240Wed12:30 - 14:30(0..1)), MK6240Wed13:00 - 15:00(0..1)), MK6240Wed13:30 - 15:30(0..1)), MK6240Wed14:00 - 16:00(0..1)), MK6240Wed14:30 - 16:30(0..1)), MK6240Wed15:00 - 17:00(0..1)), MK6240Wed15:30 - 17:30(0..1)), MK6240Wed16:00 - 18:00(0..1)), MK6240Thurs08:00 - 10:00(0..1)), MK6240Thurs08:30 - 10:30(0..1)), MK6240Thurs09:00 - 11:00(0..1)), MK6240Thurs09:30 - 11:30(0..1)), MK6240Thurs10:00 - 12:00(0..1)), MK6240Thurs10:30 - 12:30(0..1)), MK6240Thurs11:00 - 13:00(0..1)), MK6240Thurs11:30 - 13:30(0..1)), MK6240Thurs12:00 - 14:00(0..1)), MK6240Thurs12:30 - 14:30(0..1)), MK6240Thurs13:00 - 15:00(0..1)), MK6240Thurs13:30 - 15:30(0..1)), MK6240Thurs14:00 - 16:00(0..1)), MK6240Thurs14:30 - 16:30(0..1)), MK6240Thurs15:00 - 17:00(0..1)), MK6240Thurs15:30 - 17:30(0..1)), MK6240Thurs16:00 - 18:00(0..1)), MK6240Fri08:00 - 10:00(0..1)), MK6240Fri08:30 - 10:30(0..1)), MK6240Fri09:00 - 11:00(0..1)), MK6240Fri09:30 - 11:30(0..1)), MK6240Fri10:00 - 12:00(0..1)), MK6240Fri10:30 - 12:30(0..1)), MK6240Fri11:00 - 13:00(0..1)), MK6240Fri11:30 - 13:30(0..1)), MK6240Fri12:00 - 14:00(0..1)), MK6240Fri12:30 - 14:30(0..1)), MK6240Fri13:00 - 15:00(0..1)), MK6240Fri13:30 - 15:30(0..1)), MK6240Fri14:00 - 16:00(0..1)), MK6240Fri14:30 - 16:30(0..1)), MK6240Fri15:00 - 17:00(0..1)), MK6240Fri15:30 - 17:30(0..1)), MK6240Fri16:00 - 18:00(0..1)), UCB-JMon08:00 - 10:00(0..1)), UCB-JMon08:30 - 10:30(0..1)), UCB-JMon09:00 - 11:00(0..1)), UCB-JMon09:30 - 11:30(0..1)), UCB-JMon10:00 - 12:00(0..1)), UCB-JMon10:30 - 12:30(0..1)), UCB-JMon11:00 - 13:00(0..1)), UCB-JMon11:30 - 13:30(0..1)), UCB-JMon12:00 - 14:00(0..1)), UCB-JMon12:30 - 14:30(0..1)), UCB-JMon13:00 - 15:00(0..1)), UCB-JMon13:30 - 15:30(0..1)), UCB-JMon14:00 - 16:00(0..1)), UCB-JMon14:30 - 16:30(0..1)), UCB-JMon15:00 - 17:00(0..1)), UCB-JMon15:30 - 17:30(0..1)), UCB-JMon16:00 - 18:00(0..1)), UCB-JTues08:00 - 10:00(0..1)), UCB-JTues08:30 - 10:30(0..1)), UCB-JTues09:00 - 11:00(0..1)), UCB-JTues09:30 - 11:30(0..1)), UCB-JTues10:00 - 12:00(0..1)), UCB-JTues10:30 - 12:30(0..1)), UCB-JTues11:00 - 13:00(0..1)), UCB-JTues11:30 - 13:30(0..1)), UCB-JTues12:00 - 14:00(0..1)), UCB-JTues12:30 - 14:30(0..1)), UCB-JTues13:00 - 15:00(0..1)), UCB-JTues13:30 - 15:30(0..1)), UCB-JTues14:00 - 16:00(0..1)), UCB-JTues14:30 - 16:30(0..1)), UCB-JTues15:00 - 17:00(0..1)), UCB-JTues15:30 - 17:30(0..1)), UCB-JTues16:00 - 18:00(0..1)), UCB-JWed08:00 - 10:00(0..1)), UCB-JWed08:30 - 10:30(0..1)), UCB-JWed09:00 - 11:00(0..1)), UCB-JWed09:30 - 11:30(0..1)), UCB-JWed10:00 - 12:00(0..1)), UCB-JWed10:30 - 12:30(0..1)), UCB-JWed11:00 - 13:00(0..1)), UCB-JWed11:30 - 13:30(0..1)), UCB-JWed12:00 - 14:00(0..1)), UCB-JWed12:30 - 14:30(0..1)), UCB-JWed13:00 - 15:00(0..1)), UCB-JWed13:30 - 15:30(0..1)), UCB-JWed14:00 - 16:00(0..1)), UCB-JWed14:30 - 16:30(0..1)), UCB-JWed15:00 - 17:00(0..1)), UCB-JWed15:30 - 17:30(0..1)), UCB-JWed16:00 - 18:00(0..1)), UCB-JThurs08:00 - 10:00(0..1)), UCB-JThurs08:30 - 10:30(0..1)), UCB-JThurs09:00 - 11:00(0..1)), UCB-JThurs09:30 - 11:30(0..1)), UCB-JThurs10:00 - 12:00(0..1)), UCB-JThurs10:30 - 12:30(0..1)), UCB-JThurs11:00 - 13:00(0..1)), UCB-JThurs11:30 - 13:30(0..1)), UCB-JThurs12:00 - 14:00(0..1)), UCB-JThurs12:30 - 14:30(0..1)), UCB-JThurs13:00 - 15:00(0..1)), UCB-JThurs13:30 - 15:30(0..1)), UCB-JThurs14:00 - 16:00(0..1)), UCB-JThurs14:30 - 16:30(0..1)), UCB-JThurs15:00 - 17:00(0..1)), UCB-JThurs15:30 - 17:30(0..1)), UCB-JThurs16:00 - 18:00(0..1)), UCB-JFri08:00 - 10:00(0..1)), UCB-JFri08:30 - 10:30(0..1)), UCB-JFri09:00 - 11:00(0..1)), UCB-JFri09:30 - 11:30(0..1)), UCB-JFri10:00 - 12:00(0..1)), UCB-JFri10:30 - 12:30(0..1)), UCB-JFri11:00 - 13:00(0..1)), UCB-JFri11:30 - 13:30(0..1)), UCB-JFri12:00 - 14:00(0..1)), UCB-JFri12:30 - 14:30(0..1)), UCB-JFri13:00 - 15:00(0..1)), UCB-JFri13:30 - 15:30(0..1)), UCB-JFri14:00 - 16:00(0..1)), UCB-JFri14:30 - 16:30(0..1)), UCB-JFri15:00 - 17:00(0..1)), UCB-JFri15:30 - 17:30(0..1)), UCB-JFri16:00 - 18:00(0..1))"
      ]
     },
     "execution_count": 101,
     "metadata": {},
     "output_type": "execute_result"
    }
   ],
   "source": [
    "sum(third[t][d][s] * x[(t, d, s)] for t in tracers for d in days for s in sessions)"
   ]
  },
  {
   "cell_type": "code",
   "execution_count": 119,
   "id": "71d287f4",
   "metadata": {},
   "outputs": [
    {
     "data": {
      "text/plain": [
       "Sum(Sum(Sum(Sum(Sum(Sum(Sum(Sum(Sum(Sum(Sum(Sum(Sum(Sum(Sum(Sum(Sum(Sum(Sum(Sum(Sum(Sum(Sum(Sum(Sum(Sum(Sum(Sum(Sum(Sum(Sum(Sum(Sum(Sum(Sum(Sum(Sum(Sum(Sum(Sum(Sum(Sum(Sum(Sum(Sum(Sum(Sum(Sum(Sum(Sum(Sum(Sum(Sum(Sum(PIBMon08:00 - 10:00(0..1), MK6240Mon10:30 - 12:30(0..1)), MK6240Mon11:00 - 13:00(0..1)), MK6240Mon11:30 - 13:30(0..1)), MK6240Mon12:00 - 14:00(0..1)), MK6240Mon12:30 - 14:30(0..1)), MK6240Mon13:00 - 15:00(0..1)), MK6240Mon13:30 - 15:30(0..1)), MK6240Mon14:00 - 16:00(0..1)), MK6240Mon14:30 - 16:30(0..1)), MK6240Mon15:00 - 17:00(0..1)), MK6240Mon15:30 - 17:30(0..1)), MK6240Mon16:00 - 18:00(0..1)), PIBMon08:30 - 10:30(0..1)), MK6240Mon11:00 - 13:00(0..1)), MK6240Mon11:30 - 13:30(0..1)), MK6240Mon12:00 - 14:00(0..1)), MK6240Mon12:30 - 14:30(0..1)), MK6240Mon13:00 - 15:00(0..1)), MK6240Mon13:30 - 15:30(0..1)), MK6240Mon14:00 - 16:00(0..1)), MK6240Mon14:30 - 16:30(0..1)), MK6240Mon15:00 - 17:00(0..1)), MK6240Mon15:30 - 17:30(0..1)), MK6240Mon16:00 - 18:00(0..1)), PIBMon09:00 - 11:00(0..1)), MK6240Mon11:30 - 13:30(0..1)), MK6240Mon12:00 - 14:00(0..1)), MK6240Mon12:30 - 14:30(0..1)), MK6240Mon13:00 - 15:00(0..1)), MK6240Mon13:30 - 15:30(0..1)), MK6240Mon14:00 - 16:00(0..1)), MK6240Mon14:30 - 16:30(0..1)), MK6240Mon15:00 - 17:00(0..1)), MK6240Mon15:30 - 17:30(0..1)), MK6240Mon16:00 - 18:00(0..1)), PIBMon09:30 - 11:30(0..1)), MK6240Mon12:00 - 14:00(0..1)), MK6240Mon12:30 - 14:30(0..1)), MK6240Mon13:00 - 15:00(0..1)), MK6240Mon13:30 - 15:30(0..1)), MK6240Mon14:00 - 16:00(0..1)), MK6240Mon14:30 - 16:30(0..1)), MK6240Mon15:00 - 17:00(0..1)), MK6240Mon15:30 - 17:30(0..1)), MK6240Mon16:00 - 18:00(0..1)), PIBMon10:00 - 12:00(0..1)), MK6240Mon12:30 - 14:30(0..1)), MK6240Mon13:00 - 15:00(0..1)), MK6240Mon13:30 - 15:30(0..1)), MK6240Mon14:00 - 16:00(0..1)), MK6240Mon14:30 - 16:30(0..1)), MK6240Mon15:00 - 17:00(0..1)), MK6240Mon15:30 - 17:30(0..1)), MK6240Mon16:00 - 18:00(0..1))"
      ]
     },
     "execution_count": 119,
     "metadata": {},
     "output_type": "execute_result"
    }
   ],
   "source": [
    "sum(pib_mk_same_day[d][s] for d in days for s in range(len(pib_mk_same_day[d])))"
   ]
  },
  {
   "cell_type": "code",
   "execution_count": 156,
   "id": "e9c794f9",
   "metadata": {},
   "outputs": [],
   "source": [
    "# pylint: disable=g-complex-comprehension\n",
    "import math\n",
    "model.Maximize(sum(third[t][d][s] * x[(t, d, s)] for t in tracers for d in days for s in sessions)+sum(2 * pib_mk_same_day[pib][s] for pib in range(len(pib_mk_same_day)) for s in range(len(pib_mk_same_day[pib]))))\n"
   ]
  },
  {
   "cell_type": "code",
   "execution_count": 157,
   "id": "208da48b",
   "metadata": {},
   "outputs": [
    {
     "name": "stdout",
     "output_type": "stream",
     "text": [
      "Solution:\n",
      "Day 0\n",
      "Nurse 0 works shift 0 (requested).\n",
      "Nurse 1 works shift 16 (requested).\n",
      "Nurse 2 works shift 8 (requested).\n",
      "Nurse 2 works shift 12 (requested).\n",
      "\n",
      "Day 1\n",
      "Nurse 0 works shift 0 (requested).\n",
      "Nurse 0 works shift 6 (requested).\n",
      "Nurse 2 works shift 11 (requested).\n",
      "Nurse 2 works shift 15 (requested).\n",
      "\n",
      "Day 2\n",
      "Nurse 0 works shift 0 (requested).\n",
      "Nurse 0 works shift 6 (requested).\n",
      "Nurse 2 works shift 11 (requested).\n",
      "Nurse 2 works shift 15 (requested).\n",
      "\n",
      "Day 3\n",
      "Nurse 2 works shift 11 (requested).\n",
      "Nurse 2 works shift 15 (requested).\n",
      "Nurse 3 works shift 5 (requested).\n",
      "\n",
      "Day 4\n",
      "Nurse 0 works shift 0 (requested).\n",
      "Nurse 0 works shift 6 (requested).\n",
      "Nurse 2 works shift 11 (requested).\n",
      "Nurse 2 works shift 15 (requested).\n",
      "\n"
     ]
    }
   ],
   "source": [
    "solver = cp_model.CpSolver()\n",
    "status = solver.Solve(model)\n",
    "\n",
    "\n",
    "if status == cp_model.OPTIMAL:\n",
    "    print('Solution:')\n",
    "    results = []\n",
    "    for d in days:\n",
    "        print('Day', d)\n",
    "        day = [\"Day{}\".format(d)]\n",
    "        for t in tracers:\n",
    "            for s in sessions:\n",
    "                if solver.Value(x[(t, d, s)]) == 1:\n",
    "                    day.append([d,t,s,1])\n",
    "                    if third[t][d][s] == 1:\n",
    "                        print('Nurse', t, 'works shift', s, '(requested).')\n",
    "                    else:\n",
    "                        print('Nurse', t, 'works shift', s,\n",
    "                              '(not requested).')\n",
    "        print()\n",
    "        results.append(day)\n",
    "    pd.DataFrame(results).to_csv(\"schedule_maximize_solution.csv\",index=False)\n",
    "        \n",
    "#    print(f'Number of shift requests met = {solver.ObjectiveValue()}',\n",
    "#          f'(out of {num_nurses * min_shifts_per_nurse})')\n",
    "else:\n",
    "    print('No optimal solution found !')"
   ]
  },
  {
   "cell_type": "code",
   "execution_count": 158,
   "id": "3481f34f",
   "metadata": {},
   "outputs": [
    {
     "data": {
      "application/vnd.plotly.v1+json": {
       "config": {
        "plotlyServerURL": "https://plot.ly"
       },
       "data": [
        {
         "alignmentgroup": "True",
         "base": [
          0,
          0,
          0,
          0,
          0,
          0,
          0,
          0,
          0,
          0,
          0,
          0,
          0,
          0,
          0,
          0,
          0
         ],
         "hovertemplate": "color=1<br>Start=%{base}<br>Finish=%{x}<br>Session=%{y}<br>Tracer=%{text}<extra></extra>",
         "legendgroup": "1",
         "marker": {
          "color": "#636efa"
         },
         "name": "1",
         "offsetgroup": "1",
         "orientation": "h",
         "showlegend": true,
         "text": [
          "NA",
          "NA",
          "NA",
          "NA",
          "NA",
          "NA",
          "NA",
          "NA",
          "NA",
          "NA",
          "NA",
          "NA",
          "NA",
          "NA",
          "NA",
          "NA",
          "NA"
         ],
         "textposition": "auto",
         "type": "bar",
         "x": [
          5,
          5,
          5,
          5,
          5,
          5,
          5,
          5,
          5,
          5,
          5,
          5,
          5,
          5,
          5,
          5,
          5
         ],
         "xaxis": "x",
         "y": [
          "08:00 - 10:00",
          "08:30 - 10:30",
          "09:00 - 11:00",
          "09:30 - 11:30",
          "10:00 - 12:00",
          "10:30 - 12:30",
          "11:00 - 13:00",
          "11:30 - 13:30",
          "12:00 - 14:00",
          "12:30 - 14:30",
          "13:00 - 15:00",
          "13:30 - 15:30",
          "14:00 - 16:00",
          "14:30 - 16:30",
          "15:00 - 17:00",
          "15:30 - 17:30",
          "16:00 - 18:00"
         ],
         "yaxis": "y"
        },
        {
         "alignmentgroup": "True",
         "base": [
          0,
          1,
          1,
          2,
          2,
          4,
          4
         ],
         "hovertemplate": "color=2<br>Start=%{base}<br>Finish=%{x}<br>Session=%{y}<br>Tracer=%{text}<extra></extra>",
         "legendgroup": "2",
         "marker": {
          "color": "#EF553B"
         },
         "name": "2",
         "offsetgroup": "2",
         "orientation": "h",
         "showlegend": true,
         "text": [
          "PIB",
          "PIB",
          "PIB",
          "PIB",
          "PIB",
          "PIB",
          "PIB"
         ],
         "textposition": "auto",
         "type": "bar",
         "x": [
          1,
          1,
          1,
          1,
          1,
          1,
          1
         ],
         "xaxis": "x",
         "y": [
          "08:00 - 10:00",
          "08:00 - 10:00",
          "11:00 - 13:00",
          "08:00 - 10:00",
          "11:00 - 13:00",
          "08:00 - 10:00",
          "11:00 - 13:00"
         ],
         "yaxis": "y"
        },
        {
         "alignmentgroup": "True",
         "base": [
          0
         ],
         "hovertemplate": "color=3<br>Start=%{base}<br>Finish=%{x}<br>Session=%{y}<br>Tracer=%{text}<extra></extra>",
         "legendgroup": "3",
         "marker": {
          "color": "#00cc96"
         },
         "name": "3",
         "offsetgroup": "3",
         "orientation": "h",
         "showlegend": true,
         "text": [
          "AV1451"
         ],
         "textposition": "auto",
         "type": "bar",
         "x": [
          1
         ],
         "xaxis": "x",
         "y": [
          "16:00 - 18:00"
         ],
         "yaxis": "y"
        },
        {
         "alignmentgroup": "True",
         "base": [
          0,
          0,
          1,
          1,
          2,
          2,
          3,
          3,
          4,
          4
         ],
         "hovertemplate": "color=4<br>Start=%{base}<br>Finish=%{x}<br>Session=%{y}<br>Tracer=%{text}<extra></extra>",
         "legendgroup": "4",
         "marker": {
          "color": "#ab63fa"
         },
         "name": "4",
         "offsetgroup": "4",
         "orientation": "h",
         "showlegend": true,
         "text": [
          "MK6240",
          "MK6240",
          "MK6240",
          "MK6240",
          "MK6240",
          "MK6240",
          "MK6240",
          "MK6240",
          "MK6240",
          "MK6240"
         ],
         "textposition": "auto",
         "type": "bar",
         "x": [
          1,
          1,
          1,
          1,
          1,
          1,
          1,
          1,
          1,
          1
         ],
         "xaxis": "x",
         "y": [
          "12:00 - 14:00",
          "14:00 - 16:00",
          "13:30 - 15:30",
          "15:30 - 17:30",
          "13:30 - 15:30",
          "15:30 - 17:30",
          "13:30 - 15:30",
          "15:30 - 17:30",
          "13:30 - 15:30",
          "15:30 - 17:30"
         ],
         "yaxis": "y"
        },
        {
         "alignmentgroup": "True",
         "base": [
          3
         ],
         "hovertemplate": "color=5<br>Start=%{base}<br>Finish=%{x}<br>Session=%{y}<br>Tracer=%{text}<extra></extra>",
         "legendgroup": "5",
         "marker": {
          "color": "#FFA15A"
         },
         "name": "5",
         "offsetgroup": "5",
         "orientation": "h",
         "showlegend": true,
         "text": [
          "UCB-J"
         ],
         "textposition": "auto",
         "type": "bar",
         "x": [
          1
         ],
         "xaxis": "x",
         "y": [
          "10:30 - 12:30"
         ],
         "yaxis": "y"
        }
       ],
       "layout": {
        "barmode": "overlay",
        "legend": {
         "title": {
          "text": "color"
         },
         "tracegroupgap": 0
        },
        "margin": {
         "t": 60
        },
        "template": {
         "data": {
          "bar": [
           {
            "error_x": {
             "color": "#2a3f5f"
            },
            "error_y": {
             "color": "#2a3f5f"
            },
            "marker": {
             "line": {
              "color": "#E5ECF6",
              "width": 0.5
             },
             "pattern": {
              "fillmode": "overlay",
              "size": 10,
              "solidity": 0.2
             }
            },
            "type": "bar"
           }
          ],
          "barpolar": [
           {
            "marker": {
             "line": {
              "color": "#E5ECF6",
              "width": 0.5
             },
             "pattern": {
              "fillmode": "overlay",
              "size": 10,
              "solidity": 0.2
             }
            },
            "type": "barpolar"
           }
          ],
          "carpet": [
           {
            "aaxis": {
             "endlinecolor": "#2a3f5f",
             "gridcolor": "white",
             "linecolor": "white",
             "minorgridcolor": "white",
             "startlinecolor": "#2a3f5f"
            },
            "baxis": {
             "endlinecolor": "#2a3f5f",
             "gridcolor": "white",
             "linecolor": "white",
             "minorgridcolor": "white",
             "startlinecolor": "#2a3f5f"
            },
            "type": "carpet"
           }
          ],
          "choropleth": [
           {
            "colorbar": {
             "outlinewidth": 0,
             "ticks": ""
            },
            "type": "choropleth"
           }
          ],
          "contour": [
           {
            "colorbar": {
             "outlinewidth": 0,
             "ticks": ""
            },
            "colorscale": [
             [
              0,
              "#0d0887"
             ],
             [
              0.1111111111111111,
              "#46039f"
             ],
             [
              0.2222222222222222,
              "#7201a8"
             ],
             [
              0.3333333333333333,
              "#9c179e"
             ],
             [
              0.4444444444444444,
              "#bd3786"
             ],
             [
              0.5555555555555556,
              "#d8576b"
             ],
             [
              0.6666666666666666,
              "#ed7953"
             ],
             [
              0.7777777777777778,
              "#fb9f3a"
             ],
             [
              0.8888888888888888,
              "#fdca26"
             ],
             [
              1,
              "#f0f921"
             ]
            ],
            "type": "contour"
           }
          ],
          "contourcarpet": [
           {
            "colorbar": {
             "outlinewidth": 0,
             "ticks": ""
            },
            "type": "contourcarpet"
           }
          ],
          "heatmap": [
           {
            "colorbar": {
             "outlinewidth": 0,
             "ticks": ""
            },
            "colorscale": [
             [
              0,
              "#0d0887"
             ],
             [
              0.1111111111111111,
              "#46039f"
             ],
             [
              0.2222222222222222,
              "#7201a8"
             ],
             [
              0.3333333333333333,
              "#9c179e"
             ],
             [
              0.4444444444444444,
              "#bd3786"
             ],
             [
              0.5555555555555556,
              "#d8576b"
             ],
             [
              0.6666666666666666,
              "#ed7953"
             ],
             [
              0.7777777777777778,
              "#fb9f3a"
             ],
             [
              0.8888888888888888,
              "#fdca26"
             ],
             [
              1,
              "#f0f921"
             ]
            ],
            "type": "heatmap"
           }
          ],
          "heatmapgl": [
           {
            "colorbar": {
             "outlinewidth": 0,
             "ticks": ""
            },
            "colorscale": [
             [
              0,
              "#0d0887"
             ],
             [
              0.1111111111111111,
              "#46039f"
             ],
             [
              0.2222222222222222,
              "#7201a8"
             ],
             [
              0.3333333333333333,
              "#9c179e"
             ],
             [
              0.4444444444444444,
              "#bd3786"
             ],
             [
              0.5555555555555556,
              "#d8576b"
             ],
             [
              0.6666666666666666,
              "#ed7953"
             ],
             [
              0.7777777777777778,
              "#fb9f3a"
             ],
             [
              0.8888888888888888,
              "#fdca26"
             ],
             [
              1,
              "#f0f921"
             ]
            ],
            "type": "heatmapgl"
           }
          ],
          "histogram": [
           {
            "marker": {
             "pattern": {
              "fillmode": "overlay",
              "size": 10,
              "solidity": 0.2
             }
            },
            "type": "histogram"
           }
          ],
          "histogram2d": [
           {
            "colorbar": {
             "outlinewidth": 0,
             "ticks": ""
            },
            "colorscale": [
             [
              0,
              "#0d0887"
             ],
             [
              0.1111111111111111,
              "#46039f"
             ],
             [
              0.2222222222222222,
              "#7201a8"
             ],
             [
              0.3333333333333333,
              "#9c179e"
             ],
             [
              0.4444444444444444,
              "#bd3786"
             ],
             [
              0.5555555555555556,
              "#d8576b"
             ],
             [
              0.6666666666666666,
              "#ed7953"
             ],
             [
              0.7777777777777778,
              "#fb9f3a"
             ],
             [
              0.8888888888888888,
              "#fdca26"
             ],
             [
              1,
              "#f0f921"
             ]
            ],
            "type": "histogram2d"
           }
          ],
          "histogram2dcontour": [
           {
            "colorbar": {
             "outlinewidth": 0,
             "ticks": ""
            },
            "colorscale": [
             [
              0,
              "#0d0887"
             ],
             [
              0.1111111111111111,
              "#46039f"
             ],
             [
              0.2222222222222222,
              "#7201a8"
             ],
             [
              0.3333333333333333,
              "#9c179e"
             ],
             [
              0.4444444444444444,
              "#bd3786"
             ],
             [
              0.5555555555555556,
              "#d8576b"
             ],
             [
              0.6666666666666666,
              "#ed7953"
             ],
             [
              0.7777777777777778,
              "#fb9f3a"
             ],
             [
              0.8888888888888888,
              "#fdca26"
             ],
             [
              1,
              "#f0f921"
             ]
            ],
            "type": "histogram2dcontour"
           }
          ],
          "mesh3d": [
           {
            "colorbar": {
             "outlinewidth": 0,
             "ticks": ""
            },
            "type": "mesh3d"
           }
          ],
          "parcoords": [
           {
            "line": {
             "colorbar": {
              "outlinewidth": 0,
              "ticks": ""
             }
            },
            "type": "parcoords"
           }
          ],
          "pie": [
           {
            "automargin": true,
            "type": "pie"
           }
          ],
          "scatter": [
           {
            "marker": {
             "colorbar": {
              "outlinewidth": 0,
              "ticks": ""
             }
            },
            "type": "scatter"
           }
          ],
          "scatter3d": [
           {
            "line": {
             "colorbar": {
              "outlinewidth": 0,
              "ticks": ""
             }
            },
            "marker": {
             "colorbar": {
              "outlinewidth": 0,
              "ticks": ""
             }
            },
            "type": "scatter3d"
           }
          ],
          "scattercarpet": [
           {
            "marker": {
             "colorbar": {
              "outlinewidth": 0,
              "ticks": ""
             }
            },
            "type": "scattercarpet"
           }
          ],
          "scattergeo": [
           {
            "marker": {
             "colorbar": {
              "outlinewidth": 0,
              "ticks": ""
             }
            },
            "type": "scattergeo"
           }
          ],
          "scattergl": [
           {
            "marker": {
             "colorbar": {
              "outlinewidth": 0,
              "ticks": ""
             }
            },
            "type": "scattergl"
           }
          ],
          "scattermapbox": [
           {
            "marker": {
             "colorbar": {
              "outlinewidth": 0,
              "ticks": ""
             }
            },
            "type": "scattermapbox"
           }
          ],
          "scatterpolar": [
           {
            "marker": {
             "colorbar": {
              "outlinewidth": 0,
              "ticks": ""
             }
            },
            "type": "scatterpolar"
           }
          ],
          "scatterpolargl": [
           {
            "marker": {
             "colorbar": {
              "outlinewidth": 0,
              "ticks": ""
             }
            },
            "type": "scatterpolargl"
           }
          ],
          "scatterternary": [
           {
            "marker": {
             "colorbar": {
              "outlinewidth": 0,
              "ticks": ""
             }
            },
            "type": "scatterternary"
           }
          ],
          "surface": [
           {
            "colorbar": {
             "outlinewidth": 0,
             "ticks": ""
            },
            "colorscale": [
             [
              0,
              "#0d0887"
             ],
             [
              0.1111111111111111,
              "#46039f"
             ],
             [
              0.2222222222222222,
              "#7201a8"
             ],
             [
              0.3333333333333333,
              "#9c179e"
             ],
             [
              0.4444444444444444,
              "#bd3786"
             ],
             [
              0.5555555555555556,
              "#d8576b"
             ],
             [
              0.6666666666666666,
              "#ed7953"
             ],
             [
              0.7777777777777778,
              "#fb9f3a"
             ],
             [
              0.8888888888888888,
              "#fdca26"
             ],
             [
              1,
              "#f0f921"
             ]
            ],
            "type": "surface"
           }
          ],
          "table": [
           {
            "cells": {
             "fill": {
              "color": "#EBF0F8"
             },
             "line": {
              "color": "white"
             }
            },
            "header": {
             "fill": {
              "color": "#C8D4E3"
             },
             "line": {
              "color": "white"
             }
            },
            "type": "table"
           }
          ]
         },
         "layout": {
          "annotationdefaults": {
           "arrowcolor": "#2a3f5f",
           "arrowhead": 0,
           "arrowwidth": 1
          },
          "autotypenumbers": "strict",
          "coloraxis": {
           "colorbar": {
            "outlinewidth": 0,
            "ticks": ""
           }
          },
          "colorscale": {
           "diverging": [
            [
             0,
             "#8e0152"
            ],
            [
             0.1,
             "#c51b7d"
            ],
            [
             0.2,
             "#de77ae"
            ],
            [
             0.3,
             "#f1b6da"
            ],
            [
             0.4,
             "#fde0ef"
            ],
            [
             0.5,
             "#f7f7f7"
            ],
            [
             0.6,
             "#e6f5d0"
            ],
            [
             0.7,
             "#b8e186"
            ],
            [
             0.8,
             "#7fbc41"
            ],
            [
             0.9,
             "#4d9221"
            ],
            [
             1,
             "#276419"
            ]
           ],
           "sequential": [
            [
             0,
             "#0d0887"
            ],
            [
             0.1111111111111111,
             "#46039f"
            ],
            [
             0.2222222222222222,
             "#7201a8"
            ],
            [
             0.3333333333333333,
             "#9c179e"
            ],
            [
             0.4444444444444444,
             "#bd3786"
            ],
            [
             0.5555555555555556,
             "#d8576b"
            ],
            [
             0.6666666666666666,
             "#ed7953"
            ],
            [
             0.7777777777777778,
             "#fb9f3a"
            ],
            [
             0.8888888888888888,
             "#fdca26"
            ],
            [
             1,
             "#f0f921"
            ]
           ],
           "sequentialminus": [
            [
             0,
             "#0d0887"
            ],
            [
             0.1111111111111111,
             "#46039f"
            ],
            [
             0.2222222222222222,
             "#7201a8"
            ],
            [
             0.3333333333333333,
             "#9c179e"
            ],
            [
             0.4444444444444444,
             "#bd3786"
            ],
            [
             0.5555555555555556,
             "#d8576b"
            ],
            [
             0.6666666666666666,
             "#ed7953"
            ],
            [
             0.7777777777777778,
             "#fb9f3a"
            ],
            [
             0.8888888888888888,
             "#fdca26"
            ],
            [
             1,
             "#f0f921"
            ]
           ]
          },
          "colorway": [
           "#636efa",
           "#EF553B",
           "#00cc96",
           "#ab63fa",
           "#FFA15A",
           "#19d3f3",
           "#FF6692",
           "#B6E880",
           "#FF97FF",
           "#FECB52"
          ],
          "font": {
           "color": "#2a3f5f"
          },
          "geo": {
           "bgcolor": "white",
           "lakecolor": "white",
           "landcolor": "#E5ECF6",
           "showlakes": true,
           "showland": true,
           "subunitcolor": "white"
          },
          "hoverlabel": {
           "align": "left"
          },
          "hovermode": "closest",
          "mapbox": {
           "style": "light"
          },
          "paper_bgcolor": "white",
          "plot_bgcolor": "#E5ECF6",
          "polar": {
           "angularaxis": {
            "gridcolor": "white",
            "linecolor": "white",
            "ticks": ""
           },
           "bgcolor": "#E5ECF6",
           "radialaxis": {
            "gridcolor": "white",
            "linecolor": "white",
            "ticks": ""
           }
          },
          "scene": {
           "xaxis": {
            "backgroundcolor": "#E5ECF6",
            "gridcolor": "white",
            "gridwidth": 2,
            "linecolor": "white",
            "showbackground": true,
            "ticks": "",
            "zerolinecolor": "white"
           },
           "yaxis": {
            "backgroundcolor": "#E5ECF6",
            "gridcolor": "white",
            "gridwidth": 2,
            "linecolor": "white",
            "showbackground": true,
            "ticks": "",
            "zerolinecolor": "white"
           },
           "zaxis": {
            "backgroundcolor": "#E5ECF6",
            "gridcolor": "white",
            "gridwidth": 2,
            "linecolor": "white",
            "showbackground": true,
            "ticks": "",
            "zerolinecolor": "white"
           }
          },
          "shapedefaults": {
           "line": {
            "color": "#2a3f5f"
           }
          },
          "ternary": {
           "aaxis": {
            "gridcolor": "white",
            "linecolor": "white",
            "ticks": ""
           },
           "baxis": {
            "gridcolor": "white",
            "linecolor": "white",
            "ticks": ""
           },
           "bgcolor": "#E5ECF6",
           "caxis": {
            "gridcolor": "white",
            "linecolor": "white",
            "ticks": ""
           }
          },
          "title": {
           "x": 0.05
          },
          "xaxis": {
           "automargin": true,
           "gridcolor": "white",
           "linecolor": "white",
           "ticks": "",
           "title": {
            "standoff": 15
           },
           "zerolinecolor": "white",
           "zerolinewidth": 2
          },
          "yaxis": {
           "automargin": true,
           "gridcolor": "white",
           "linecolor": "white",
           "ticks": "",
           "title": {
            "standoff": 15
           },
           "zerolinecolor": "white",
           "zerolinewidth": 2
          }
         }
        },
        "xaxis": {
         "anchor": "y",
         "domain": [
          0,
          1
         ],
         "type": "linear"
        },
        "yaxis": {
         "anchor": "x",
         "autorange": "reversed",
         "domain": [
          0,
          1
         ],
         "title": {
          "text": "Session"
         }
        }
       }
      },
      "text/html": [
       "<div>                            <div id=\"4598faf7-fdce-47e8-bb3a-3ce7be7df825\" class=\"plotly-graph-div\" style=\"height:525px; width:100%;\"></div>            <script type=\"text/javascript\">                require([\"plotly\"], function(Plotly) {                    window.PLOTLYENV=window.PLOTLYENV || {};                                    if (document.getElementById(\"4598faf7-fdce-47e8-bb3a-3ce7be7df825\")) {                    Plotly.newPlot(                        \"4598faf7-fdce-47e8-bb3a-3ce7be7df825\",                        [{\"alignmentgroup\":\"True\",\"base\":[0,0,0,0,0,0,0,0,0,0,0,0,0,0,0,0,0],\"hovertemplate\":\"color=1<br>Start=%{base}<br>Finish=%{x}<br>Session=%{y}<br>Tracer=%{text}<extra></extra>\",\"legendgroup\":\"1\",\"marker\":{\"color\":\"#636efa\"},\"name\":\"1\",\"offsetgroup\":\"1\",\"orientation\":\"h\",\"showlegend\":true,\"text\":[\"NA\",\"NA\",\"NA\",\"NA\",\"NA\",\"NA\",\"NA\",\"NA\",\"NA\",\"NA\",\"NA\",\"NA\",\"NA\",\"NA\",\"NA\",\"NA\",\"NA\"],\"textposition\":\"auto\",\"type\":\"bar\",\"x\":[5,5,5,5,5,5,5,5,5,5,5,5,5,5,5,5,5],\"xaxis\":\"x\",\"y\":[\"08:00 - 10:00\",\"08:30 - 10:30\",\"09:00 - 11:00\",\"09:30 - 11:30\",\"10:00 - 12:00\",\"10:30 - 12:30\",\"11:00 - 13:00\",\"11:30 - 13:30\",\"12:00 - 14:00\",\"12:30 - 14:30\",\"13:00 - 15:00\",\"13:30 - 15:30\",\"14:00 - 16:00\",\"14:30 - 16:30\",\"15:00 - 17:00\",\"15:30 - 17:30\",\"16:00 - 18:00\"],\"yaxis\":\"y\"},{\"alignmentgroup\":\"True\",\"base\":[0,1,1,2,2,4,4],\"hovertemplate\":\"color=2<br>Start=%{base}<br>Finish=%{x}<br>Session=%{y}<br>Tracer=%{text}<extra></extra>\",\"legendgroup\":\"2\",\"marker\":{\"color\":\"#EF553B\"},\"name\":\"2\",\"offsetgroup\":\"2\",\"orientation\":\"h\",\"showlegend\":true,\"text\":[\"PIB\",\"PIB\",\"PIB\",\"PIB\",\"PIB\",\"PIB\",\"PIB\"],\"textposition\":\"auto\",\"type\":\"bar\",\"x\":[1,1,1,1,1,1,1],\"xaxis\":\"x\",\"y\":[\"08:00 - 10:00\",\"08:00 - 10:00\",\"11:00 - 13:00\",\"08:00 - 10:00\",\"11:00 - 13:00\",\"08:00 - 10:00\",\"11:00 - 13:00\"],\"yaxis\":\"y\"},{\"alignmentgroup\":\"True\",\"base\":[0],\"hovertemplate\":\"color=3<br>Start=%{base}<br>Finish=%{x}<br>Session=%{y}<br>Tracer=%{text}<extra></extra>\",\"legendgroup\":\"3\",\"marker\":{\"color\":\"#00cc96\"},\"name\":\"3\",\"offsetgroup\":\"3\",\"orientation\":\"h\",\"showlegend\":true,\"text\":[\"AV1451\"],\"textposition\":\"auto\",\"type\":\"bar\",\"x\":[1],\"xaxis\":\"x\",\"y\":[\"16:00 - 18:00\"],\"yaxis\":\"y\"},{\"alignmentgroup\":\"True\",\"base\":[0,0,1,1,2,2,3,3,4,4],\"hovertemplate\":\"color=4<br>Start=%{base}<br>Finish=%{x}<br>Session=%{y}<br>Tracer=%{text}<extra></extra>\",\"legendgroup\":\"4\",\"marker\":{\"color\":\"#ab63fa\"},\"name\":\"4\",\"offsetgroup\":\"4\",\"orientation\":\"h\",\"showlegend\":true,\"text\":[\"MK6240\",\"MK6240\",\"MK6240\",\"MK6240\",\"MK6240\",\"MK6240\",\"MK6240\",\"MK6240\",\"MK6240\",\"MK6240\"],\"textposition\":\"auto\",\"type\":\"bar\",\"x\":[1,1,1,1,1,1,1,1,1,1],\"xaxis\":\"x\",\"y\":[\"12:00 - 14:00\",\"14:00 - 16:00\",\"13:30 - 15:30\",\"15:30 - 17:30\",\"13:30 - 15:30\",\"15:30 - 17:30\",\"13:30 - 15:30\",\"15:30 - 17:30\",\"13:30 - 15:30\",\"15:30 - 17:30\"],\"yaxis\":\"y\"},{\"alignmentgroup\":\"True\",\"base\":[3],\"hovertemplate\":\"color=5<br>Start=%{base}<br>Finish=%{x}<br>Session=%{y}<br>Tracer=%{text}<extra></extra>\",\"legendgroup\":\"5\",\"marker\":{\"color\":\"#FFA15A\"},\"name\":\"5\",\"offsetgroup\":\"5\",\"orientation\":\"h\",\"showlegend\":true,\"text\":[\"UCB-J\"],\"textposition\":\"auto\",\"type\":\"bar\",\"x\":[1],\"xaxis\":\"x\",\"y\":[\"10:30 - 12:30\"],\"yaxis\":\"y\"}],                        {\"barmode\":\"overlay\",\"legend\":{\"title\":{\"text\":\"color\"},\"tracegroupgap\":0},\"margin\":{\"t\":60},\"template\":{\"data\":{\"bar\":[{\"error_x\":{\"color\":\"#2a3f5f\"},\"error_y\":{\"color\":\"#2a3f5f\"},\"marker\":{\"line\":{\"color\":\"#E5ECF6\",\"width\":0.5},\"pattern\":{\"fillmode\":\"overlay\",\"size\":10,\"solidity\":0.2}},\"type\":\"bar\"}],\"barpolar\":[{\"marker\":{\"line\":{\"color\":\"#E5ECF6\",\"width\":0.5},\"pattern\":{\"fillmode\":\"overlay\",\"size\":10,\"solidity\":0.2}},\"type\":\"barpolar\"}],\"carpet\":[{\"aaxis\":{\"endlinecolor\":\"#2a3f5f\",\"gridcolor\":\"white\",\"linecolor\":\"white\",\"minorgridcolor\":\"white\",\"startlinecolor\":\"#2a3f5f\"},\"baxis\":{\"endlinecolor\":\"#2a3f5f\",\"gridcolor\":\"white\",\"linecolor\":\"white\",\"minorgridcolor\":\"white\",\"startlinecolor\":\"#2a3f5f\"},\"type\":\"carpet\"}],\"choropleth\":[{\"colorbar\":{\"outlinewidth\":0,\"ticks\":\"\"},\"type\":\"choropleth\"}],\"contour\":[{\"colorbar\":{\"outlinewidth\":0,\"ticks\":\"\"},\"colorscale\":[[0.0,\"#0d0887\"],[0.1111111111111111,\"#46039f\"],[0.2222222222222222,\"#7201a8\"],[0.3333333333333333,\"#9c179e\"],[0.4444444444444444,\"#bd3786\"],[0.5555555555555556,\"#d8576b\"],[0.6666666666666666,\"#ed7953\"],[0.7777777777777778,\"#fb9f3a\"],[0.8888888888888888,\"#fdca26\"],[1.0,\"#f0f921\"]],\"type\":\"contour\"}],\"contourcarpet\":[{\"colorbar\":{\"outlinewidth\":0,\"ticks\":\"\"},\"type\":\"contourcarpet\"}],\"heatmap\":[{\"colorbar\":{\"outlinewidth\":0,\"ticks\":\"\"},\"colorscale\":[[0.0,\"#0d0887\"],[0.1111111111111111,\"#46039f\"],[0.2222222222222222,\"#7201a8\"],[0.3333333333333333,\"#9c179e\"],[0.4444444444444444,\"#bd3786\"],[0.5555555555555556,\"#d8576b\"],[0.6666666666666666,\"#ed7953\"],[0.7777777777777778,\"#fb9f3a\"],[0.8888888888888888,\"#fdca26\"],[1.0,\"#f0f921\"]],\"type\":\"heatmap\"}],\"heatmapgl\":[{\"colorbar\":{\"outlinewidth\":0,\"ticks\":\"\"},\"colorscale\":[[0.0,\"#0d0887\"],[0.1111111111111111,\"#46039f\"],[0.2222222222222222,\"#7201a8\"],[0.3333333333333333,\"#9c179e\"],[0.4444444444444444,\"#bd3786\"],[0.5555555555555556,\"#d8576b\"],[0.6666666666666666,\"#ed7953\"],[0.7777777777777778,\"#fb9f3a\"],[0.8888888888888888,\"#fdca26\"],[1.0,\"#f0f921\"]],\"type\":\"heatmapgl\"}],\"histogram\":[{\"marker\":{\"pattern\":{\"fillmode\":\"overlay\",\"size\":10,\"solidity\":0.2}},\"type\":\"histogram\"}],\"histogram2d\":[{\"colorbar\":{\"outlinewidth\":0,\"ticks\":\"\"},\"colorscale\":[[0.0,\"#0d0887\"],[0.1111111111111111,\"#46039f\"],[0.2222222222222222,\"#7201a8\"],[0.3333333333333333,\"#9c179e\"],[0.4444444444444444,\"#bd3786\"],[0.5555555555555556,\"#d8576b\"],[0.6666666666666666,\"#ed7953\"],[0.7777777777777778,\"#fb9f3a\"],[0.8888888888888888,\"#fdca26\"],[1.0,\"#f0f921\"]],\"type\":\"histogram2d\"}],\"histogram2dcontour\":[{\"colorbar\":{\"outlinewidth\":0,\"ticks\":\"\"},\"colorscale\":[[0.0,\"#0d0887\"],[0.1111111111111111,\"#46039f\"],[0.2222222222222222,\"#7201a8\"],[0.3333333333333333,\"#9c179e\"],[0.4444444444444444,\"#bd3786\"],[0.5555555555555556,\"#d8576b\"],[0.6666666666666666,\"#ed7953\"],[0.7777777777777778,\"#fb9f3a\"],[0.8888888888888888,\"#fdca26\"],[1.0,\"#f0f921\"]],\"type\":\"histogram2dcontour\"}],\"mesh3d\":[{\"colorbar\":{\"outlinewidth\":0,\"ticks\":\"\"},\"type\":\"mesh3d\"}],\"parcoords\":[{\"line\":{\"colorbar\":{\"outlinewidth\":0,\"ticks\":\"\"}},\"type\":\"parcoords\"}],\"pie\":[{\"automargin\":true,\"type\":\"pie\"}],\"scatter\":[{\"marker\":{\"colorbar\":{\"outlinewidth\":0,\"ticks\":\"\"}},\"type\":\"scatter\"}],\"scatter3d\":[{\"line\":{\"colorbar\":{\"outlinewidth\":0,\"ticks\":\"\"}},\"marker\":{\"colorbar\":{\"outlinewidth\":0,\"ticks\":\"\"}},\"type\":\"scatter3d\"}],\"scattercarpet\":[{\"marker\":{\"colorbar\":{\"outlinewidth\":0,\"ticks\":\"\"}},\"type\":\"scattercarpet\"}],\"scattergeo\":[{\"marker\":{\"colorbar\":{\"outlinewidth\":0,\"ticks\":\"\"}},\"type\":\"scattergeo\"}],\"scattergl\":[{\"marker\":{\"colorbar\":{\"outlinewidth\":0,\"ticks\":\"\"}},\"type\":\"scattergl\"}],\"scattermapbox\":[{\"marker\":{\"colorbar\":{\"outlinewidth\":0,\"ticks\":\"\"}},\"type\":\"scattermapbox\"}],\"scatterpolar\":[{\"marker\":{\"colorbar\":{\"outlinewidth\":0,\"ticks\":\"\"}},\"type\":\"scatterpolar\"}],\"scatterpolargl\":[{\"marker\":{\"colorbar\":{\"outlinewidth\":0,\"ticks\":\"\"}},\"type\":\"scatterpolargl\"}],\"scatterternary\":[{\"marker\":{\"colorbar\":{\"outlinewidth\":0,\"ticks\":\"\"}},\"type\":\"scatterternary\"}],\"surface\":[{\"colorbar\":{\"outlinewidth\":0,\"ticks\":\"\"},\"colorscale\":[[0.0,\"#0d0887\"],[0.1111111111111111,\"#46039f\"],[0.2222222222222222,\"#7201a8\"],[0.3333333333333333,\"#9c179e\"],[0.4444444444444444,\"#bd3786\"],[0.5555555555555556,\"#d8576b\"],[0.6666666666666666,\"#ed7953\"],[0.7777777777777778,\"#fb9f3a\"],[0.8888888888888888,\"#fdca26\"],[1.0,\"#f0f921\"]],\"type\":\"surface\"}],\"table\":[{\"cells\":{\"fill\":{\"color\":\"#EBF0F8\"},\"line\":{\"color\":\"white\"}},\"header\":{\"fill\":{\"color\":\"#C8D4E3\"},\"line\":{\"color\":\"white\"}},\"type\":\"table\"}]},\"layout\":{\"annotationdefaults\":{\"arrowcolor\":\"#2a3f5f\",\"arrowhead\":0,\"arrowwidth\":1},\"autotypenumbers\":\"strict\",\"coloraxis\":{\"colorbar\":{\"outlinewidth\":0,\"ticks\":\"\"}},\"colorscale\":{\"diverging\":[[0,\"#8e0152\"],[0.1,\"#c51b7d\"],[0.2,\"#de77ae\"],[0.3,\"#f1b6da\"],[0.4,\"#fde0ef\"],[0.5,\"#f7f7f7\"],[0.6,\"#e6f5d0\"],[0.7,\"#b8e186\"],[0.8,\"#7fbc41\"],[0.9,\"#4d9221\"],[1,\"#276419\"]],\"sequential\":[[0.0,\"#0d0887\"],[0.1111111111111111,\"#46039f\"],[0.2222222222222222,\"#7201a8\"],[0.3333333333333333,\"#9c179e\"],[0.4444444444444444,\"#bd3786\"],[0.5555555555555556,\"#d8576b\"],[0.6666666666666666,\"#ed7953\"],[0.7777777777777778,\"#fb9f3a\"],[0.8888888888888888,\"#fdca26\"],[1.0,\"#f0f921\"]],\"sequentialminus\":[[0.0,\"#0d0887\"],[0.1111111111111111,\"#46039f\"],[0.2222222222222222,\"#7201a8\"],[0.3333333333333333,\"#9c179e\"],[0.4444444444444444,\"#bd3786\"],[0.5555555555555556,\"#d8576b\"],[0.6666666666666666,\"#ed7953\"],[0.7777777777777778,\"#fb9f3a\"],[0.8888888888888888,\"#fdca26\"],[1.0,\"#f0f921\"]]},\"colorway\":[\"#636efa\",\"#EF553B\",\"#00cc96\",\"#ab63fa\",\"#FFA15A\",\"#19d3f3\",\"#FF6692\",\"#B6E880\",\"#FF97FF\",\"#FECB52\"],\"font\":{\"color\":\"#2a3f5f\"},\"geo\":{\"bgcolor\":\"white\",\"lakecolor\":\"white\",\"landcolor\":\"#E5ECF6\",\"showlakes\":true,\"showland\":true,\"subunitcolor\":\"white\"},\"hoverlabel\":{\"align\":\"left\"},\"hovermode\":\"closest\",\"mapbox\":{\"style\":\"light\"},\"paper_bgcolor\":\"white\",\"plot_bgcolor\":\"#E5ECF6\",\"polar\":{\"angularaxis\":{\"gridcolor\":\"white\",\"linecolor\":\"white\",\"ticks\":\"\"},\"bgcolor\":\"#E5ECF6\",\"radialaxis\":{\"gridcolor\":\"white\",\"linecolor\":\"white\",\"ticks\":\"\"}},\"scene\":{\"xaxis\":{\"backgroundcolor\":\"#E5ECF6\",\"gridcolor\":\"white\",\"gridwidth\":2,\"linecolor\":\"white\",\"showbackground\":true,\"ticks\":\"\",\"zerolinecolor\":\"white\"},\"yaxis\":{\"backgroundcolor\":\"#E5ECF6\",\"gridcolor\":\"white\",\"gridwidth\":2,\"linecolor\":\"white\",\"showbackground\":true,\"ticks\":\"\",\"zerolinecolor\":\"white\"},\"zaxis\":{\"backgroundcolor\":\"#E5ECF6\",\"gridcolor\":\"white\",\"gridwidth\":2,\"linecolor\":\"white\",\"showbackground\":true,\"ticks\":\"\",\"zerolinecolor\":\"white\"}},\"shapedefaults\":{\"line\":{\"color\":\"#2a3f5f\"}},\"ternary\":{\"aaxis\":{\"gridcolor\":\"white\",\"linecolor\":\"white\",\"ticks\":\"\"},\"baxis\":{\"gridcolor\":\"white\",\"linecolor\":\"white\",\"ticks\":\"\"},\"bgcolor\":\"#E5ECF6\",\"caxis\":{\"gridcolor\":\"white\",\"linecolor\":\"white\",\"ticks\":\"\"}},\"title\":{\"x\":0.05},\"xaxis\":{\"automargin\":true,\"gridcolor\":\"white\",\"linecolor\":\"white\",\"ticks\":\"\",\"title\":{\"standoff\":15},\"zerolinecolor\":\"white\",\"zerolinewidth\":2},\"yaxis\":{\"automargin\":true,\"gridcolor\":\"white\",\"linecolor\":\"white\",\"ticks\":\"\",\"title\":{\"standoff\":15},\"zerolinecolor\":\"white\",\"zerolinewidth\":2}}},\"xaxis\":{\"anchor\":\"y\",\"domain\":[0.0,1.0],\"type\":\"linear\"},\"yaxis\":{\"anchor\":\"x\",\"autorange\":\"reversed\",\"domain\":[0.0,1.0],\"title\":{\"text\":\"Session\"}}},                        {\"responsive\": true}                    ).then(function(){\n",
       "                            \n",
       "var gd = document.getElementById('4598faf7-fdce-47e8-bb3a-3ce7be7df825');\n",
       "var x = new MutationObserver(function (mutations, observer) {{\n",
       "        var display = window.getComputedStyle(gd).display;\n",
       "        if (!display || display === 'none') {{\n",
       "            console.log([gd, 'removed!']);\n",
       "            Plotly.purge(gd);\n",
       "            observer.disconnect();\n",
       "        }}\n",
       "}});\n",
       "\n",
       "// Listen for the removal of the full notebook cells\n",
       "var notebookContainer = gd.closest('#notebook-container');\n",
       "if (notebookContainer) {{\n",
       "    x.observe(notebookContainer, {childList: true});\n",
       "}}\n",
       "\n",
       "// Listen for the clearing of the current output cell\n",
       "var outputEl = gd.closest('.output');\n",
       "if (outputEl) {{\n",
       "    x.observe(outputEl, {childList: true});\n",
       "}}\n",
       "\n",
       "                        })                };                });            </script>        </div>"
      ]
     },
     "metadata": {},
     "output_type": "display_data"
    }
   ],
   "source": [
    "sch_data = pd.DataFrame([\n",
    "    dict(Session=sess_times[0], Start=0, Finish=5, Tracer=\"NA\", color=\"1\"),\n",
    "    dict(Session=sess_times[1], Start=0, Finish=5, Tracer=\"NA\", color=\"1\"),\n",
    "    dict(Session=sess_times[2], Start=0, Finish=5, Tracer=\"NA\", color=\"1\"),\n",
    "    dict(Session=sess_times[3], Start=0, Finish=5, Tracer=\"NA\", color=\"1\"),\n",
    "    dict(Session=sess_times[4], Start=0, Finish=5, Tracer=\"NA\", color=\"1\"),\n",
    "    dict(Session=sess_times[5], Start=0, Finish=5, Tracer=\"NA\", color=\"1\"),\n",
    "    dict(Session=sess_times[6], Start=0, Finish=5, Tracer=\"NA\", color=\"1\"),\n",
    "    dict(Session=sess_times[7], Start=0, Finish=5, Tracer=\"NA\", color=\"1\"),\n",
    "    dict(Session=sess_times[8], Start=0, Finish=5, Tracer=\"NA\", color=\"1\"),\n",
    "    dict(Session=sess_times[9], Start=0, Finish=5, Tracer=\"NA\", color=\"1\"),\n",
    "    dict(Session=sess_times[10], Start=0, Finish=5, Tracer=\"NA\", color=\"1\"),\n",
    "    dict(Session=sess_times[11], Start=0, Finish=5, Tracer=\"NA\", color=\"1\"),\n",
    "    dict(Session=sess_times[12], Start=0, Finish=5, Tracer=\"NA\", color=\"1\"),\n",
    "    dict(Session=sess_times[13], Start=0, Finish=5, Tracer=\"NA\", color=\"1\"),\n",
    "    dict(Session=sess_times[14], Start=0, Finish=5, Tracer=\"NA\", color=\"1\"),\n",
    "    dict(Session=sess_times[15], Start=0, Finish=5, Tracer=\"NA\", color=\"1\"),\n",
    "    dict(Session=sess_times[16], Start=0, Finish=5, Tracer=\"NA\", color=\"1\")\n",
    "])\n",
    "\n",
    "#Graph solution\n",
    "sch = pd.read_csv(\"schedule_maximize_solution.csv\",\n",
    "                  index_col=0).T #transpose to get days as columns\n",
    "#Add each scheduled scan to calendar\n",
    "for column in sch:\n",
    "    day = sch[column]\n",
    "    for entry in day:\n",
    "        if entry == entry: #avoids NaN's created by transpose\n",
    "            ent_l = entry.replace(\" \",\"\").replace(\"[\",\"\").replace(\"]\",\"\").split(\",\")\n",
    "            if int(ent_l[3]) == 1:\n",
    "                sch_entry = dict(Session=sess_times[int(ent_l[2])],\n",
    "                                Start=int(ent_l[0]), Finish=int(ent_l[0])+1,\n",
    "                                Tracer=tracers_names[int(ent_l[1])], \n",
    "                                 color=tracers_colors[int(ent_l[1])])\n",
    "                sch_data.loc[len(sch_data.index)] = sch_entry\n",
    "\n",
    "sch_data['delta'] = sch_data['Finish'] - sch_data['Start']\n",
    "sch_data = sch_data.astype({'Tracer': 'string', 'color': 'string'})\n",
    "\n",
    "fig = px.timeline(sch_data, x_start=\"Start\", x_end=\"Finish\", y=\"Session\",\n",
    "                 color=\"color\", text=\"Tracer\")\n",
    "fig.update_yaxes(autorange=\"reversed\")\n",
    "fig.layout.xaxis.type = 'linear'\n",
    "for d in fig.data:\n",
    "  filt = sch_data['color'] == d.name\n",
    "  d.x = sch_data[filt]['delta'].tolist()\n",
    "fig.show()"
   ]
  },
  {
   "cell_type": "code",
   "execution_count": null,
   "id": "ab92d505",
   "metadata": {},
   "outputs": [],
   "source": [
    "#fig.to_dict()"
   ]
  },
  {
   "cell_type": "code",
   "execution_count": null,
   "id": "001682a0",
   "metadata": {},
   "outputs": [],
   "source": [
    "file_name = 'scheduling_max_graph'\n",
    "fig.write_html(f\"{file_name}.html\")"
   ]
  }
 ],
 "metadata": {
  "kernelspec": {
   "display_name": "Python 3 (ipykernel)",
   "language": "python",
   "name": "python3"
  },
  "language_info": {
   "codemirror_mode": {
    "name": "ipython",
    "version": 3
   },
   "file_extension": ".py",
   "mimetype": "text/x-python",
   "name": "python",
   "nbconvert_exporter": "python",
   "pygments_lexer": "ipython3",
   "version": "3.9.7"
  }
 },
 "nbformat": 4,
 "nbformat_minor": 5
}
